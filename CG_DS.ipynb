{
 "cells": [
  {
   "cell_type": "code",
   "execution_count": 1,
   "metadata": {},
   "outputs": [
    {
     "data": {
      "text/plain": [
       "'C:\\\\Users\\\\13154'"
      ]
     },
     "execution_count": 1,
     "metadata": {},
     "output_type": "execute_result"
    }
   ],
   "source": [
    "pwd\n"
   ]
  },
  {
   "cell_type": "code",
   "execution_count": 2,
   "metadata": {},
   "outputs": [],
   "source": [
    "#IMPORTING SOME NECESSARY LIBRARIES\n",
    "\n",
    "%matplotlib inline\n",
    "import pandas as pd\n",
    "import numpy as np\n",
    "import matplotlib.pyplot as plt     "
   ]
  },
  {
   "cell_type": "code",
   "execution_count": 3,
   "metadata": {},
   "outputs": [],
   "source": [
    "#THIS WILL BE OUR USER DEMOGRAPHIC DATA\n",
    "\n",
    "df_user = pd.read_csv(\"user_info.csv\") \n"
   ]
  },
  {
   "cell_type": "code",
   "execution_count": 4,
   "metadata": {},
   "outputs": [
    {
     "data": {
      "text/plain": [
       "(1000, 25)"
      ]
     },
     "execution_count": 4,
     "metadata": {},
     "output_type": "execute_result"
    }
   ],
   "source": [
    "# WE HAVE AROUND 1000 ROWS AND 25 COLUMNS\n",
    "\n",
    "df_user.shape "
   ]
  },
  {
   "cell_type": "code",
   "execution_count": 5,
   "metadata": {},
   "outputs": [
    {
     "data": {
      "text/html": [
       "<div>\n",
       "<style scoped>\n",
       "    .dataframe tbody tr th:only-of-type {\n",
       "        vertical-align: middle;\n",
       "    }\n",
       "\n",
       "    .dataframe tbody tr th {\n",
       "        vertical-align: top;\n",
       "    }\n",
       "\n",
       "    .dataframe thead th {\n",
       "        text-align: right;\n",
       "    }\n",
       "</style>\n",
       "<table border=\"1\" class=\"dataframe\">\n",
       "  <thead>\n",
       "    <tr style=\"text-align: right;\">\n",
       "      <th></th>\n",
       "      <th>user_id</th>\n",
       "      <th>favorite_pizza_topping</th>\n",
       "      <th>favorite_ice_cream_flavor</th>\n",
       "      <th>apm</th>\n",
       "      <th>income</th>\n",
       "      <th>grade</th>\n",
       "      <th>height</th>\n",
       "      <th>reaction_time</th>\n",
       "      <th>city</th>\n",
       "      <th>age</th>\n",
       "      <th>...</th>\n",
       "      <th>9</th>\n",
       "      <th>4</th>\n",
       "      <th>13</th>\n",
       "      <th>14</th>\n",
       "      <th>0</th>\n",
       "      <th>11</th>\n",
       "      <th>6</th>\n",
       "      <th>3</th>\n",
       "      <th>12</th>\n",
       "      <th>7</th>\n",
       "    </tr>\n",
       "  </thead>\n",
       "  <tbody>\n",
       "    <tr>\n",
       "      <th>0</th>\n",
       "      <td>78389</td>\n",
       "      <td>Pineapple</td>\n",
       "      <td>Red Velvet</td>\n",
       "      <td>154</td>\n",
       "      <td>100</td>\n",
       "      <td>Z</td>\n",
       "      <td>176</td>\n",
       "      <td>353</td>\n",
       "      <td>A-town</td>\n",
       "      <td>47</td>\n",
       "      <td>...</td>\n",
       "      <td>NaN</td>\n",
       "      <td>NaN</td>\n",
       "      <td>NaN</td>\n",
       "      <td>NaN</td>\n",
       "      <td>NaN</td>\n",
       "      <td>NaN</td>\n",
       "      <td>NaN</td>\n",
       "      <td>NaN</td>\n",
       "      <td>NaN</td>\n",
       "      <td>NaN</td>\n",
       "    </tr>\n",
       "    <tr>\n",
       "      <th>1</th>\n",
       "      <td>79235</td>\n",
       "      <td>Ham</td>\n",
       "      <td>Red Velvet</td>\n",
       "      <td>193</td>\n",
       "      <td>95</td>\n",
       "      <td>Y</td>\n",
       "      <td>182</td>\n",
       "      <td>250</td>\n",
       "      <td>C-borough</td>\n",
       "      <td>20</td>\n",
       "      <td>...</td>\n",
       "      <td>NaN</td>\n",
       "      <td>NaN</td>\n",
       "      <td>NaN</td>\n",
       "      <td>NaN</td>\n",
       "      <td>NaN</td>\n",
       "      <td>NaN</td>\n",
       "      <td>NaN</td>\n",
       "      <td>NaN</td>\n",
       "      <td>NaN</td>\n",
       "      <td>NaN</td>\n",
       "    </tr>\n",
       "    <tr>\n",
       "      <th>2</th>\n",
       "      <td>78816</td>\n",
       "      <td>Pineapple</td>\n",
       "      <td>NaN</td>\n",
       "      <td>180</td>\n",
       "      <td>97</td>\n",
       "      <td>Z</td>\n",
       "      <td>177</td>\n",
       "      <td>311</td>\n",
       "      <td>A-town</td>\n",
       "      <td>67</td>\n",
       "      <td>...</td>\n",
       "      <td>NaN</td>\n",
       "      <td>NaN</td>\n",
       "      <td>NaN</td>\n",
       "      <td>NaN</td>\n",
       "      <td>NaN</td>\n",
       "      <td>NaN</td>\n",
       "      <td>NaN</td>\n",
       "      <td>NaN</td>\n",
       "      <td>NaN</td>\n",
       "      <td>NaN</td>\n",
       "    </tr>\n",
       "    <tr>\n",
       "      <th>3</th>\n",
       "      <td>78961</td>\n",
       "      <td>Black olives</td>\n",
       "      <td>Peach</td>\n",
       "      <td>168</td>\n",
       "      <td>99</td>\n",
       "      <td>Z</td>\n",
       "      <td>184</td>\n",
       "      <td>320</td>\n",
       "      <td>A-town</td>\n",
       "      <td>48</td>\n",
       "      <td>...</td>\n",
       "      <td>NaN</td>\n",
       "      <td>NaN</td>\n",
       "      <td>NaN</td>\n",
       "      <td>NaN</td>\n",
       "      <td>NaN</td>\n",
       "      <td>NaN</td>\n",
       "      <td>NaN</td>\n",
       "      <td>NaN</td>\n",
       "      <td>NaN</td>\n",
       "      <td>NaN</td>\n",
       "    </tr>\n",
       "    <tr>\n",
       "      <th>4</th>\n",
       "      <td>78427</td>\n",
       "      <td>Red peppers</td>\n",
       "      <td>Red Velvet</td>\n",
       "      <td>207</td>\n",
       "      <td>105</td>\n",
       "      <td>X</td>\n",
       "      <td>999</td>\n",
       "      <td>329</td>\n",
       "      <td>A-town</td>\n",
       "      <td>35</td>\n",
       "      <td>...</td>\n",
       "      <td>NaN</td>\n",
       "      <td>NaN</td>\n",
       "      <td>NaN</td>\n",
       "      <td>NaN</td>\n",
       "      <td>NaN</td>\n",
       "      <td>NaN</td>\n",
       "      <td>NaN</td>\n",
       "      <td>NaN</td>\n",
       "      <td>NaN</td>\n",
       "      <td>NaN</td>\n",
       "    </tr>\n",
       "  </tbody>\n",
       "</table>\n",
       "<p>5 rows × 25 columns</p>\n",
       "</div>"
      ],
      "text/plain": [
       "   user_id favorite_pizza_topping favorite_ice_cream_flavor  apm  income  \\\n",
       "0    78389              Pineapple                Red Velvet  154     100   \n",
       "1    79235                    Ham                Red Velvet  193      95   \n",
       "2    78816              Pineapple                       NaN  180      97   \n",
       "3    78961           Black olives                     Peach  168      99   \n",
       "4    78427            Red peppers                Red Velvet  207     105   \n",
       "\n",
       "  grade  height  reaction_time       city  age ...   9   4  13  14   0  11  \\\n",
       "0     Z     176            353     A-town   47 ... NaN NaN NaN NaN NaN NaN   \n",
       "1     Y     182            250  C-borough   20 ... NaN NaN NaN NaN NaN NaN   \n",
       "2     Z     177            311     A-town   67 ... NaN NaN NaN NaN NaN NaN   \n",
       "3     Z     184            320     A-town   48 ... NaN NaN NaN NaN NaN NaN   \n",
       "4     X     999            329     A-town   35 ... NaN NaN NaN NaN NaN NaN   \n",
       "\n",
       "    6   3  12   7  \n",
       "0 NaN NaN NaN NaN  \n",
       "1 NaN NaN NaN NaN  \n",
       "2 NaN NaN NaN NaN  \n",
       "3 NaN NaN NaN NaN  \n",
       "4 NaN NaN NaN NaN  \n",
       "\n",
       "[5 rows x 25 columns]"
      ]
     },
     "execution_count": 5,
     "metadata": {},
     "output_type": "execute_result"
    }
   ],
   "source": [
    "df_user.head() # LETS CHECK HOW IT LOOKS"
   ]
  },
  {
   "cell_type": "markdown",
   "metadata": {},
   "source": [
    "# STAGE 1: DATA CLEANING AND PREPARATION"
   ]
  },
  {
   "cell_type": "markdown",
   "metadata": {},
   "source": [
    "## Can see some Unnecessary Columns, ex: 9,4,13 etc.. removing them is recommended"
   ]
  },
  {
   "cell_type": "code",
   "execution_count": 6,
   "metadata": {},
   "outputs": [],
   "source": [
    "columns_drop = list(df_user.columns.values) "
   ]
  },
  {
   "cell_type": "code",
   "execution_count": 7,
   "metadata": {},
   "outputs": [],
   "source": [
    "columns_drop = columns_drop[-10:] # LETS DROP ALL THE COLUMNS (10 COLUMNS FROM LAST)"
   ]
  },
  {
   "cell_type": "code",
   "execution_count": 8,
   "metadata": {},
   "outputs": [
    {
     "data": {
      "text/plain": [
       "['9', '4', '13', '14', '0', '11', '6', '3', '12', '7']"
      ]
     },
     "execution_count": 8,
     "metadata": {},
     "output_type": "execute_result"
    }
   ],
   "source": [
    "columns_drop"
   ]
  },
  {
   "cell_type": "code",
   "execution_count": 9,
   "metadata": {},
   "outputs": [],
   "source": [
    "df_user.drop(columns_drop, axis = 1, inplace = True) # dROPPED"
   ]
  },
  {
   "cell_type": "code",
   "execution_count": 10,
   "metadata": {},
   "outputs": [
    {
     "data": {
      "text/html": [
       "<div>\n",
       "<style scoped>\n",
       "    .dataframe tbody tr th:only-of-type {\n",
       "        vertical-align: middle;\n",
       "    }\n",
       "\n",
       "    .dataframe tbody tr th {\n",
       "        vertical-align: top;\n",
       "    }\n",
       "\n",
       "    .dataframe thead th {\n",
       "        text-align: right;\n",
       "    }\n",
       "</style>\n",
       "<table border=\"1\" class=\"dataframe\">\n",
       "  <thead>\n",
       "    <tr style=\"text-align: right;\">\n",
       "      <th></th>\n",
       "      <th>user_id</th>\n",
       "      <th>favorite_pizza_topping</th>\n",
       "      <th>favorite_ice_cream_flavor</th>\n",
       "      <th>apm</th>\n",
       "      <th>income</th>\n",
       "      <th>grade</th>\n",
       "      <th>height</th>\n",
       "      <th>reaction_time</th>\n",
       "      <th>city</th>\n",
       "      <th>age</th>\n",
       "      <th>company</th>\n",
       "      <th>kappa_ability</th>\n",
       "      <th>weight</th>\n",
       "      <th>amount</th>\n",
       "      <th>gregariousness</th>\n",
       "    </tr>\n",
       "  </thead>\n",
       "  <tbody>\n",
       "    <tr>\n",
       "      <th>0</th>\n",
       "      <td>78389</td>\n",
       "      <td>Pineapple</td>\n",
       "      <td>Red Velvet</td>\n",
       "      <td>154</td>\n",
       "      <td>100</td>\n",
       "      <td>Z</td>\n",
       "      <td>176</td>\n",
       "      <td>353</td>\n",
       "      <td>A-town</td>\n",
       "      <td>47</td>\n",
       "      <td>Pause Associates</td>\n",
       "      <td>6291</td>\n",
       "      <td>149</td>\n",
       "      <td>10</td>\n",
       "      <td>48</td>\n",
       "    </tr>\n",
       "    <tr>\n",
       "      <th>1</th>\n",
       "      <td>79235</td>\n",
       "      <td>Ham</td>\n",
       "      <td>Red Velvet</td>\n",
       "      <td>193</td>\n",
       "      <td>95</td>\n",
       "      <td>Y</td>\n",
       "      <td>182</td>\n",
       "      <td>250</td>\n",
       "      <td>C-borough</td>\n",
       "      <td>20</td>\n",
       "      <td>Go LLC</td>\n",
       "      <td>4765</td>\n",
       "      <td>-234</td>\n",
       "      <td>19</td>\n",
       "      <td>62</td>\n",
       "    </tr>\n",
       "    <tr>\n",
       "      <th>2</th>\n",
       "      <td>78816</td>\n",
       "      <td>Pineapple</td>\n",
       "      <td>NaN</td>\n",
       "      <td>180</td>\n",
       "      <td>97</td>\n",
       "      <td>Z</td>\n",
       "      <td>177</td>\n",
       "      <td>311</td>\n",
       "      <td>A-town</td>\n",
       "      <td>67</td>\n",
       "      <td>Pause Associates</td>\n",
       "      <td>4360</td>\n",
       "      <td>145</td>\n",
       "      <td>41</td>\n",
       "      <td>57</td>\n",
       "    </tr>\n",
       "    <tr>\n",
       "      <th>3</th>\n",
       "      <td>78961</td>\n",
       "      <td>Black olives</td>\n",
       "      <td>Peach</td>\n",
       "      <td>168</td>\n",
       "      <td>99</td>\n",
       "      <td>Z</td>\n",
       "      <td>184</td>\n",
       "      <td>320</td>\n",
       "      <td>A-town</td>\n",
       "      <td>48</td>\n",
       "      <td>Pause Associates</td>\n",
       "      <td>3663</td>\n",
       "      <td>148</td>\n",
       "      <td>105</td>\n",
       "      <td>43</td>\n",
       "    </tr>\n",
       "    <tr>\n",
       "      <th>4</th>\n",
       "      <td>78427</td>\n",
       "      <td>Red peppers</td>\n",
       "      <td>Red Velvet</td>\n",
       "      <td>207</td>\n",
       "      <td>105</td>\n",
       "      <td>X</td>\n",
       "      <td>999</td>\n",
       "      <td>329</td>\n",
       "      <td>A-town</td>\n",
       "      <td>35</td>\n",
       "      <td>Pause Associates</td>\n",
       "      <td>149</td>\n",
       "      <td>146</td>\n",
       "      <td>53</td>\n",
       "      <td>58</td>\n",
       "    </tr>\n",
       "  </tbody>\n",
       "</table>\n",
       "</div>"
      ],
      "text/plain": [
       "   user_id favorite_pizza_topping favorite_ice_cream_flavor  apm  income  \\\n",
       "0    78389              Pineapple                Red Velvet  154     100   \n",
       "1    79235                    Ham                Red Velvet  193      95   \n",
       "2    78816              Pineapple                       NaN  180      97   \n",
       "3    78961           Black olives                     Peach  168      99   \n",
       "4    78427            Red peppers                Red Velvet  207     105   \n",
       "\n",
       "  grade  height  reaction_time       city  age           company  \\\n",
       "0     Z     176            353     A-town   47  Pause Associates   \n",
       "1     Y     182            250  C-borough   20            Go LLC   \n",
       "2     Z     177            311     A-town   67  Pause Associates   \n",
       "3     Z     184            320     A-town   48  Pause Associates   \n",
       "4     X     999            329     A-town   35  Pause Associates   \n",
       "\n",
       "   kappa_ability  weight  amount  gregariousness  \n",
       "0           6291     149      10              48  \n",
       "1           4765    -234      19              62  \n",
       "2           4360     145      41              57  \n",
       "3           3663     148     105              43  \n",
       "4            149     146      53              58  "
      ]
     },
     "execution_count": 10,
     "metadata": {},
     "output_type": "execute_result"
    }
   ],
   "source": [
    "df_user.head()"
   ]
  },
  {
   "cell_type": "code",
   "execution_count": 11,
   "metadata": {},
   "outputs": [],
   "source": [
    "# THIS WILL BE OUR CHURN DATA OR THE TARGET\n",
    "\n",
    "df_churn = pd.read_csv(\"churn.csv\") "
   ]
  },
  {
   "cell_type": "code",
   "execution_count": 12,
   "metadata": {},
   "outputs": [],
   "source": [
    "# lETS SORT IT BASED ON THE USER_ID TO MAKE IT COMPATIBLE FOR MERGING WITH OTHER TABLES\n",
    "\n",
    "df_churn.sort_values('user_id',inplace=True) "
   ]
  },
  {
   "cell_type": "code",
   "execution_count": 13,
   "metadata": {},
   "outputs": [
    {
     "data": {
      "text/html": [
       "<div>\n",
       "<style scoped>\n",
       "    .dataframe tbody tr th:only-of-type {\n",
       "        vertical-align: middle;\n",
       "    }\n",
       "\n",
       "    .dataframe tbody tr th {\n",
       "        vertical-align: top;\n",
       "    }\n",
       "\n",
       "    .dataframe thead th {\n",
       "        text-align: right;\n",
       "    }\n",
       "</style>\n",
       "<table border=\"1\" class=\"dataframe\">\n",
       "  <thead>\n",
       "    <tr style=\"text-align: right;\">\n",
       "      <th></th>\n",
       "      <th>user_id</th>\n",
       "      <th>churn</th>\n",
       "    </tr>\n",
       "  </thead>\n",
       "  <tbody>\n",
       "    <tr>\n",
       "      <th>555</th>\n",
       "      <td>78268</td>\n",
       "      <td>no</td>\n",
       "    </tr>\n",
       "    <tr>\n",
       "      <th>624</th>\n",
       "      <td>78269</td>\n",
       "      <td>no</td>\n",
       "    </tr>\n",
       "    <tr>\n",
       "      <th>802</th>\n",
       "      <td>78270</td>\n",
       "      <td>yes</td>\n",
       "    </tr>\n",
       "    <tr>\n",
       "      <th>551</th>\n",
       "      <td>78271</td>\n",
       "      <td>no</td>\n",
       "    </tr>\n",
       "    <tr>\n",
       "      <th>275</th>\n",
       "      <td>78272</td>\n",
       "      <td>no</td>\n",
       "    </tr>\n",
       "    <tr>\n",
       "      <th>263</th>\n",
       "      <td>78273</td>\n",
       "      <td>no</td>\n",
       "    </tr>\n",
       "    <tr>\n",
       "      <th>382</th>\n",
       "      <td>78274</td>\n",
       "      <td>yes</td>\n",
       "    </tr>\n",
       "    <tr>\n",
       "      <th>950</th>\n",
       "      <td>78275</td>\n",
       "      <td>yes</td>\n",
       "    </tr>\n",
       "    <tr>\n",
       "      <th>236</th>\n",
       "      <td>78276</td>\n",
       "      <td>yes</td>\n",
       "    </tr>\n",
       "    <tr>\n",
       "      <th>331</th>\n",
       "      <td>78277</td>\n",
       "      <td>no</td>\n",
       "    </tr>\n",
       "  </tbody>\n",
       "</table>\n",
       "</div>"
      ],
      "text/plain": [
       "     user_id churn\n",
       "555    78268    no\n",
       "624    78269    no\n",
       "802    78270   yes\n",
       "551    78271    no\n",
       "275    78272    no\n",
       "263    78273    no\n",
       "382    78274   yes\n",
       "950    78275   yes\n",
       "236    78276   yes\n",
       "331    78277    no"
      ]
     },
     "execution_count": 13,
     "metadata": {},
     "output_type": "execute_result"
    }
   ],
   "source": [
    "df_churn.head(10)"
   ]
  },
  {
   "cell_type": "code",
   "execution_count": null,
   "metadata": {},
   "outputs": [],
   "source": []
  },
  {
   "cell_type": "markdown",
   "metadata": {},
   "source": [
    "### In future we might merge data from different table It is better to sort the table based on User_ID"
   ]
  },
  {
   "cell_type": "code",
   "execution_count": 14,
   "metadata": {},
   "outputs": [
    {
     "data": {
      "text/plain": [
       "(1000, 15)"
      ]
     },
     "execution_count": 14,
     "metadata": {},
     "output_type": "execute_result"
    }
   ],
   "source": [
    "df_user.sort_values(by = ['user_id'], inplace = True)\n",
    "df_user.shape"
   ]
  },
  {
   "cell_type": "code",
   "execution_count": null,
   "metadata": {},
   "outputs": [],
   "source": []
  },
  {
   "cell_type": "code",
   "execution_count": 15,
   "metadata": {},
   "outputs": [
    {
     "data": {
      "text/html": [
       "<div>\n",
       "<style scoped>\n",
       "    .dataframe tbody tr th:only-of-type {\n",
       "        vertical-align: middle;\n",
       "    }\n",
       "\n",
       "    .dataframe tbody tr th {\n",
       "        vertical-align: top;\n",
       "    }\n",
       "\n",
       "    .dataframe thead th {\n",
       "        text-align: right;\n",
       "    }\n",
       "</style>\n",
       "<table border=\"1\" class=\"dataframe\">\n",
       "  <thead>\n",
       "    <tr style=\"text-align: right;\">\n",
       "      <th></th>\n",
       "      <th>favorite_pizza_topping</th>\n",
       "      <th>favorite_ice_cream_flavor</th>\n",
       "      <th>apm</th>\n",
       "      <th>income</th>\n",
       "      <th>grade</th>\n",
       "      <th>height</th>\n",
       "      <th>reaction_time</th>\n",
       "      <th>city</th>\n",
       "      <th>age</th>\n",
       "      <th>company</th>\n",
       "      <th>kappa_ability</th>\n",
       "      <th>weight</th>\n",
       "      <th>amount</th>\n",
       "      <th>gregariousness</th>\n",
       "    </tr>\n",
       "    <tr>\n",
       "      <th>user_id</th>\n",
       "      <th></th>\n",
       "      <th></th>\n",
       "      <th></th>\n",
       "      <th></th>\n",
       "      <th></th>\n",
       "      <th></th>\n",
       "      <th></th>\n",
       "      <th></th>\n",
       "      <th></th>\n",
       "      <th></th>\n",
       "      <th></th>\n",
       "      <th></th>\n",
       "      <th></th>\n",
       "      <th></th>\n",
       "    </tr>\n",
       "  </thead>\n",
       "  <tbody>\n",
       "    <tr>\n",
       "      <th>78268</th>\n",
       "      <td>Spinach</td>\n",
       "      <td>Mint</td>\n",
       "      <td>171</td>\n",
       "      <td>104</td>\n",
       "      <td>X</td>\n",
       "      <td>177</td>\n",
       "      <td>295</td>\n",
       "      <td>C-borough</td>\n",
       "      <td>52</td>\n",
       "      <td>Pause Associates</td>\n",
       "      <td>3363</td>\n",
       "      <td>144</td>\n",
       "      <td>19</td>\n",
       "      <td>57</td>\n",
       "    </tr>\n",
       "    <tr>\n",
       "      <th>78269</th>\n",
       "      <td>Oregano</td>\n",
       "      <td>Pistachio</td>\n",
       "      <td>218</td>\n",
       "      <td>96</td>\n",
       "      <td>Y</td>\n",
       "      <td>178</td>\n",
       "      <td>305</td>\n",
       "      <td>C-borough</td>\n",
       "      <td>33</td>\n",
       "      <td>Pause Associates</td>\n",
       "      <td>1720</td>\n",
       "      <td>147</td>\n",
       "      <td>57</td>\n",
       "      <td>48</td>\n",
       "    </tr>\n",
       "    <tr>\n",
       "      <th>78270</th>\n",
       "      <td>NaN</td>\n",
       "      <td>NaN</td>\n",
       "      <td>175</td>\n",
       "      <td>114</td>\n",
       "      <td>X</td>\n",
       "      <td>178</td>\n",
       "      <td>318</td>\n",
       "      <td>A-town</td>\n",
       "      <td>37</td>\n",
       "      <td>Pause Associates</td>\n",
       "      <td>141</td>\n",
       "      <td>152</td>\n",
       "      <td>19</td>\n",
       "      <td>58</td>\n",
       "    </tr>\n",
       "    <tr>\n",
       "      <th>78271</th>\n",
       "      <td>Red peppers</td>\n",
       "      <td>Coffee</td>\n",
       "      <td>184</td>\n",
       "      <td>101</td>\n",
       "      <td>Z</td>\n",
       "      <td>185</td>\n",
       "      <td>295</td>\n",
       "      <td>A-town</td>\n",
       "      <td>44</td>\n",
       "      <td>Pause Associates</td>\n",
       "      <td>920</td>\n",
       "      <td>153</td>\n",
       "      <td>79</td>\n",
       "      <td>52</td>\n",
       "    </tr>\n",
       "    <tr>\n",
       "      <th>78272</th>\n",
       "      <td>Chicken</td>\n",
       "      <td>Coffee</td>\n",
       "      <td>210</td>\n",
       "      <td>100</td>\n",
       "      <td>Z</td>\n",
       "      <td>180</td>\n",
       "      <td>311</td>\n",
       "      <td>A-town</td>\n",
       "      <td>34</td>\n",
       "      <td>Go LLC</td>\n",
       "      <td>1453</td>\n",
       "      <td>154</td>\n",
       "      <td>29</td>\n",
       "      <td>56</td>\n",
       "    </tr>\n",
       "  </tbody>\n",
       "</table>\n",
       "</div>"
      ],
      "text/plain": [
       "        favorite_pizza_topping favorite_ice_cream_flavor  apm  income grade  \\\n",
       "user_id                                                                       \n",
       "78268                  Spinach                      Mint  171     104     X   \n",
       "78269                  Oregano                 Pistachio  218      96     Y   \n",
       "78270                      NaN                       NaN  175     114     X   \n",
       "78271              Red peppers                    Coffee  184     101     Z   \n",
       "78272                  Chicken                    Coffee  210     100     Z   \n",
       "\n",
       "         height  reaction_time       city  age           company  \\\n",
       "user_id                                                            \n",
       "78268       177            295  C-borough   52  Pause Associates   \n",
       "78269       178            305  C-borough   33  Pause Associates   \n",
       "78270       178            318     A-town   37  Pause Associates   \n",
       "78271       185            295     A-town   44  Pause Associates   \n",
       "78272       180            311     A-town   34            Go LLC   \n",
       "\n",
       "         kappa_ability  weight  amount  gregariousness  \n",
       "user_id                                                 \n",
       "78268             3363     144      19              57  \n",
       "78269             1720     147      57              48  \n",
       "78270              141     152      19              58  \n",
       "78271              920     153      79              52  \n",
       "78272             1453     154      29              56  "
      ]
     },
     "execution_count": 15,
     "metadata": {},
     "output_type": "execute_result"
    }
   ],
   "source": [
    "# USER_ID WILL BE OUR INDEX WHICH IS GOOD FOR REFERENCE\n",
    "\n",
    "df_user.set_index('user_id',inplace=True) \n",
    "df_user.head()"
   ]
  },
  {
   "cell_type": "code",
   "execution_count": 16,
   "metadata": {},
   "outputs": [],
   "source": [
    "#LETS PLACE CHURN IN THE USER DATA FOR EXPLORATORY ANALYSIS AND CORRELATION DETECTION\n",
    "\n",
    "df_user[\"churn\"] = df_churn[\"churn\"].values "
   ]
  },
  {
   "cell_type": "code",
   "execution_count": 17,
   "metadata": {},
   "outputs": [
    {
     "data": {
      "text/html": [
       "<div>\n",
       "<style scoped>\n",
       "    .dataframe tbody tr th:only-of-type {\n",
       "        vertical-align: middle;\n",
       "    }\n",
       "\n",
       "    .dataframe tbody tr th {\n",
       "        vertical-align: top;\n",
       "    }\n",
       "\n",
       "    .dataframe thead th {\n",
       "        text-align: right;\n",
       "    }\n",
       "</style>\n",
       "<table border=\"1\" class=\"dataframe\">\n",
       "  <thead>\n",
       "    <tr style=\"text-align: right;\">\n",
       "      <th></th>\n",
       "      <th>favorite_pizza_topping</th>\n",
       "      <th>favorite_ice_cream_flavor</th>\n",
       "      <th>apm</th>\n",
       "      <th>income</th>\n",
       "      <th>grade</th>\n",
       "      <th>height</th>\n",
       "      <th>reaction_time</th>\n",
       "      <th>city</th>\n",
       "      <th>age</th>\n",
       "      <th>company</th>\n",
       "      <th>kappa_ability</th>\n",
       "      <th>weight</th>\n",
       "      <th>amount</th>\n",
       "      <th>gregariousness</th>\n",
       "      <th>churn</th>\n",
       "    </tr>\n",
       "    <tr>\n",
       "      <th>user_id</th>\n",
       "      <th></th>\n",
       "      <th></th>\n",
       "      <th></th>\n",
       "      <th></th>\n",
       "      <th></th>\n",
       "      <th></th>\n",
       "      <th></th>\n",
       "      <th></th>\n",
       "      <th></th>\n",
       "      <th></th>\n",
       "      <th></th>\n",
       "      <th></th>\n",
       "      <th></th>\n",
       "      <th></th>\n",
       "      <th></th>\n",
       "    </tr>\n",
       "  </thead>\n",
       "  <tbody>\n",
       "    <tr>\n",
       "      <th>78268</th>\n",
       "      <td>Spinach</td>\n",
       "      <td>Mint</td>\n",
       "      <td>171</td>\n",
       "      <td>104</td>\n",
       "      <td>X</td>\n",
       "      <td>177</td>\n",
       "      <td>295</td>\n",
       "      <td>C-borough</td>\n",
       "      <td>52</td>\n",
       "      <td>Pause Associates</td>\n",
       "      <td>3363</td>\n",
       "      <td>144</td>\n",
       "      <td>19</td>\n",
       "      <td>57</td>\n",
       "      <td>no</td>\n",
       "    </tr>\n",
       "    <tr>\n",
       "      <th>78269</th>\n",
       "      <td>Oregano</td>\n",
       "      <td>Pistachio</td>\n",
       "      <td>218</td>\n",
       "      <td>96</td>\n",
       "      <td>Y</td>\n",
       "      <td>178</td>\n",
       "      <td>305</td>\n",
       "      <td>C-borough</td>\n",
       "      <td>33</td>\n",
       "      <td>Pause Associates</td>\n",
       "      <td>1720</td>\n",
       "      <td>147</td>\n",
       "      <td>57</td>\n",
       "      <td>48</td>\n",
       "      <td>no</td>\n",
       "    </tr>\n",
       "    <tr>\n",
       "      <th>78270</th>\n",
       "      <td>NaN</td>\n",
       "      <td>NaN</td>\n",
       "      <td>175</td>\n",
       "      <td>114</td>\n",
       "      <td>X</td>\n",
       "      <td>178</td>\n",
       "      <td>318</td>\n",
       "      <td>A-town</td>\n",
       "      <td>37</td>\n",
       "      <td>Pause Associates</td>\n",
       "      <td>141</td>\n",
       "      <td>152</td>\n",
       "      <td>19</td>\n",
       "      <td>58</td>\n",
       "      <td>yes</td>\n",
       "    </tr>\n",
       "    <tr>\n",
       "      <th>78271</th>\n",
       "      <td>Red peppers</td>\n",
       "      <td>Coffee</td>\n",
       "      <td>184</td>\n",
       "      <td>101</td>\n",
       "      <td>Z</td>\n",
       "      <td>185</td>\n",
       "      <td>295</td>\n",
       "      <td>A-town</td>\n",
       "      <td>44</td>\n",
       "      <td>Pause Associates</td>\n",
       "      <td>920</td>\n",
       "      <td>153</td>\n",
       "      <td>79</td>\n",
       "      <td>52</td>\n",
       "      <td>no</td>\n",
       "    </tr>\n",
       "    <tr>\n",
       "      <th>78272</th>\n",
       "      <td>Chicken</td>\n",
       "      <td>Coffee</td>\n",
       "      <td>210</td>\n",
       "      <td>100</td>\n",
       "      <td>Z</td>\n",
       "      <td>180</td>\n",
       "      <td>311</td>\n",
       "      <td>A-town</td>\n",
       "      <td>34</td>\n",
       "      <td>Go LLC</td>\n",
       "      <td>1453</td>\n",
       "      <td>154</td>\n",
       "      <td>29</td>\n",
       "      <td>56</td>\n",
       "      <td>no</td>\n",
       "    </tr>\n",
       "    <tr>\n",
       "      <th>78273</th>\n",
       "      <td>Sausage</td>\n",
       "      <td>Cookies and Cream</td>\n",
       "      <td>250</td>\n",
       "      <td>94</td>\n",
       "      <td>Y</td>\n",
       "      <td>175</td>\n",
       "      <td>314</td>\n",
       "      <td>B-ville</td>\n",
       "      <td>49</td>\n",
       "      <td>NaN</td>\n",
       "      <td>1563</td>\n",
       "      <td>154</td>\n",
       "      <td>2</td>\n",
       "      <td>51</td>\n",
       "      <td>no</td>\n",
       "    </tr>\n",
       "    <tr>\n",
       "      <th>78274</th>\n",
       "      <td>Tomato</td>\n",
       "      <td>Mint</td>\n",
       "      <td>223</td>\n",
       "      <td>111</td>\n",
       "      <td>Y</td>\n",
       "      <td>181</td>\n",
       "      <td>287</td>\n",
       "      <td>B-ville</td>\n",
       "      <td>41</td>\n",
       "      <td>Go LLC</td>\n",
       "      <td>2219</td>\n",
       "      <td>159</td>\n",
       "      <td>2</td>\n",
       "      <td>47</td>\n",
       "      <td>yes</td>\n",
       "    </tr>\n",
       "    <tr>\n",
       "      <th>78275</th>\n",
       "      <td>Spinach</td>\n",
       "      <td>Cookies and Cream</td>\n",
       "      <td>168</td>\n",
       "      <td>114</td>\n",
       "      <td>Y</td>\n",
       "      <td>173</td>\n",
       "      <td>277</td>\n",
       "      <td>A-town</td>\n",
       "      <td>55</td>\n",
       "      <td>Pause Associates</td>\n",
       "      <td>1788</td>\n",
       "      <td>162</td>\n",
       "      <td>130</td>\n",
       "      <td>45</td>\n",
       "      <td>yes</td>\n",
       "    </tr>\n",
       "    <tr>\n",
       "      <th>78276</th>\n",
       "      <td>Sausage</td>\n",
       "      <td>NaN</td>\n",
       "      <td>164</td>\n",
       "      <td>113</td>\n",
       "      <td>X</td>\n",
       "      <td>178</td>\n",
       "      <td>319</td>\n",
       "      <td>C-borough</td>\n",
       "      <td>60</td>\n",
       "      <td>Pause Associates</td>\n",
       "      <td>1715</td>\n",
       "      <td>162</td>\n",
       "      <td>16</td>\n",
       "      <td>52</td>\n",
       "      <td>yes</td>\n",
       "    </tr>\n",
       "    <tr>\n",
       "      <th>78277</th>\n",
       "      <td>Red peppers</td>\n",
       "      <td>Mint</td>\n",
       "      <td>216</td>\n",
       "      <td>106</td>\n",
       "      <td>Y</td>\n",
       "      <td>184</td>\n",
       "      <td>263</td>\n",
       "      <td>A-town</td>\n",
       "      <td>39</td>\n",
       "      <td>Go LLC</td>\n",
       "      <td>2747</td>\n",
       "      <td>156</td>\n",
       "      <td>26</td>\n",
       "      <td>58</td>\n",
       "      <td>no</td>\n",
       "    </tr>\n",
       "  </tbody>\n",
       "</table>\n",
       "</div>"
      ],
      "text/plain": [
       "        favorite_pizza_topping favorite_ice_cream_flavor  apm  income grade  \\\n",
       "user_id                                                                       \n",
       "78268                  Spinach                      Mint  171     104     X   \n",
       "78269                  Oregano                 Pistachio  218      96     Y   \n",
       "78270                      NaN                       NaN  175     114     X   \n",
       "78271              Red peppers                    Coffee  184     101     Z   \n",
       "78272                  Chicken                    Coffee  210     100     Z   \n",
       "78273                  Sausage         Cookies and Cream  250      94     Y   \n",
       "78274                   Tomato                      Mint  223     111     Y   \n",
       "78275                  Spinach         Cookies and Cream  168     114     Y   \n",
       "78276                  Sausage                       NaN  164     113     X   \n",
       "78277              Red peppers                      Mint  216     106     Y   \n",
       "\n",
       "         height  reaction_time       city  age           company  \\\n",
       "user_id                                                            \n",
       "78268       177            295  C-borough   52  Pause Associates   \n",
       "78269       178            305  C-borough   33  Pause Associates   \n",
       "78270       178            318     A-town   37  Pause Associates   \n",
       "78271       185            295     A-town   44  Pause Associates   \n",
       "78272       180            311     A-town   34            Go LLC   \n",
       "78273       175            314    B-ville   49               NaN   \n",
       "78274       181            287    B-ville   41            Go LLC   \n",
       "78275       173            277     A-town   55  Pause Associates   \n",
       "78276       178            319  C-borough   60  Pause Associates   \n",
       "78277       184            263     A-town   39            Go LLC   \n",
       "\n",
       "         kappa_ability  weight  amount  gregariousness churn  \n",
       "user_id                                                       \n",
       "78268             3363     144      19              57    no  \n",
       "78269             1720     147      57              48    no  \n",
       "78270              141     152      19              58   yes  \n",
       "78271              920     153      79              52    no  \n",
       "78272             1453     154      29              56    no  \n",
       "78273             1563     154       2              51    no  \n",
       "78274             2219     159       2              47   yes  \n",
       "78275             1788     162     130              45   yes  \n",
       "78276             1715     162      16              52   yes  \n",
       "78277             2747     156      26              58    no  "
      ]
     },
     "execution_count": 17,
     "metadata": {},
     "output_type": "execute_result"
    }
   ],
   "source": [
    "df_user.head(10)"
   ]
  },
  {
   "cell_type": "markdown",
   "metadata": {},
   "source": [
    "### Lets Check for Missing Values and Fill or Drop based on their Importance"
   ]
  },
  {
   "cell_type": "code",
   "execution_count": 18,
   "metadata": {},
   "outputs": [
    {
     "data": {
      "text/plain": [
       "favorite_pizza_topping       43\n",
       "favorite_ice_cream_flavor    55\n",
       "apm                           0\n",
       "income                        0\n",
       "grade                        46\n",
       "height                        0\n",
       "reaction_time                 0\n",
       "city                         48\n",
       "age                           0\n",
       "company                      63\n",
       "kappa_ability                 0\n",
       "weight                        0\n",
       "amount                        0\n",
       "gregariousness                0\n",
       "churn                         0\n",
       "dtype: int64"
      ]
     },
     "execution_count": 18,
     "metadata": {},
     "output_type": "execute_result"
    }
   ],
   "source": [
    "df_user.isnull().sum()"
   ]
  },
  {
   "cell_type": "markdown",
   "metadata": {},
   "source": [
    "## We can see that categorical data have many missing values, so filling a categorical data is a bit risky as we cannot fill a user preference or company by popular values in their respective column"
   ]
  },
  {
   "cell_type": "code",
   "execution_count": 19,
   "metadata": {},
   "outputs": [
    {
     "data": {
      "text/plain": [
       "255"
      ]
     },
     "execution_count": 19,
     "metadata": {},
     "output_type": "execute_result"
    }
   ],
   "source": [
    "df_user.isnull().sum().sum() # ALSO DROPPING THEM WOULD BE RISKY AS WE WILL LOSE 255 ROWS"
   ]
  },
  {
   "cell_type": "code",
   "execution_count": 20,
   "metadata": {},
   "outputs": [
    {
     "data": {
      "text/plain": [
       "Pineapple       115\n",
       "Extra cheese    101\n",
       "Ham              96\n",
       "Red peppers      83\n",
       "Sausage          83\n",
       "Spinach          66\n",
       "Name: favorite_pizza_topping, dtype: int64"
      ]
     },
     "execution_count": 20,
     "metadata": {},
     "output_type": "execute_result"
    }
   ],
   "source": [
    "# TOP 5 PREFERENCES of categorical data ARE AS BELOW\n",
    "\n",
    "df_user['favorite_pizza_topping'].value_counts()[:6] "
   ]
  },
  {
   "cell_type": "code",
   "execution_count": 21,
   "metadata": {},
   "outputs": [
    {
     "data": {
      "text/plain": [
       "Vanilla              123\n",
       "Red Velvet           113\n",
       "Cookies and Cream    100\n",
       "Orange Sherbert       98\n",
       "Cheesecake            86\n",
       "Strawberry            70\n",
       "Name: favorite_ice_cream_flavor, dtype: int64"
      ]
     },
     "execution_count": 21,
     "metadata": {},
     "output_type": "execute_result"
    }
   ],
   "source": [
    "df_user['favorite_ice_cream_flavor'].value_counts()[:6]"
   ]
  },
  {
   "cell_type": "code",
   "execution_count": 22,
   "metadata": {},
   "outputs": [
    {
     "data": {
      "text/plain": [
       "Z    452\n",
       "Y    399\n",
       "X    103\n",
       "Name: grade, dtype: int64"
      ]
     },
     "execution_count": 22,
     "metadata": {},
     "output_type": "execute_result"
    }
   ],
   "source": [
    "df_user['grade'].value_counts()[:6]"
   ]
  },
  {
   "cell_type": "code",
   "execution_count": 23,
   "metadata": {},
   "outputs": [
    {
     "data": {
      "text/plain": [
       "A-town       538\n",
       "C-borough    327\n",
       "B-ville       87\n",
       "Name: city, dtype: int64"
      ]
     },
     "execution_count": 23,
     "metadata": {},
     "output_type": "execute_result"
    }
   ],
   "source": [
    "df_user['city'].value_counts()[:6] # This seems like fillable but its still not recommended"
   ]
  },
  {
   "cell_type": "code",
   "execution_count": 24,
   "metadata": {},
   "outputs": [
    {
     "data": {
      "text/plain": [
       "Pause Associates    538\n",
       "Go LLC              362\n",
       "Stop Inc             37\n",
       "Name: company, dtype: int64"
      ]
     },
     "execution_count": 24,
     "metadata": {},
     "output_type": "execute_result"
    }
   ],
   "source": [
    "df_user['company'].value_counts()[:6]"
   ]
  },
  {
   "cell_type": "markdown",
   "metadata": {},
   "source": [
    "## It is not recommended to fill in with popular items, hence I will drop all NA values and go ahead,\n",
    "## if it  really affects my model then I would try something like filling with random values.\n",
    "## That procedure is commented below"
   ]
  },
  {
   "cell_type": "code",
   "execution_count": 25,
   "metadata": {},
   "outputs": [],
   "source": [
    "# df_randomfill = df_user.copy(deep=True)\n",
    "# missingcol = ['favorite_pizza_topping', 'favorite_ice_cream_flavor', 'grade', 'city', 'company']"
   ]
  },
  {
   "cell_type": "code",
   "execution_count": 26,
   "metadata": {},
   "outputs": [],
   "source": [
    "# for field in missingcol:\n",
    "#     permutation = np.random.permutation(df_randomfill[field])\n",
    "\n",
    "# #erase the empty values\n",
    "#     empty_is = np.where(permutation == \"\")\n",
    "#     permutation = np.delete(permutation, empty_is)\n",
    "\n",
    "# #replace all empty values of the dataframe[field]\n",
    "#     end = len(permutation)\n",
    "#     df_randomfill[field] = df_randomfill[field].apply(lambda x: permutation[np.random.randint(end)] if pd.isnull(x) else x)"
   ]
  },
  {
   "cell_type": "code",
   "execution_count": 27,
   "metadata": {},
   "outputs": [],
   "source": [
    "# df_randomfill.isnull().sum()"
   ]
  },
  {
   "cell_type": "markdown",
   "metadata": {},
   "source": [
    "## For Brute force analysis lets drop NA values"
   ]
  },
  {
   "cell_type": "code",
   "execution_count": 28,
   "metadata": {},
   "outputs": [
    {
     "data": {
      "text/plain": [
       "(770, 15)"
      ]
     },
     "execution_count": 28,
     "metadata": {},
     "output_type": "execute_result"
    }
   ],
   "source": [
    "df_user.dropna(inplace=True)\n",
    "df_user.shape # We Have reduce 230 rows"
   ]
  },
  {
   "cell_type": "code",
   "execution_count": 29,
   "metadata": {},
   "outputs": [
    {
     "data": {
      "text/plain": [
       "favorite_pizza_topping       object\n",
       "favorite_ice_cream_flavor    object\n",
       "apm                           int64\n",
       "income                        int64\n",
       "grade                        object\n",
       "height                        int64\n",
       "reaction_time                 int64\n",
       "city                         object\n",
       "age                           int64\n",
       "company                      object\n",
       "kappa_ability                 int64\n",
       "weight                        int64\n",
       "amount                        int64\n",
       "gregariousness                int64\n",
       "churn                        object\n",
       "dtype: object"
      ]
     },
     "execution_count": 29,
     "metadata": {},
     "output_type": "execute_result"
    }
   ],
   "source": [
    "df_user.dtypes #Just to check whether all the column have a proper data types"
   ]
  },
  {
   "cell_type": "code",
   "execution_count": 30,
   "metadata": {},
   "outputs": [
    {
     "data": {
      "text/html": [
       "<div>\n",
       "<style scoped>\n",
       "    .dataframe tbody tr th:only-of-type {\n",
       "        vertical-align: middle;\n",
       "    }\n",
       "\n",
       "    .dataframe tbody tr th {\n",
       "        vertical-align: top;\n",
       "    }\n",
       "\n",
       "    .dataframe thead th {\n",
       "        text-align: right;\n",
       "    }\n",
       "</style>\n",
       "<table border=\"1\" class=\"dataframe\">\n",
       "  <thead>\n",
       "    <tr style=\"text-align: right;\">\n",
       "      <th></th>\n",
       "      <th>count</th>\n",
       "      <th>mean</th>\n",
       "      <th>std</th>\n",
       "      <th>min</th>\n",
       "      <th>25%</th>\n",
       "      <th>50%</th>\n",
       "      <th>75%</th>\n",
       "      <th>max</th>\n",
       "    </tr>\n",
       "  </thead>\n",
       "  <tbody>\n",
       "    <tr>\n",
       "      <th>apm</th>\n",
       "      <td>770.0</td>\n",
       "      <td>192.241558</td>\n",
       "      <td>28.385720</td>\n",
       "      <td>110.0</td>\n",
       "      <td>172.00</td>\n",
       "      <td>192.0</td>\n",
       "      <td>211.00</td>\n",
       "      <td>276.0</td>\n",
       "    </tr>\n",
       "    <tr>\n",
       "      <th>income</th>\n",
       "      <td>770.0</td>\n",
       "      <td>102.706494</td>\n",
       "      <td>6.140283</td>\n",
       "      <td>89.0</td>\n",
       "      <td>98.00</td>\n",
       "      <td>102.0</td>\n",
       "      <td>107.00</td>\n",
       "      <td>122.0</td>\n",
       "    </tr>\n",
       "    <tr>\n",
       "      <th>height</th>\n",
       "      <td>770.0</td>\n",
       "      <td>190.018182</td>\n",
       "      <td>101.933874</td>\n",
       "      <td>165.0</td>\n",
       "      <td>175.00</td>\n",
       "      <td>177.0</td>\n",
       "      <td>180.00</td>\n",
       "      <td>999.0</td>\n",
       "    </tr>\n",
       "    <tr>\n",
       "      <th>reaction_time</th>\n",
       "      <td>770.0</td>\n",
       "      <td>304.331169</td>\n",
       "      <td>32.468381</td>\n",
       "      <td>207.0</td>\n",
       "      <td>283.25</td>\n",
       "      <td>304.0</td>\n",
       "      <td>326.00</td>\n",
       "      <td>423.0</td>\n",
       "    </tr>\n",
       "    <tr>\n",
       "      <th>age</th>\n",
       "      <td>770.0</td>\n",
       "      <td>43.725974</td>\n",
       "      <td>14.219036</td>\n",
       "      <td>18.0</td>\n",
       "      <td>32.00</td>\n",
       "      <td>43.0</td>\n",
       "      <td>56.00</td>\n",
       "      <td>69.0</td>\n",
       "    </tr>\n",
       "    <tr>\n",
       "      <th>kappa_ability</th>\n",
       "      <td>770.0</td>\n",
       "      <td>1645.496104</td>\n",
       "      <td>1654.970281</td>\n",
       "      <td>4.0</td>\n",
       "      <td>441.00</td>\n",
       "      <td>1100.0</td>\n",
       "      <td>2273.00</td>\n",
       "      <td>11024.0</td>\n",
       "    </tr>\n",
       "    <tr>\n",
       "      <th>weight</th>\n",
       "      <td>770.0</td>\n",
       "      <td>155.097403</td>\n",
       "      <td>52.863931</td>\n",
       "      <td>-400.0</td>\n",
       "      <td>148.00</td>\n",
       "      <td>152.0</td>\n",
       "      <td>158.00</td>\n",
       "      <td>799.0</td>\n",
       "    </tr>\n",
       "    <tr>\n",
       "      <th>amount</th>\n",
       "      <td>770.0</td>\n",
       "      <td>31.142857</td>\n",
       "      <td>33.081455</td>\n",
       "      <td>0.0</td>\n",
       "      <td>8.00</td>\n",
       "      <td>21.0</td>\n",
       "      <td>42.75</td>\n",
       "      <td>200.0</td>\n",
       "    </tr>\n",
       "    <tr>\n",
       "      <th>gregariousness</th>\n",
       "      <td>770.0</td>\n",
       "      <td>48.498701</td>\n",
       "      <td>9.777931</td>\n",
       "      <td>21.0</td>\n",
       "      <td>42.00</td>\n",
       "      <td>48.0</td>\n",
       "      <td>55.00</td>\n",
       "      <td>82.0</td>\n",
       "    </tr>\n",
       "  </tbody>\n",
       "</table>\n",
       "</div>"
      ],
      "text/plain": [
       "                count         mean          std    min     25%     50%  \\\n",
       "apm             770.0   192.241558    28.385720  110.0  172.00   192.0   \n",
       "income          770.0   102.706494     6.140283   89.0   98.00   102.0   \n",
       "height          770.0   190.018182   101.933874  165.0  175.00   177.0   \n",
       "reaction_time   770.0   304.331169    32.468381  207.0  283.25   304.0   \n",
       "age             770.0    43.725974    14.219036   18.0   32.00    43.0   \n",
       "kappa_ability   770.0  1645.496104  1654.970281    4.0  441.00  1100.0   \n",
       "weight          770.0   155.097403    52.863931 -400.0  148.00   152.0   \n",
       "amount          770.0    31.142857    33.081455    0.0    8.00    21.0   \n",
       "gregariousness  770.0    48.498701     9.777931   21.0   42.00    48.0   \n",
       "\n",
       "                    75%      max  \n",
       "apm              211.00    276.0  \n",
       "income           107.00    122.0  \n",
       "height           180.00    999.0  \n",
       "reaction_time    326.00    423.0  \n",
       "age               56.00     69.0  \n",
       "kappa_ability   2273.00  11024.0  \n",
       "weight           158.00    799.0  \n",
       "amount            42.75    200.0  \n",
       "gregariousness    55.00     82.0  "
      ]
     },
     "execution_count": 30,
     "metadata": {},
     "output_type": "execute_result"
    }
   ],
   "source": [
    "df_user.describe().transpose() # Some statistical and Distribution highlights of nuerical Data"
   ]
  },
  {
   "cell_type": "markdown",
   "metadata": {},
   "source": [
    "## We can Observe from above datasheet that Height, Weight and Kappa_ability has a weird maximum values(last col) also called as Outliers, for example height cannot be 999 "
   ]
  },
  {
   "cell_type": "code",
   "execution_count": 31,
   "metadata": {},
   "outputs": [
    {
     "data": {
      "text/plain": [
       "<function matplotlib.pyplot.show(*args, **kw)>"
      ]
     },
     "execution_count": 31,
     "metadata": {},
     "output_type": "execute_result"
    },
    {
     "data": {
      "image/png": "[encoded data removed]",
      "text/plain": [
       "<Figure size 864x1440 with 1 Axes>"
      ]
     },
     "metadata": {
      "needs_background": "light"
     },
     "output_type": "display_data"
    }
   ],
   "source": [
    "outlier_col = ['height', 'weight','kappa_ability']\n",
    "df_user.boxplot(outlier_col,figsize=(12,20))\n",
    "plt.show"
   ]
  },
  {
   "cell_type": "markdown",
   "metadata": {},
   "source": [
    "## It is better to disregard Kappa_ability as it has lots of outliers \n",
    "## To be honest I still do not know what it means and how it contributes lets carry it with us untill we understand"
   ]
  },
  {
   "cell_type": "code",
   "execution_count": null,
   "metadata": {},
   "outputs": [],
   "source": [
    "\n"
   ]
  },
  {
   "cell_type": "markdown",
   "metadata": {},
   "source": [
    "# STAGE 2: EXPLORATORY AND VISUAL ANALYSIS"
   ]
  },
  {
   "cell_type": "code",
   "execution_count": 34,
   "metadata": {},
   "outputs": [
    {
     "data": {
      "text/html": [
       "<div>\n",
       "<style scoped>\n",
       "    .dataframe tbody tr th:only-of-type {\n",
       "        vertical-align: middle;\n",
       "    }\n",
       "\n",
       "    .dataframe tbody tr th {\n",
       "        vertical-align: top;\n",
       "    }\n",
       "\n",
       "    .dataframe thead th {\n",
       "        text-align: right;\n",
       "    }\n",
       "</style>\n",
       "<table border=\"1\" class=\"dataframe\">\n",
       "  <thead>\n",
       "    <tr style=\"text-align: right;\">\n",
       "      <th></th>\n",
       "      <th>favorite_pizza_topping</th>\n",
       "      <th>favorite_ice_cream_flavor</th>\n",
       "      <th>apm</th>\n",
       "      <th>income</th>\n",
       "      <th>grade</th>\n",
       "      <th>height</th>\n",
       "      <th>reaction_time</th>\n",
       "      <th>city</th>\n",
       "      <th>age</th>\n",
       "      <th>company</th>\n",
       "      <th>kappa_ability</th>\n",
       "      <th>weight</th>\n",
       "      <th>amount</th>\n",
       "      <th>gregariousness</th>\n",
       "      <th>churn</th>\n",
       "    </tr>\n",
       "    <tr>\n",
       "      <th>user_id</th>\n",
       "      <th></th>\n",
       "      <th></th>\n",
       "      <th></th>\n",
       "      <th></th>\n",
       "      <th></th>\n",
       "      <th></th>\n",
       "      <th></th>\n",
       "      <th></th>\n",
       "      <th></th>\n",
       "      <th></th>\n",
       "      <th></th>\n",
       "      <th></th>\n",
       "      <th></th>\n",
       "      <th></th>\n",
       "      <th></th>\n",
       "    </tr>\n",
       "  </thead>\n",
       "  <tbody>\n",
       "    <tr>\n",
       "      <th>78268</th>\n",
       "      <td>Spinach</td>\n",
       "      <td>Mint</td>\n",
       "      <td>171</td>\n",
       "      <td>104</td>\n",
       "      <td>X</td>\n",
       "      <td>177</td>\n",
       "      <td>295</td>\n",
       "      <td>C-borough</td>\n",
       "      <td>52</td>\n",
       "      <td>Pause Associates</td>\n",
       "      <td>3363</td>\n",
       "      <td>144</td>\n",
       "      <td>19</td>\n",
       "      <td>57</td>\n",
       "      <td>no</td>\n",
       "    </tr>\n",
       "    <tr>\n",
       "      <th>78269</th>\n",
       "      <td>Oregano</td>\n",
       "      <td>Pistachio</td>\n",
       "      <td>218</td>\n",
       "      <td>96</td>\n",
       "      <td>Y</td>\n",
       "      <td>178</td>\n",
       "      <td>305</td>\n",
       "      <td>C-borough</td>\n",
       "      <td>33</td>\n",
       "      <td>Pause Associates</td>\n",
       "      <td>1720</td>\n",
       "      <td>147</td>\n",
       "      <td>57</td>\n",
       "      <td>48</td>\n",
       "      <td>no</td>\n",
       "    </tr>\n",
       "    <tr>\n",
       "      <th>78271</th>\n",
       "      <td>Red peppers</td>\n",
       "      <td>Coffee</td>\n",
       "      <td>184</td>\n",
       "      <td>101</td>\n",
       "      <td>Z</td>\n",
       "      <td>185</td>\n",
       "      <td>295</td>\n",
       "      <td>A-town</td>\n",
       "      <td>44</td>\n",
       "      <td>Pause Associates</td>\n",
       "      <td>920</td>\n",
       "      <td>153</td>\n",
       "      <td>79</td>\n",
       "      <td>52</td>\n",
       "      <td>no</td>\n",
       "    </tr>\n",
       "    <tr>\n",
       "      <th>78272</th>\n",
       "      <td>Chicken</td>\n",
       "      <td>Coffee</td>\n",
       "      <td>210</td>\n",
       "      <td>100</td>\n",
       "      <td>Z</td>\n",
       "      <td>180</td>\n",
       "      <td>311</td>\n",
       "      <td>A-town</td>\n",
       "      <td>34</td>\n",
       "      <td>Go LLC</td>\n",
       "      <td>1453</td>\n",
       "      <td>154</td>\n",
       "      <td>29</td>\n",
       "      <td>56</td>\n",
       "      <td>no</td>\n",
       "    </tr>\n",
       "    <tr>\n",
       "      <th>78274</th>\n",
       "      <td>Tomato</td>\n",
       "      <td>Mint</td>\n",
       "      <td>223</td>\n",
       "      <td>111</td>\n",
       "      <td>Y</td>\n",
       "      <td>181</td>\n",
       "      <td>287</td>\n",
       "      <td>B-ville</td>\n",
       "      <td>41</td>\n",
       "      <td>Go LLC</td>\n",
       "      <td>2219</td>\n",
       "      <td>159</td>\n",
       "      <td>2</td>\n",
       "      <td>47</td>\n",
       "      <td>yes</td>\n",
       "    </tr>\n",
       "    <tr>\n",
       "      <th>78275</th>\n",
       "      <td>Spinach</td>\n",
       "      <td>Cookies and Cream</td>\n",
       "      <td>168</td>\n",
       "      <td>114</td>\n",
       "      <td>Y</td>\n",
       "      <td>173</td>\n",
       "      <td>277</td>\n",
       "      <td>A-town</td>\n",
       "      <td>55</td>\n",
       "      <td>Pause Associates</td>\n",
       "      <td>1788</td>\n",
       "      <td>162</td>\n",
       "      <td>130</td>\n",
       "      <td>45</td>\n",
       "      <td>yes</td>\n",
       "    </tr>\n",
       "    <tr>\n",
       "      <th>78277</th>\n",
       "      <td>Red peppers</td>\n",
       "      <td>Mint</td>\n",
       "      <td>216</td>\n",
       "      <td>106</td>\n",
       "      <td>Y</td>\n",
       "      <td>184</td>\n",
       "      <td>263</td>\n",
       "      <td>A-town</td>\n",
       "      <td>39</td>\n",
       "      <td>Go LLC</td>\n",
       "      <td>2747</td>\n",
       "      <td>156</td>\n",
       "      <td>26</td>\n",
       "      <td>58</td>\n",
       "      <td>no</td>\n",
       "    </tr>\n",
       "    <tr>\n",
       "      <th>78278</th>\n",
       "      <td>Sausage</td>\n",
       "      <td>Red Velvet</td>\n",
       "      <td>186</td>\n",
       "      <td>97</td>\n",
       "      <td>Z</td>\n",
       "      <td>182</td>\n",
       "      <td>299</td>\n",
       "      <td>A-town</td>\n",
       "      <td>63</td>\n",
       "      <td>Go LLC</td>\n",
       "      <td>33</td>\n",
       "      <td>142</td>\n",
       "      <td>16</td>\n",
       "      <td>57</td>\n",
       "      <td>no</td>\n",
       "    </tr>\n",
       "    <tr>\n",
       "      <th>78279</th>\n",
       "      <td>Bacon</td>\n",
       "      <td>Cheesecake</td>\n",
       "      <td>196</td>\n",
       "      <td>102</td>\n",
       "      <td>Y</td>\n",
       "      <td>181</td>\n",
       "      <td>339</td>\n",
       "      <td>A-town</td>\n",
       "      <td>46</td>\n",
       "      <td>Go LLC</td>\n",
       "      <td>5138</td>\n",
       "      <td>152</td>\n",
       "      <td>5</td>\n",
       "      <td>51</td>\n",
       "      <td>no</td>\n",
       "    </tr>\n",
       "    <tr>\n",
       "      <th>78281</th>\n",
       "      <td>BBQ Sauce</td>\n",
       "      <td>Coffee</td>\n",
       "      <td>178</td>\n",
       "      <td>109</td>\n",
       "      <td>Y</td>\n",
       "      <td>176</td>\n",
       "      <td>359</td>\n",
       "      <td>C-borough</td>\n",
       "      <td>59</td>\n",
       "      <td>Pause Associates</td>\n",
       "      <td>556</td>\n",
       "      <td>159</td>\n",
       "      <td>7</td>\n",
       "      <td>43</td>\n",
       "      <td>yes</td>\n",
       "    </tr>\n",
       "    <tr>\n",
       "      <th>78282</th>\n",
       "      <td>Extra cheese</td>\n",
       "      <td>Cookies and Cream</td>\n",
       "      <td>216</td>\n",
       "      <td>91</td>\n",
       "      <td>Z</td>\n",
       "      <td>175</td>\n",
       "      <td>274</td>\n",
       "      <td>A-town</td>\n",
       "      <td>66</td>\n",
       "      <td>Pause Associates</td>\n",
       "      <td>1076</td>\n",
       "      <td>152</td>\n",
       "      <td>27</td>\n",
       "      <td>55</td>\n",
       "      <td>no</td>\n",
       "    </tr>\n",
       "    <tr>\n",
       "      <th>78283</th>\n",
       "      <td>Sausage</td>\n",
       "      <td>Cheesecake</td>\n",
       "      <td>169</td>\n",
       "      <td>108</td>\n",
       "      <td>Y</td>\n",
       "      <td>182</td>\n",
       "      <td>306</td>\n",
       "      <td>A-town</td>\n",
       "      <td>61</td>\n",
       "      <td>Pause Associates</td>\n",
       "      <td>4684</td>\n",
       "      <td>162</td>\n",
       "      <td>25</td>\n",
       "      <td>32</td>\n",
       "      <td>yes</td>\n",
       "    </tr>\n",
       "    <tr>\n",
       "      <th>78284</th>\n",
       "      <td>Black olives</td>\n",
       "      <td>Cookies and Cream</td>\n",
       "      <td>188</td>\n",
       "      <td>97</td>\n",
       "      <td>X</td>\n",
       "      <td>181</td>\n",
       "      <td>284</td>\n",
       "      <td>C-borough</td>\n",
       "      <td>42</td>\n",
       "      <td>Pause Associates</td>\n",
       "      <td>4019</td>\n",
       "      <td>146</td>\n",
       "      <td>11</td>\n",
       "      <td>34</td>\n",
       "      <td>no</td>\n",
       "    </tr>\n",
       "    <tr>\n",
       "      <th>78285</th>\n",
       "      <td>BBQ Sauce</td>\n",
       "      <td>Cheesecake</td>\n",
       "      <td>191</td>\n",
       "      <td>117</td>\n",
       "      <td>X</td>\n",
       "      <td>177</td>\n",
       "      <td>351</td>\n",
       "      <td>C-borough</td>\n",
       "      <td>43</td>\n",
       "      <td>Stop Inc</td>\n",
       "      <td>2829</td>\n",
       "      <td>163</td>\n",
       "      <td>1</td>\n",
       "      <td>43</td>\n",
       "      <td>yes</td>\n",
       "    </tr>\n",
       "    <tr>\n",
       "      <th>78286</th>\n",
       "      <td>Black olives</td>\n",
       "      <td>Chocolate</td>\n",
       "      <td>180</td>\n",
       "      <td>110</td>\n",
       "      <td>X</td>\n",
       "      <td>180</td>\n",
       "      <td>335</td>\n",
       "      <td>A-town</td>\n",
       "      <td>26</td>\n",
       "      <td>Pause Associates</td>\n",
       "      <td>419</td>\n",
       "      <td>162</td>\n",
       "      <td>12</td>\n",
       "      <td>56</td>\n",
       "      <td>yes</td>\n",
       "    </tr>\n",
       "    <tr>\n",
       "      <th>78287</th>\n",
       "      <td>Spinach</td>\n",
       "      <td>Cheesecake</td>\n",
       "      <td>194</td>\n",
       "      <td>107</td>\n",
       "      <td>Y</td>\n",
       "      <td>174</td>\n",
       "      <td>347</td>\n",
       "      <td>B-ville</td>\n",
       "      <td>62</td>\n",
       "      <td>Pause Associates</td>\n",
       "      <td>559</td>\n",
       "      <td>168</td>\n",
       "      <td>16</td>\n",
       "      <td>54</td>\n",
       "      <td>yes</td>\n",
       "    </tr>\n",
       "    <tr>\n",
       "      <th>78288</th>\n",
       "      <td>Pepperoni</td>\n",
       "      <td>Chocolate</td>\n",
       "      <td>180</td>\n",
       "      <td>119</td>\n",
       "      <td>Z</td>\n",
       "      <td>179</td>\n",
       "      <td>300</td>\n",
       "      <td>C-borough</td>\n",
       "      <td>20</td>\n",
       "      <td>Pause Associates</td>\n",
       "      <td>2935</td>\n",
       "      <td>162</td>\n",
       "      <td>45</td>\n",
       "      <td>44</td>\n",
       "      <td>yes</td>\n",
       "    </tr>\n",
       "    <tr>\n",
       "      <th>78289</th>\n",
       "      <td>Spinach</td>\n",
       "      <td>Mint</td>\n",
       "      <td>199</td>\n",
       "      <td>96</td>\n",
       "      <td>Y</td>\n",
       "      <td>178</td>\n",
       "      <td>297</td>\n",
       "      <td>A-town</td>\n",
       "      <td>61</td>\n",
       "      <td>Go LLC</td>\n",
       "      <td>1689</td>\n",
       "      <td>153</td>\n",
       "      <td>40</td>\n",
       "      <td>45</td>\n",
       "      <td>no</td>\n",
       "    </tr>\n",
       "    <tr>\n",
       "      <th>78290</th>\n",
       "      <td>Black olives</td>\n",
       "      <td>Vanilla</td>\n",
       "      <td>169</td>\n",
       "      <td>109</td>\n",
       "      <td>Y</td>\n",
       "      <td>170</td>\n",
       "      <td>335</td>\n",
       "      <td>A-town</td>\n",
       "      <td>28</td>\n",
       "      <td>Pause Associates</td>\n",
       "      <td>469</td>\n",
       "      <td>154</td>\n",
       "      <td>8</td>\n",
       "      <td>46</td>\n",
       "      <td>yes</td>\n",
       "    </tr>\n",
       "    <tr>\n",
       "      <th>78291</th>\n",
       "      <td>Spinach</td>\n",
       "      <td>Cookies and Cream</td>\n",
       "      <td>209</td>\n",
       "      <td>104</td>\n",
       "      <td>X</td>\n",
       "      <td>178</td>\n",
       "      <td>372</td>\n",
       "      <td>A-town</td>\n",
       "      <td>33</td>\n",
       "      <td>Pause Associates</td>\n",
       "      <td>3379</td>\n",
       "      <td>159</td>\n",
       "      <td>8</td>\n",
       "      <td>54</td>\n",
       "      <td>yes</td>\n",
       "    </tr>\n",
       "    <tr>\n",
       "      <th>78293</th>\n",
       "      <td>Red peppers</td>\n",
       "      <td>Red Velvet</td>\n",
       "      <td>203</td>\n",
       "      <td>100</td>\n",
       "      <td>Y</td>\n",
       "      <td>182</td>\n",
       "      <td>299</td>\n",
       "      <td>A-town</td>\n",
       "      <td>23</td>\n",
       "      <td>Pause Associates</td>\n",
       "      <td>1612</td>\n",
       "      <td>149</td>\n",
       "      <td>31</td>\n",
       "      <td>54</td>\n",
       "      <td>no</td>\n",
       "    </tr>\n",
       "    <tr>\n",
       "      <th>78294</th>\n",
       "      <td>Pesto</td>\n",
       "      <td>Cookies and Cream</td>\n",
       "      <td>206</td>\n",
       "      <td>114</td>\n",
       "      <td>Z</td>\n",
       "      <td>178</td>\n",
       "      <td>293</td>\n",
       "      <td>A-town</td>\n",
       "      <td>54</td>\n",
       "      <td>Pause Associates</td>\n",
       "      <td>6939</td>\n",
       "      <td>168</td>\n",
       "      <td>26</td>\n",
       "      <td>33</td>\n",
       "      <td>yes</td>\n",
       "    </tr>\n",
       "    <tr>\n",
       "      <th>78295</th>\n",
       "      <td>Sausage</td>\n",
       "      <td>Pistachio</td>\n",
       "      <td>184</td>\n",
       "      <td>109</td>\n",
       "      <td>Y</td>\n",
       "      <td>180</td>\n",
       "      <td>357</td>\n",
       "      <td>C-borough</td>\n",
       "      <td>21</td>\n",
       "      <td>Pause Associates</td>\n",
       "      <td>1332</td>\n",
       "      <td>153</td>\n",
       "      <td>3</td>\n",
       "      <td>48</td>\n",
       "      <td>yes</td>\n",
       "    </tr>\n",
       "    <tr>\n",
       "      <th>78296</th>\n",
       "      <td>Pesto</td>\n",
       "      <td>Strawberry</td>\n",
       "      <td>193</td>\n",
       "      <td>94</td>\n",
       "      <td>Z</td>\n",
       "      <td>171</td>\n",
       "      <td>333</td>\n",
       "      <td>B-ville</td>\n",
       "      <td>61</td>\n",
       "      <td>Pause Associates</td>\n",
       "      <td>3124</td>\n",
       "      <td>148</td>\n",
       "      <td>10</td>\n",
       "      <td>53</td>\n",
       "      <td>no</td>\n",
       "    </tr>\n",
       "    <tr>\n",
       "      <th>78297</th>\n",
       "      <td>Ham</td>\n",
       "      <td>Cheesecake</td>\n",
       "      <td>219</td>\n",
       "      <td>111</td>\n",
       "      <td>X</td>\n",
       "      <td>175</td>\n",
       "      <td>268</td>\n",
       "      <td>C-borough</td>\n",
       "      <td>42</td>\n",
       "      <td>Pause Associates</td>\n",
       "      <td>600</td>\n",
       "      <td>678</td>\n",
       "      <td>1</td>\n",
       "      <td>47</td>\n",
       "      <td>yes</td>\n",
       "    </tr>\n",
       "    <tr>\n",
       "      <th>78298</th>\n",
       "      <td>Pesto</td>\n",
       "      <td>Mint</td>\n",
       "      <td>197</td>\n",
       "      <td>105</td>\n",
       "      <td>Y</td>\n",
       "      <td>177</td>\n",
       "      <td>304</td>\n",
       "      <td>C-borough</td>\n",
       "      <td>65</td>\n",
       "      <td>Go LLC</td>\n",
       "      <td>4860</td>\n",
       "      <td>147</td>\n",
       "      <td>43</td>\n",
       "      <td>51</td>\n",
       "      <td>no</td>\n",
       "    </tr>\n",
       "    <tr>\n",
       "      <th>78301</th>\n",
       "      <td>Red peppers</td>\n",
       "      <td>Pistachio</td>\n",
       "      <td>210</td>\n",
       "      <td>102</td>\n",
       "      <td>Y</td>\n",
       "      <td>175</td>\n",
       "      <td>321</td>\n",
       "      <td>A-town</td>\n",
       "      <td>31</td>\n",
       "      <td>Pause Associates</td>\n",
       "      <td>269</td>\n",
       "      <td>154</td>\n",
       "      <td>2</td>\n",
       "      <td>68</td>\n",
       "      <td>no</td>\n",
       "    </tr>\n",
       "    <tr>\n",
       "      <th>78302</th>\n",
       "      <td>Bacon</td>\n",
       "      <td>Red Velvet</td>\n",
       "      <td>219</td>\n",
       "      <td>105</td>\n",
       "      <td>Z</td>\n",
       "      <td>180</td>\n",
       "      <td>312</td>\n",
       "      <td>A-town</td>\n",
       "      <td>43</td>\n",
       "      <td>Pause Associates</td>\n",
       "      <td>1605</td>\n",
       "      <td>148</td>\n",
       "      <td>71</td>\n",
       "      <td>36</td>\n",
       "      <td>no</td>\n",
       "    </tr>\n",
       "    <tr>\n",
       "      <th>78303</th>\n",
       "      <td>Bacon</td>\n",
       "      <td>Vanilla</td>\n",
       "      <td>190</td>\n",
       "      <td>107</td>\n",
       "      <td>Z</td>\n",
       "      <td>174</td>\n",
       "      <td>327</td>\n",
       "      <td>A-town</td>\n",
       "      <td>69</td>\n",
       "      <td>Go LLC</td>\n",
       "      <td>2264</td>\n",
       "      <td>149</td>\n",
       "      <td>75</td>\n",
       "      <td>65</td>\n",
       "      <td>no</td>\n",
       "    </tr>\n",
       "    <tr>\n",
       "      <th>78304</th>\n",
       "      <td>Red peppers</td>\n",
       "      <td>Chocolate</td>\n",
       "      <td>210</td>\n",
       "      <td>101</td>\n",
       "      <td>Z</td>\n",
       "      <td>178</td>\n",
       "      <td>288</td>\n",
       "      <td>C-borough</td>\n",
       "      <td>38</td>\n",
       "      <td>Go LLC</td>\n",
       "      <td>90</td>\n",
       "      <td>152</td>\n",
       "      <td>182</td>\n",
       "      <td>49</td>\n",
       "      <td>no</td>\n",
       "    </tr>\n",
       "    <tr>\n",
       "      <th>...</th>\n",
       "      <td>...</td>\n",
       "      <td>...</td>\n",
       "      <td>...</td>\n",
       "      <td>...</td>\n",
       "      <td>...</td>\n",
       "      <td>...</td>\n",
       "      <td>...</td>\n",
       "      <td>...</td>\n",
       "      <td>...</td>\n",
       "      <td>...</td>\n",
       "      <td>...</td>\n",
       "      <td>...</td>\n",
       "      <td>...</td>\n",
       "      <td>...</td>\n",
       "      <td>...</td>\n",
       "    </tr>\n",
       "    <tr>\n",
       "      <th>79231</th>\n",
       "      <td>Ham</td>\n",
       "      <td>Vanilla</td>\n",
       "      <td>167</td>\n",
       "      <td>102</td>\n",
       "      <td>Y</td>\n",
       "      <td>170</td>\n",
       "      <td>300</td>\n",
       "      <td>A-town</td>\n",
       "      <td>57</td>\n",
       "      <td>Go LLC</td>\n",
       "      <td>3741</td>\n",
       "      <td>147</td>\n",
       "      <td>11</td>\n",
       "      <td>50</td>\n",
       "      <td>no</td>\n",
       "    </tr>\n",
       "    <tr>\n",
       "      <th>79233</th>\n",
       "      <td>Spinach</td>\n",
       "      <td>Vanilla</td>\n",
       "      <td>187</td>\n",
       "      <td>104</td>\n",
       "      <td>Z</td>\n",
       "      <td>177</td>\n",
       "      <td>326</td>\n",
       "      <td>A-town</td>\n",
       "      <td>42</td>\n",
       "      <td>Pause Associates</td>\n",
       "      <td>1232</td>\n",
       "      <td>153</td>\n",
       "      <td>2</td>\n",
       "      <td>57</td>\n",
       "      <td>no</td>\n",
       "    </tr>\n",
       "    <tr>\n",
       "      <th>79235</th>\n",
       "      <td>Ham</td>\n",
       "      <td>Red Velvet</td>\n",
       "      <td>193</td>\n",
       "      <td>95</td>\n",
       "      <td>Y</td>\n",
       "      <td>182</td>\n",
       "      <td>250</td>\n",
       "      <td>C-borough</td>\n",
       "      <td>20</td>\n",
       "      <td>Go LLC</td>\n",
       "      <td>4765</td>\n",
       "      <td>-234</td>\n",
       "      <td>19</td>\n",
       "      <td>62</td>\n",
       "      <td>no</td>\n",
       "    </tr>\n",
       "    <tr>\n",
       "      <th>79236</th>\n",
       "      <td>Black olives</td>\n",
       "      <td>Cheesecake</td>\n",
       "      <td>155</td>\n",
       "      <td>105</td>\n",
       "      <td>Y</td>\n",
       "      <td>174</td>\n",
       "      <td>341</td>\n",
       "      <td>A-town</td>\n",
       "      <td>26</td>\n",
       "      <td>Go LLC</td>\n",
       "      <td>170</td>\n",
       "      <td>164</td>\n",
       "      <td>18</td>\n",
       "      <td>66</td>\n",
       "      <td>yes</td>\n",
       "    </tr>\n",
       "    <tr>\n",
       "      <th>79238</th>\n",
       "      <td>Spinach</td>\n",
       "      <td>Mint</td>\n",
       "      <td>184</td>\n",
       "      <td>97</td>\n",
       "      <td>Z</td>\n",
       "      <td>176</td>\n",
       "      <td>334</td>\n",
       "      <td>C-borough</td>\n",
       "      <td>34</td>\n",
       "      <td>Pause Associates</td>\n",
       "      <td>568</td>\n",
       "      <td>157</td>\n",
       "      <td>53</td>\n",
       "      <td>45</td>\n",
       "      <td>no</td>\n",
       "    </tr>\n",
       "    <tr>\n",
       "      <th>79239</th>\n",
       "      <td>Ham</td>\n",
       "      <td>Chocolate</td>\n",
       "      <td>163</td>\n",
       "      <td>112</td>\n",
       "      <td>X</td>\n",
       "      <td>174</td>\n",
       "      <td>295</td>\n",
       "      <td>B-ville</td>\n",
       "      <td>32</td>\n",
       "      <td>Pause Associates</td>\n",
       "      <td>744</td>\n",
       "      <td>163</td>\n",
       "      <td>4</td>\n",
       "      <td>56</td>\n",
       "      <td>yes</td>\n",
       "    </tr>\n",
       "    <tr>\n",
       "      <th>79240</th>\n",
       "      <td>Pineapple</td>\n",
       "      <td>Orange Sherbert</td>\n",
       "      <td>187</td>\n",
       "      <td>96</td>\n",
       "      <td>Z</td>\n",
       "      <td>171</td>\n",
       "      <td>315</td>\n",
       "      <td>B-ville</td>\n",
       "      <td>39</td>\n",
       "      <td>Pause Associates</td>\n",
       "      <td>162</td>\n",
       "      <td>140</td>\n",
       "      <td>50</td>\n",
       "      <td>42</td>\n",
       "      <td>no</td>\n",
       "    </tr>\n",
       "    <tr>\n",
       "      <th>79242</th>\n",
       "      <td>Sausage</td>\n",
       "      <td>Red Velvet</td>\n",
       "      <td>208</td>\n",
       "      <td>99</td>\n",
       "      <td>Z</td>\n",
       "      <td>180</td>\n",
       "      <td>241</td>\n",
       "      <td>A-town</td>\n",
       "      <td>34</td>\n",
       "      <td>Go LLC</td>\n",
       "      <td>3210</td>\n",
       "      <td>148</td>\n",
       "      <td>11</td>\n",
       "      <td>55</td>\n",
       "      <td>no</td>\n",
       "    </tr>\n",
       "    <tr>\n",
       "      <th>79243</th>\n",
       "      <td>Pesto</td>\n",
       "      <td>Red Velvet</td>\n",
       "      <td>225</td>\n",
       "      <td>105</td>\n",
       "      <td>Z</td>\n",
       "      <td>181</td>\n",
       "      <td>264</td>\n",
       "      <td>C-borough</td>\n",
       "      <td>41</td>\n",
       "      <td>Pause Associates</td>\n",
       "      <td>1048</td>\n",
       "      <td>156</td>\n",
       "      <td>3</td>\n",
       "      <td>45</td>\n",
       "      <td>no</td>\n",
       "    </tr>\n",
       "    <tr>\n",
       "      <th>79244</th>\n",
       "      <td>Pineapple</td>\n",
       "      <td>Cookies and Cream</td>\n",
       "      <td>169</td>\n",
       "      <td>100</td>\n",
       "      <td>Y</td>\n",
       "      <td>178</td>\n",
       "      <td>281</td>\n",
       "      <td>C-borough</td>\n",
       "      <td>43</td>\n",
       "      <td>Go LLC</td>\n",
       "      <td>278</td>\n",
       "      <td>149</td>\n",
       "      <td>26</td>\n",
       "      <td>51</td>\n",
       "      <td>no</td>\n",
       "    </tr>\n",
       "    <tr>\n",
       "      <th>79245</th>\n",
       "      <td>Black olives</td>\n",
       "      <td>Orange Sherbert</td>\n",
       "      <td>211</td>\n",
       "      <td>107</td>\n",
       "      <td>X</td>\n",
       "      <td>178</td>\n",
       "      <td>284</td>\n",
       "      <td>B-ville</td>\n",
       "      <td>48</td>\n",
       "      <td>Pause Associates</td>\n",
       "      <td>4140</td>\n",
       "      <td>161</td>\n",
       "      <td>48</td>\n",
       "      <td>41</td>\n",
       "      <td>yes</td>\n",
       "    </tr>\n",
       "    <tr>\n",
       "      <th>79246</th>\n",
       "      <td>Ham</td>\n",
       "      <td>Cheesecake</td>\n",
       "      <td>182</td>\n",
       "      <td>107</td>\n",
       "      <td>Y</td>\n",
       "      <td>178</td>\n",
       "      <td>342</td>\n",
       "      <td>A-town</td>\n",
       "      <td>45</td>\n",
       "      <td>Go LLC</td>\n",
       "      <td>2137</td>\n",
       "      <td>165</td>\n",
       "      <td>70</td>\n",
       "      <td>43</td>\n",
       "      <td>yes</td>\n",
       "    </tr>\n",
       "    <tr>\n",
       "      <th>79247</th>\n",
       "      <td>Red peppers</td>\n",
       "      <td>Cheesecake</td>\n",
       "      <td>181</td>\n",
       "      <td>91</td>\n",
       "      <td>Z</td>\n",
       "      <td>175</td>\n",
       "      <td>260</td>\n",
       "      <td>A-town</td>\n",
       "      <td>28</td>\n",
       "      <td>Stop Inc</td>\n",
       "      <td>468</td>\n",
       "      <td>154</td>\n",
       "      <td>106</td>\n",
       "      <td>50</td>\n",
       "      <td>no</td>\n",
       "    </tr>\n",
       "    <tr>\n",
       "      <th>79248</th>\n",
       "      <td>Ham</td>\n",
       "      <td>Red Velvet</td>\n",
       "      <td>158</td>\n",
       "      <td>97</td>\n",
       "      <td>Z</td>\n",
       "      <td>171</td>\n",
       "      <td>266</td>\n",
       "      <td>C-borough</td>\n",
       "      <td>59</td>\n",
       "      <td>Go LLC</td>\n",
       "      <td>3346</td>\n",
       "      <td>141</td>\n",
       "      <td>3</td>\n",
       "      <td>52</td>\n",
       "      <td>no</td>\n",
       "    </tr>\n",
       "    <tr>\n",
       "      <th>79249</th>\n",
       "      <td>Sausage</td>\n",
       "      <td>Neapolitan</td>\n",
       "      <td>235</td>\n",
       "      <td>95</td>\n",
       "      <td>Y</td>\n",
       "      <td>175</td>\n",
       "      <td>268</td>\n",
       "      <td>A-town</td>\n",
       "      <td>68</td>\n",
       "      <td>Pause Associates</td>\n",
       "      <td>2142</td>\n",
       "      <td>152</td>\n",
       "      <td>15</td>\n",
       "      <td>39</td>\n",
       "      <td>no</td>\n",
       "    </tr>\n",
       "    <tr>\n",
       "      <th>79250</th>\n",
       "      <td>Sausage</td>\n",
       "      <td>Cheesecake</td>\n",
       "      <td>187</td>\n",
       "      <td>114</td>\n",
       "      <td>Z</td>\n",
       "      <td>170</td>\n",
       "      <td>301</td>\n",
       "      <td>A-town</td>\n",
       "      <td>33</td>\n",
       "      <td>Pause Associates</td>\n",
       "      <td>8705</td>\n",
       "      <td>155</td>\n",
       "      <td>1</td>\n",
       "      <td>42</td>\n",
       "      <td>yes</td>\n",
       "    </tr>\n",
       "    <tr>\n",
       "      <th>79252</th>\n",
       "      <td>Bacon</td>\n",
       "      <td>Orange Sherbert</td>\n",
       "      <td>162</td>\n",
       "      <td>99</td>\n",
       "      <td>Y</td>\n",
       "      <td>187</td>\n",
       "      <td>351</td>\n",
       "      <td>A-town</td>\n",
       "      <td>51</td>\n",
       "      <td>Go LLC</td>\n",
       "      <td>1545</td>\n",
       "      <td>148</td>\n",
       "      <td>65</td>\n",
       "      <td>45</td>\n",
       "      <td>no</td>\n",
       "    </tr>\n",
       "    <tr>\n",
       "      <th>79253</th>\n",
       "      <td>Basil</td>\n",
       "      <td>Mint</td>\n",
       "      <td>201</td>\n",
       "      <td>104</td>\n",
       "      <td>Y</td>\n",
       "      <td>182</td>\n",
       "      <td>336</td>\n",
       "      <td>A-town</td>\n",
       "      <td>38</td>\n",
       "      <td>Pause Associates</td>\n",
       "      <td>482</td>\n",
       "      <td>153</td>\n",
       "      <td>34</td>\n",
       "      <td>50</td>\n",
       "      <td>no</td>\n",
       "    </tr>\n",
       "    <tr>\n",
       "      <th>79254</th>\n",
       "      <td>Ham</td>\n",
       "      <td>Butter Pecan</td>\n",
       "      <td>157</td>\n",
       "      <td>110</td>\n",
       "      <td>X</td>\n",
       "      <td>175</td>\n",
       "      <td>372</td>\n",
       "      <td>A-town</td>\n",
       "      <td>58</td>\n",
       "      <td>Pause Associates</td>\n",
       "      <td>275</td>\n",
       "      <td>173</td>\n",
       "      <td>15</td>\n",
       "      <td>37</td>\n",
       "      <td>yes</td>\n",
       "    </tr>\n",
       "    <tr>\n",
       "      <th>79256</th>\n",
       "      <td>Mushrooms</td>\n",
       "      <td>Neapolitan</td>\n",
       "      <td>194</td>\n",
       "      <td>98</td>\n",
       "      <td>Z</td>\n",
       "      <td>182</td>\n",
       "      <td>305</td>\n",
       "      <td>A-town</td>\n",
       "      <td>44</td>\n",
       "      <td>Pause Associates</td>\n",
       "      <td>2076</td>\n",
       "      <td>151</td>\n",
       "      <td>170</td>\n",
       "      <td>52</td>\n",
       "      <td>no</td>\n",
       "    </tr>\n",
       "    <tr>\n",
       "      <th>79257</th>\n",
       "      <td>Extra cheese</td>\n",
       "      <td>Strawberry</td>\n",
       "      <td>122</td>\n",
       "      <td>102</td>\n",
       "      <td>Z</td>\n",
       "      <td>175</td>\n",
       "      <td>263</td>\n",
       "      <td>A-town</td>\n",
       "      <td>59</td>\n",
       "      <td>Go LLC</td>\n",
       "      <td>1585</td>\n",
       "      <td>155</td>\n",
       "      <td>0</td>\n",
       "      <td>44</td>\n",
       "      <td>no</td>\n",
       "    </tr>\n",
       "    <tr>\n",
       "      <th>79258</th>\n",
       "      <td>Garlic</td>\n",
       "      <td>Red Velvet</td>\n",
       "      <td>138</td>\n",
       "      <td>116</td>\n",
       "      <td>X</td>\n",
       "      <td>177</td>\n",
       "      <td>354</td>\n",
       "      <td>C-borough</td>\n",
       "      <td>45</td>\n",
       "      <td>Pause Associates</td>\n",
       "      <td>625</td>\n",
       "      <td>160</td>\n",
       "      <td>56</td>\n",
       "      <td>32</td>\n",
       "      <td>yes</td>\n",
       "    </tr>\n",
       "    <tr>\n",
       "      <th>79259</th>\n",
       "      <td>Ham</td>\n",
       "      <td>Red Velvet</td>\n",
       "      <td>198</td>\n",
       "      <td>96</td>\n",
       "      <td>Y</td>\n",
       "      <td>169</td>\n",
       "      <td>342</td>\n",
       "      <td>C-borough</td>\n",
       "      <td>27</td>\n",
       "      <td>Pause Associates</td>\n",
       "      <td>176</td>\n",
       "      <td>147</td>\n",
       "      <td>11</td>\n",
       "      <td>45</td>\n",
       "      <td>no</td>\n",
       "    </tr>\n",
       "    <tr>\n",
       "      <th>79260</th>\n",
       "      <td>Tomato</td>\n",
       "      <td>Butter Pecan</td>\n",
       "      <td>185</td>\n",
       "      <td>109</td>\n",
       "      <td>Y</td>\n",
       "      <td>172</td>\n",
       "      <td>284</td>\n",
       "      <td>A-town</td>\n",
       "      <td>45</td>\n",
       "      <td>Pause Associates</td>\n",
       "      <td>219</td>\n",
       "      <td>168</td>\n",
       "      <td>44</td>\n",
       "      <td>50</td>\n",
       "      <td>yes</td>\n",
       "    </tr>\n",
       "    <tr>\n",
       "      <th>79261</th>\n",
       "      <td>Basil</td>\n",
       "      <td>Cheesecake</td>\n",
       "      <td>187</td>\n",
       "      <td>104</td>\n",
       "      <td>Y</td>\n",
       "      <td>175</td>\n",
       "      <td>302</td>\n",
       "      <td>A-town</td>\n",
       "      <td>39</td>\n",
       "      <td>Go LLC</td>\n",
       "      <td>1507</td>\n",
       "      <td>148</td>\n",
       "      <td>8</td>\n",
       "      <td>47</td>\n",
       "      <td>no</td>\n",
       "    </tr>\n",
       "    <tr>\n",
       "      <th>79262</th>\n",
       "      <td>Extra cheese</td>\n",
       "      <td>Red Velvet</td>\n",
       "      <td>178</td>\n",
       "      <td>100</td>\n",
       "      <td>Z</td>\n",
       "      <td>180</td>\n",
       "      <td>294</td>\n",
       "      <td>C-borough</td>\n",
       "      <td>52</td>\n",
       "      <td>Pause Associates</td>\n",
       "      <td>1031</td>\n",
       "      <td>148</td>\n",
       "      <td>6</td>\n",
       "      <td>33</td>\n",
       "      <td>no</td>\n",
       "    </tr>\n",
       "    <tr>\n",
       "      <th>79264</th>\n",
       "      <td>Extra cheese</td>\n",
       "      <td>Cookies and Cream</td>\n",
       "      <td>169</td>\n",
       "      <td>101</td>\n",
       "      <td>Y</td>\n",
       "      <td>180</td>\n",
       "      <td>259</td>\n",
       "      <td>A-town</td>\n",
       "      <td>54</td>\n",
       "      <td>Pause Associates</td>\n",
       "      <td>162</td>\n",
       "      <td>148</td>\n",
       "      <td>43</td>\n",
       "      <td>26</td>\n",
       "      <td>no</td>\n",
       "    </tr>\n",
       "    <tr>\n",
       "      <th>79265</th>\n",
       "      <td>Ham</td>\n",
       "      <td>Vanilla</td>\n",
       "      <td>185</td>\n",
       "      <td>109</td>\n",
       "      <td>Y</td>\n",
       "      <td>177</td>\n",
       "      <td>306</td>\n",
       "      <td>B-ville</td>\n",
       "      <td>33</td>\n",
       "      <td>Pause Associates</td>\n",
       "      <td>1130</td>\n",
       "      <td>163</td>\n",
       "      <td>53</td>\n",
       "      <td>49</td>\n",
       "      <td>yes</td>\n",
       "    </tr>\n",
       "    <tr>\n",
       "      <th>79266</th>\n",
       "      <td>Extra cheese</td>\n",
       "      <td>Butter Pecan</td>\n",
       "      <td>231</td>\n",
       "      <td>100</td>\n",
       "      <td>Z</td>\n",
       "      <td>185</td>\n",
       "      <td>356</td>\n",
       "      <td>A-town</td>\n",
       "      <td>22</td>\n",
       "      <td>Go LLC</td>\n",
       "      <td>491</td>\n",
       "      <td>145</td>\n",
       "      <td>42</td>\n",
       "      <td>47</td>\n",
       "      <td>no</td>\n",
       "    </tr>\n",
       "    <tr>\n",
       "      <th>79267</th>\n",
       "      <td>Tomato</td>\n",
       "      <td>Orange Sherbert</td>\n",
       "      <td>187</td>\n",
       "      <td>106</td>\n",
       "      <td>Y</td>\n",
       "      <td>173</td>\n",
       "      <td>297</td>\n",
       "      <td>C-borough</td>\n",
       "      <td>37</td>\n",
       "      <td>Pause Associates</td>\n",
       "      <td>3309</td>\n",
       "      <td>147</td>\n",
       "      <td>3</td>\n",
       "      <td>53</td>\n",
       "      <td>no</td>\n",
       "    </tr>\n",
       "  </tbody>\n",
       "</table>\n",
       "<p>770 rows × 15 columns</p>\n",
       "</div>"
      ],
      "text/plain": [
       "        favorite_pizza_topping favorite_ice_cream_flavor  apm  income grade  \\\n",
       "user_id                                                                       \n",
       "78268                  Spinach                      Mint  171     104     X   \n",
       "78269                  Oregano                 Pistachio  218      96     Y   \n",
       "78271              Red peppers                    Coffee  184     101     Z   \n",
       "78272                  Chicken                    Coffee  210     100     Z   \n",
       "78274                   Tomato                      Mint  223     111     Y   \n",
       "78275                  Spinach         Cookies and Cream  168     114     Y   \n",
       "78277              Red peppers                      Mint  216     106     Y   \n",
       "78278                  Sausage                Red Velvet  186      97     Z   \n",
       "78279                    Bacon                Cheesecake  196     102     Y   \n",
       "78281                BBQ Sauce                    Coffee  178     109     Y   \n",
       "78282             Extra cheese         Cookies and Cream  216      91     Z   \n",
       "78283                  Sausage                Cheesecake  169     108     Y   \n",
       "78284             Black olives         Cookies and Cream  188      97     X   \n",
       "78285                BBQ Sauce                Cheesecake  191     117     X   \n",
       "78286             Black olives                 Chocolate  180     110     X   \n",
       "78287                  Spinach                Cheesecake  194     107     Y   \n",
       "78288                Pepperoni                 Chocolate  180     119     Z   \n",
       "78289                  Spinach                      Mint  199      96     Y   \n",
       "78290             Black olives                   Vanilla  169     109     Y   \n",
       "78291                  Spinach         Cookies and Cream  209     104     X   \n",
       "78293              Red peppers                Red Velvet  203     100     Y   \n",
       "78294                    Pesto         Cookies and Cream  206     114     Z   \n",
       "78295                  Sausage                 Pistachio  184     109     Y   \n",
       "78296                    Pesto                Strawberry  193      94     Z   \n",
       "78297                      Ham                Cheesecake  219     111     X   \n",
       "78298                    Pesto                      Mint  197     105     Y   \n",
       "78301              Red peppers                 Pistachio  210     102     Y   \n",
       "78302                    Bacon                Red Velvet  219     105     Z   \n",
       "78303                    Bacon                   Vanilla  190     107     Z   \n",
       "78304              Red peppers                 Chocolate  210     101     Z   \n",
       "...                        ...                       ...  ...     ...   ...   \n",
       "79231                      Ham                   Vanilla  167     102     Y   \n",
       "79233                  Spinach                   Vanilla  187     104     Z   \n",
       "79235                      Ham                Red Velvet  193      95     Y   \n",
       "79236             Black olives                Cheesecake  155     105     Y   \n",
       "79238                  Spinach                      Mint  184      97     Z   \n",
       "79239                      Ham                 Chocolate  163     112     X   \n",
       "79240                Pineapple           Orange Sherbert  187      96     Z   \n",
       "79242                  Sausage                Red Velvet  208      99     Z   \n",
       "79243                    Pesto                Red Velvet  225     105     Z   \n",
       "79244                Pineapple         Cookies and Cream  169     100     Y   \n",
       "79245             Black olives           Orange Sherbert  211     107     X   \n",
       "79246                      Ham                Cheesecake  182     107     Y   \n",
       "79247              Red peppers                Cheesecake  181      91     Z   \n",
       "79248                      Ham                Red Velvet  158      97     Z   \n",
       "79249                  Sausage                Neapolitan  235      95     Y   \n",
       "79250                  Sausage                Cheesecake  187     114     Z   \n",
       "79252                    Bacon           Orange Sherbert  162      99     Y   \n",
       "79253                    Basil                      Mint  201     104     Y   \n",
       "79254                      Ham              Butter Pecan  157     110     X   \n",
       "79256                Mushrooms                Neapolitan  194      98     Z   \n",
       "79257             Extra cheese                Strawberry  122     102     Z   \n",
       "79258                   Garlic                Red Velvet  138     116     X   \n",
       "79259                      Ham                Red Velvet  198      96     Y   \n",
       "79260                   Tomato              Butter Pecan  185     109     Y   \n",
       "79261                    Basil                Cheesecake  187     104     Y   \n",
       "79262             Extra cheese                Red Velvet  178     100     Z   \n",
       "79264             Extra cheese         Cookies and Cream  169     101     Y   \n",
       "79265                      Ham                   Vanilla  185     109     Y   \n",
       "79266             Extra cheese              Butter Pecan  231     100     Z   \n",
       "79267                   Tomato           Orange Sherbert  187     106     Y   \n",
       "\n",
       "         height  reaction_time       city  age           company  \\\n",
       "user_id                                                            \n",
       "78268       177            295  C-borough   52  Pause Associates   \n",
       "78269       178            305  C-borough   33  Pause Associates   \n",
       "78271       185            295     A-town   44  Pause Associates   \n",
       "78272       180            311     A-town   34            Go LLC   \n",
       "78274       181            287    B-ville   41            Go LLC   \n",
       "78275       173            277     A-town   55  Pause Associates   \n",
       "78277       184            263     A-town   39            Go LLC   \n",
       "78278       182            299     A-town   63            Go LLC   \n",
       "78279       181            339     A-town   46            Go LLC   \n",
       "78281       176            359  C-borough   59  Pause Associates   \n",
       "78282       175            274     A-town   66  Pause Associates   \n",
       "78283       182            306     A-town   61  Pause Associates   \n",
       "78284       181            284  C-borough   42  Pause Associates   \n",
       "78285       177            351  C-borough   43          Stop Inc   \n",
       "78286       180            335     A-town   26  Pause Associates   \n",
       "78287       174            347    B-ville   62  Pause Associates   \n",
       "78288       179            300  C-borough   20  Pause Associates   \n",
       "78289       178            297     A-town   61            Go LLC   \n",
       "78290       170            335     A-town   28  Pause Associates   \n",
       "78291       178            372     A-town   33  Pause Associates   \n",
       "78293       182            299     A-town   23  Pause Associates   \n",
       "78294       178            293     A-town   54  Pause Associates   \n",
       "78295       180            357  C-borough   21  Pause Associates   \n",
       "78296       171            333    B-ville   61  Pause Associates   \n",
       "78297       175            268  C-borough   42  Pause Associates   \n",
       "78298       177            304  C-borough   65            Go LLC   \n",
       "78301       175            321     A-town   31  Pause Associates   \n",
       "78302       180            312     A-town   43  Pause Associates   \n",
       "78303       174            327     A-town   69            Go LLC   \n",
       "78304       178            288  C-borough   38            Go LLC   \n",
       "...         ...            ...        ...  ...               ...   \n",
       "79231       170            300     A-town   57            Go LLC   \n",
       "79233       177            326     A-town   42  Pause Associates   \n",
       "79235       182            250  C-borough   20            Go LLC   \n",
       "79236       174            341     A-town   26            Go LLC   \n",
       "79238       176            334  C-borough   34  Pause Associates   \n",
       "79239       174            295    B-ville   32  Pause Associates   \n",
       "79240       171            315    B-ville   39  Pause Associates   \n",
       "79242       180            241     A-town   34            Go LLC   \n",
       "79243       181            264  C-borough   41  Pause Associates   \n",
       "79244       178            281  C-borough   43            Go LLC   \n",
       "79245       178            284    B-ville   48  Pause Associates   \n",
       "79246       178            342     A-town   45            Go LLC   \n",
       "79247       175            260     A-town   28          Stop Inc   \n",
       "79248       171            266  C-borough   59            Go LLC   \n",
       "79249       175            268     A-town   68  Pause Associates   \n",
       "79250       170            301     A-town   33  Pause Associates   \n",
       "79252       187            351     A-town   51            Go LLC   \n",
       "79253       182            336     A-town   38  Pause Associates   \n",
       "79254       175            372     A-town   58  Pause Associates   \n",
       "79256       182            305     A-town   44  Pause Associates   \n",
       "79257       175            263     A-town   59            Go LLC   \n",
       "79258       177            354  C-borough   45  Pause Associates   \n",
       "79259       169            342  C-borough   27  Pause Associates   \n",
       "79260       172            284     A-town   45  Pause Associates   \n",
       "79261       175            302     A-town   39            Go LLC   \n",
       "79262       180            294  C-borough   52  Pause Associates   \n",
       "79264       180            259     A-town   54  Pause Associates   \n",
       "79265       177            306    B-ville   33  Pause Associates   \n",
       "79266       185            356     A-town   22            Go LLC   \n",
       "79267       173            297  C-borough   37  Pause Associates   \n",
       "\n",
       "         kappa_ability  weight  amount  gregariousness churn  \n",
       "user_id                                                       \n",
       "78268             3363     144      19              57    no  \n",
       "78269             1720     147      57              48    no  \n",
       "78271              920     153      79              52    no  \n",
       "78272             1453     154      29              56    no  \n",
       "78274             2219     159       2              47   yes  \n",
       "78275             1788     162     130              45   yes  \n",
       "78277             2747     156      26              58    no  \n",
       "78278               33     142      16              57    no  \n",
       "78279             5138     152       5              51    no  \n",
       "78281              556     159       7              43   yes  \n",
       "78282             1076     152      27              55    no  \n",
       "78283             4684     162      25              32   yes  \n",
       "78284             4019     146      11              34    no  \n",
       "78285             2829     163       1              43   yes  \n",
       "78286              419     162      12              56   yes  \n",
       "78287              559     168      16              54   yes  \n",
       "78288             2935     162      45              44   yes  \n",
       "78289             1689     153      40              45    no  \n",
       "78290              469     154       8              46   yes  \n",
       "78291             3379     159       8              54   yes  \n",
       "78293             1612     149      31              54    no  \n",
       "78294             6939     168      26              33   yes  \n",
       "78295             1332     153       3              48   yes  \n",
       "78296             3124     148      10              53    no  \n",
       "78297              600     678       1              47   yes  \n",
       "78298             4860     147      43              51    no  \n",
       "78301              269     154       2              68    no  \n",
       "78302             1605     148      71              36    no  \n",
       "78303             2264     149      75              65    no  \n",
       "78304               90     152     182              49    no  \n",
       "...                ...     ...     ...             ...   ...  \n",
       "79231             3741     147      11              50    no  \n",
       "79233             1232     153       2              57    no  \n",
       "79235             4765    -234      19              62    no  \n",
       "79236              170     164      18              66   yes  \n",
       "79238              568     157      53              45    no  \n",
       "79239              744     163       4              56   yes  \n",
       "79240              162     140      50              42    no  \n",
       "79242             3210     148      11              55    no  \n",
       "79243             1048     156       3              45    no  \n",
       "79244              278     149      26              51    no  \n",
       "79245             4140     161      48              41   yes  \n",
       "79246             2137     165      70              43   yes  \n",
       "79247              468     154     106              50    no  \n",
       "79248             3346     141       3              52    no  \n",
       "79249             2142     152      15              39    no  \n",
       "79250             8705     155       1              42   yes  \n",
       "79252             1545     148      65              45    no  \n",
       "79253              482     153      34              50    no  \n",
       "79254              275     173      15              37   yes  \n",
       "79256             2076     151     170              52    no  \n",
       "79257             1585     155       0              44    no  \n",
       "79258              625     160      56              32   yes  \n",
       "79259              176     147      11              45    no  \n",
       "79260              219     168      44              50   yes  \n",
       "79261             1507     148       8              47    no  \n",
       "79262             1031     148       6              33    no  \n",
       "79264              162     148      43              26    no  \n",
       "79265             1130     163      53              49   yes  \n",
       "79266              491     145      42              47    no  \n",
       "79267             3309     147       3              53    no  \n",
       "\n",
       "[770 rows x 15 columns]"
      ]
     },
     "execution_count": 34,
     "metadata": {},
     "output_type": "execute_result"
    }
   ],
   "source": [
    "# ITS BETTER TO COPY THE DATA BEFORE SOME ALTERATIONS \n",
    "\n",
    "df_user1 = df_user.copy(True) \n",
    "df_user1"
   ]
  },
  {
   "cell_type": "code",
   "execution_count": 35,
   "metadata": {},
   "outputs": [
    {
     "data": {
      "text/html": [
       "<div>\n",
       "<style scoped>\n",
       "    .dataframe tbody tr th:only-of-type {\n",
       "        vertical-align: middle;\n",
       "    }\n",
       "\n",
       "    .dataframe tbody tr th {\n",
       "        vertical-align: top;\n",
       "    }\n",
       "\n",
       "    .dataframe thead th {\n",
       "        text-align: right;\n",
       "    }\n",
       "</style>\n",
       "<table border=\"1\" class=\"dataframe\">\n",
       "  <thead>\n",
       "    <tr style=\"text-align: right;\">\n",
       "      <th></th>\n",
       "      <th>favorite_pizza_topping</th>\n",
       "      <th>favorite_ice_cream_flavor</th>\n",
       "      <th>apm</th>\n",
       "      <th>income</th>\n",
       "      <th>grade</th>\n",
       "      <th>height</th>\n",
       "      <th>reaction_time</th>\n",
       "      <th>city</th>\n",
       "      <th>age</th>\n",
       "      <th>company</th>\n",
       "      <th>kappa_ability</th>\n",
       "      <th>weight</th>\n",
       "      <th>amount</th>\n",
       "      <th>gregariousness</th>\n",
       "      <th>churn</th>\n",
       "    </tr>\n",
       "    <tr>\n",
       "      <th>user_id</th>\n",
       "      <th></th>\n",
       "      <th></th>\n",
       "      <th></th>\n",
       "      <th></th>\n",
       "      <th></th>\n",
       "      <th></th>\n",
       "      <th></th>\n",
       "      <th></th>\n",
       "      <th></th>\n",
       "      <th></th>\n",
       "      <th></th>\n",
       "      <th></th>\n",
       "      <th></th>\n",
       "      <th></th>\n",
       "      <th></th>\n",
       "    </tr>\n",
       "  </thead>\n",
       "  <tbody>\n",
       "    <tr>\n",
       "      <th>78268</th>\n",
       "      <td>Spinach</td>\n",
       "      <td>Mint</td>\n",
       "      <td>171</td>\n",
       "      <td>104</td>\n",
       "      <td>X</td>\n",
       "      <td>177</td>\n",
       "      <td>295</td>\n",
       "      <td>C-borough</td>\n",
       "      <td>52</td>\n",
       "      <td>Pause Associates</td>\n",
       "      <td>3363</td>\n",
       "      <td>144</td>\n",
       "      <td>19</td>\n",
       "      <td>57</td>\n",
       "      <td>no</td>\n",
       "    </tr>\n",
       "    <tr>\n",
       "      <th>78269</th>\n",
       "      <td>Oregano</td>\n",
       "      <td>Pistachio</td>\n",
       "      <td>218</td>\n",
       "      <td>96</td>\n",
       "      <td>Y</td>\n",
       "      <td>178</td>\n",
       "      <td>305</td>\n",
       "      <td>C-borough</td>\n",
       "      <td>33</td>\n",
       "      <td>Pause Associates</td>\n",
       "      <td>1720</td>\n",
       "      <td>147</td>\n",
       "      <td>57</td>\n",
       "      <td>48</td>\n",
       "      <td>no</td>\n",
       "    </tr>\n",
       "    <tr>\n",
       "      <th>78271</th>\n",
       "      <td>Red peppers</td>\n",
       "      <td>Coffee</td>\n",
       "      <td>184</td>\n",
       "      <td>101</td>\n",
       "      <td>Z</td>\n",
       "      <td>185</td>\n",
       "      <td>295</td>\n",
       "      <td>A-town</td>\n",
       "      <td>44</td>\n",
       "      <td>Pause Associates</td>\n",
       "      <td>920</td>\n",
       "      <td>153</td>\n",
       "      <td>79</td>\n",
       "      <td>52</td>\n",
       "      <td>no</td>\n",
       "    </tr>\n",
       "    <tr>\n",
       "      <th>78272</th>\n",
       "      <td>Chicken</td>\n",
       "      <td>Coffee</td>\n",
       "      <td>210</td>\n",
       "      <td>100</td>\n",
       "      <td>Z</td>\n",
       "      <td>180</td>\n",
       "      <td>311</td>\n",
       "      <td>A-town</td>\n",
       "      <td>34</td>\n",
       "      <td>Go LLC</td>\n",
       "      <td>1453</td>\n",
       "      <td>154</td>\n",
       "      <td>29</td>\n",
       "      <td>56</td>\n",
       "      <td>no</td>\n",
       "    </tr>\n",
       "    <tr>\n",
       "      <th>78274</th>\n",
       "      <td>Tomato</td>\n",
       "      <td>Mint</td>\n",
       "      <td>223</td>\n",
       "      <td>111</td>\n",
       "      <td>Y</td>\n",
       "      <td>181</td>\n",
       "      <td>287</td>\n",
       "      <td>B-ville</td>\n",
       "      <td>41</td>\n",
       "      <td>Go LLC</td>\n",
       "      <td>2219</td>\n",
       "      <td>159</td>\n",
       "      <td>2</td>\n",
       "      <td>47</td>\n",
       "      <td>yes</td>\n",
       "    </tr>\n",
       "  </tbody>\n",
       "</table>\n",
       "</div>"
      ],
      "text/plain": [
       "        favorite_pizza_topping favorite_ice_cream_flavor  apm  income grade  \\\n",
       "user_id                                                                       \n",
       "78268                  Spinach                      Mint  171     104     X   \n",
       "78269                  Oregano                 Pistachio  218      96     Y   \n",
       "78271              Red peppers                    Coffee  184     101     Z   \n",
       "78272                  Chicken                    Coffee  210     100     Z   \n",
       "78274                   Tomato                      Mint  223     111     Y   \n",
       "\n",
       "         height  reaction_time       city  age           company  \\\n",
       "user_id                                                            \n",
       "78268       177            295  C-borough   52  Pause Associates   \n",
       "78269       178            305  C-borough   33  Pause Associates   \n",
       "78271       185            295     A-town   44  Pause Associates   \n",
       "78272       180            311     A-town   34            Go LLC   \n",
       "78274       181            287    B-ville   41            Go LLC   \n",
       "\n",
       "         kappa_ability  weight  amount  gregariousness churn  \n",
       "user_id                                                       \n",
       "78268             3363     144      19              57    no  \n",
       "78269             1720     147      57              48    no  \n",
       "78271              920     153      79              52    no  \n",
       "78272             1453     154      29              56    no  \n",
       "78274             2219     159       2              47   yes  "
      ]
     },
     "execution_count": 35,
     "metadata": {},
     "output_type": "execute_result"
    }
   ],
   "source": [
    "df_user.head()"
   ]
  },
  {
   "cell_type": "code",
   "execution_count": 36,
   "metadata": {},
   "outputs": [],
   "source": [
    "Categorical_features = [\"favorite_pizza_topping\",\"grade\", \"favorite_ice_cream_flavor\", \"city\", \"company\"]\n",
    "numerical_features = [\"apm\", \"income\", \"height\", \"reaction_time\", \"age\", \"weight\", \"amount\", \"gregariousness\"]\n",
    "target = [\"churn\"]"
   ]
  },
  {
   "cell_type": "markdown",
   "metadata": {},
   "source": [
    "## Lets do some Exploratory Data Analysis, By considering Distribution of Numerical Data w.r.t Target Variable"
   ]
  },
  {
   "cell_type": "code",
   "execution_count": 37,
   "metadata": {},
   "outputs": [
    {
     "data": {
      "text/plain": [
       "array([<matplotlib.axes._subplots.AxesSubplot object at 0x000002A22EA49668>,\n",
       "       <matplotlib.axes._subplots.AxesSubplot object at 0x000002A22EA56898>,\n",
       "       <matplotlib.axes._subplots.AxesSubplot object at 0x000002A22E532A90>,\n",
       "       <matplotlib.axes._subplots.AxesSubplot object at 0x000002A22E55BCC0>],\n",
       "      dtype=object)"
      ]
     },
     "execution_count": 37,
     "metadata": {},
     "output_type": "execute_result"
    },
    {
     "data": {
      "image/png": "[encoded data removed]",
      "text/plain": [
       "<Figure size 1440x720 with 4 Axes>"
      ]
     },
     "metadata": {
      "needs_background": "light"
     },
     "output_type": "display_data"
    }
   ],
   "source": [
    "fig, ax = plt.subplots(1, 4, figsize=(20, 10))\n",
    "df_user[df_user.churn == \"no\"][numerical_features[:4]].hist( color=\"blue\", alpha=0.5, ax=ax)\n",
    "df_user[df_user.churn == \"yes\"][numerical_features[:4]].hist(color=\"red\", alpha=0.5, ax=ax)"
   ]
  },
  {
   "cell_type": "code",
   "execution_count": 38,
   "metadata": {},
   "outputs": [
    {
     "data": {
      "text/plain": [
       "array([<matplotlib.axes._subplots.AxesSubplot object at 0x000002A22E5E74A8>,\n",
       "       <matplotlib.axes._subplots.AxesSubplot object at 0x000002A22EA0AB00>,\n",
       "       <matplotlib.axes._subplots.AxesSubplot object at 0x000002A22EA185F8>,\n",
       "       <matplotlib.axes._subplots.AxesSubplot object at 0x000002A22E4B8978>],\n",
       "      dtype=object)"
      ]
     },
     "execution_count": 38,
     "metadata": {},
     "output_type": "execute_result"
    },
    {
     "data": {
      "image/png": "[encoded data removed]",
      "text/plain": [
       "<Figure size 1440x720 with 4 Axes>"
      ]
     },
     "metadata": {
      "needs_background": "light"
     },
     "output_type": "display_data"
    }
   ],
   "source": [
    "fig, ax = plt.subplots(1, 4, figsize=(20, 10))\n",
    "df_user[df_user.churn == \"no\"][numerical_features[4:]].hist(color=\"blue\", alpha=0.5, ax=ax)\n",
    "df_user[df_user.churn == \"yes\"][numerical_features[4:]].hist(color=\"red\", alpha=0.5, ax=ax)"
   ]
  },
  {
   "cell_type": "markdown",
   "metadata": {},
   "source": [
    "## Some Insights!\n",
    "\n",
    "\n",
    "\n",
    "### 1) In Income we can observe that people who fall below average or mean Income range are less likely to churn, we can see that <= mean income are good subscribers\n",
    "\n",
    "### 2)  for apm, greagariousness and reaction time we can observe that the people in and around mean value have less probability of churning"
   ]
  },
  {
   "cell_type": "code",
   "execution_count": 39,
   "metadata": {},
   "outputs": [
    {
     "data": {
      "text/plain": [
       "<matplotlib.axes._subplots.AxesSubplot at 0x2a22e89b160>"
      ]
     },
     "execution_count": 39,
     "metadata": {},
     "output_type": "execute_result"
    },
    {
     "data": {
      "image/png": "[encoded data removed]",
      "text/plain": [
       "<Figure size 1800x1080 with 1 Axes>"
      ]
     },
     "metadata": {
      "needs_background": "light"
     },
     "output_type": "display_data"
    }
   ],
   "source": [
    "\n",
    "fig, ax = plt.subplots(1, 1, figsize=(25, 15))\n",
    "ax.set_title(\"Income\",fontsize =20)\n",
    "df_user[df_user.churn == \"no\"]['income'].hist( color=\"blue\", alpha=0.5, ax=ax)\n",
    "df_user[df_user.churn == \"yes\"]['income'].hist(color=\"red\", alpha=0.5, ax=ax)"
   ]
  },
  {
   "cell_type": "markdown",
   "metadata": {},
   "source": [
    "##  from above image people with income below mean i.e, 103k are likely not to churn "
   ]
  },
  {
   "cell_type": "code",
   "execution_count": 40,
   "metadata": {},
   "outputs": [
    {
     "data": {
      "text/plain": [
       "<matplotlib.axes._subplots.AxesSubplot at 0x2a22e929b38>"
      ]
     },
     "execution_count": 40,
     "metadata": {},
     "output_type": "execute_result"
    },
    {
     "data": {
      "image/png": "[encoded data removed]",
      "text/plain": [
       "<Figure size 1800x1080 with 1 Axes>"
      ]
     },
     "metadata": {
      "needs_background": "light"
     },
     "output_type": "display_data"
    }
   ],
   "source": [
    "\n",
    "fig, ax = plt.subplots(1, 1, figsize=(25, 15))\n",
    "ax.set_title(\"Height\",fontsize =20)\n",
    "df_user[(df_user.churn == \"no\") & (df_user.height < 250)]['height'].hist( color=\"blue\", alpha=0.5, ax=ax)\n",
    "df_user[(df_user.churn == \"yes\") & (df_user.height < 250)]['height'].hist(color=\"red\", alpha=0.5, ax=ax)"
   ]
  },
  {
   "cell_type": "code",
   "execution_count": 41,
   "metadata": {},
   "outputs": [
    {
     "data": {
      "text/plain": [
       "<matplotlib.axes._subplots.AxesSubplot at 0x2a22e9d4668>"
      ]
     },
     "execution_count": 41,
     "metadata": {},
     "output_type": "execute_result"
    },
    {
     "data": {
      "image/png": "[encoded data removed]",
      "text/plain": [
       "<Figure size 1800x1080 with 1 Axes>"
      ]
     },
     "metadata": {
      "needs_background": "light"
     },
     "output_type": "display_data"
    }
   ],
   "source": [
    "fig, ax = plt.subplots(1, 1, figsize=(25, 15))\n",
    "ax.set_title(\"gregariousness\",fontsize =20)\n",
    "df_user[df_user.churn == \"no\"]['gregariousness'].hist( color=\"blue\", alpha=0.5, ax=ax)\n",
    "df_user[df_user.churn == \"yes\"]['gregariousness'].hist(color=\"red\", alpha=0.5, ax=ax)"
   ]
  },
  {
   "cell_type": "markdown",
   "metadata": {},
   "source": [
    "## Also accoring to gregariousness plot above, \n",
    "## people who are more fond of company are less likely churn."
   ]
  },
  {
   "cell_type": "code",
   "execution_count": null,
   "metadata": {},
   "outputs": [],
   "source": []
  },
  {
   "cell_type": "markdown",
   "metadata": {},
   "source": [
    "## Categorical Data Distribution"
   ]
  },
  {
   "cell_type": "code",
   "execution_count": 42,
   "metadata": {},
   "outputs": [
    {
     "data": {
      "image/png": "[encoded data removed]",
      "text/plain": [
       "<Figure size 1440x720 with 5 Axes>"
      ]
     },
     "metadata": {
      "needs_background": "light"
     },
     "output_type": "display_data"
    }
   ],
   "source": [
    "fig, ax = plt.subplots(1, 5, figsize=(20, 10), squeeze=False)\n",
    "for i, categorical_feature in enumerate(Categorical_features):\n",
    "   \n",
    "    df_user[categorical_feature].value_counts().plot('bar', ax=ax[0, i]).set_title(categorical_feature)"
   ]
  },
  {
   "cell_type": "markdown",
   "metadata": {},
   "source": [
    "## Lets check distribution of Churns based on categorical data "
   ]
  },
  {
   "cell_type": "code",
   "execution_count": 43,
   "metadata": {},
   "outputs": [
    {
     "data": {
      "text/plain": [
       "Text(0.5, 1.0, 'churned')"
      ]
     },
     "execution_count": 43,
     "metadata": {},
     "output_type": "execute_result"
    },
    {
     "data": {
      "image/png": "[encoded data removed]",
      "text/plain": [
       "<Figure size 1296x288 with 2 Axes>"
      ]
     },
     "metadata": {
      "needs_background": "light"
     },
     "output_type": "display_data"
    }
   ],
   "source": [
    "\n",
    "fig, ax = plt.subplots(1, 2, figsize=(18, 4))\n",
    "df_user[df_user.churn == \"no\"]['favorite_pizza_topping'].value_counts().plot('bar', ax=ax[0]).set_title('not churned')\n",
    "df_user[df_user.churn == \"yes\"]['favorite_pizza_topping'].value_counts().plot('bar', ax=ax[1]).set_title('churned')"
   ]
  },
  {
   "cell_type": "markdown",
   "metadata": {},
   "source": [
    "## We can clearly see from above images that Extra cheese, red peppers and Ham preferers are less likely to churn in contrary Pesto and BBQ sauce preferers have churned more\n",
    "## Lets get some numbers for clarity "
   ]
  },
  {
   "cell_type": "code",
   "execution_count": 44,
   "metadata": {},
   "outputs": [
    {
     "name": "stdout",
     "output_type": "stream",
     "text": [
      "86  out of  89 who chose Extra Cheese have NOT CHURNED \n",
      "\n",
      "65  out of  65 who chose Red Peppers have NOT CHURNED \n",
      "\n",
      "59  out of  76 who chose Ham have NOT CHURNED \n",
      " \n",
      " \n",
      "\n",
      "33  out of  45 who choose Pesto have CHURNED \n",
      "\n",
      "28  out of  35 who choose BBQ Sauce have CHURNED \n",
      "\n"
     ]
    }
   ],
   "source": [
    "print(df_user[df_user.favorite_pizza_topping == 'Extra cheese']['churn'].value_counts()[0],\" out of \", df_user[df_user.favorite_pizza_topping == 'Extra cheese']['churn'].value_counts().sum(),\"who chose Extra Cheese have NOT CHURNED\",\"\\n\")\n",
    "print(df_user[df_user.favorite_pizza_topping == 'Red peppers']['churn'].value_counts()[0],\" out of \", df_user[df_user.favorite_pizza_topping == 'Red peppers']['churn'].value_counts().sum(),\"who chose Red Peppers have NOT CHURNED\",\"\\n\")\n",
    "print(df_user[df_user.favorite_pizza_topping == 'Ham']['churn'].value_counts()[0],\" out of \", df_user[df_user.favorite_pizza_topping == 'Ham']['churn'].value_counts().sum(),\"who chose Ham have NOT CHURNED\",\"\\n\",\"\\n\",\"\\n\")\n",
    "print(df_user[df_user.favorite_pizza_topping == 'Pesto']['churn'].value_counts()[0],\" out of \", df_user[df_user.favorite_pizza_topping == 'Pesto']['churn'].value_counts().sum(),\"who choose Pesto have CHURNED\",\"\\n\")\n",
    "print(df_user[df_user.favorite_pizza_topping == 'BBQ Sauce']['churn'].value_counts()[0],\" out of \", df_user[df_user.favorite_pizza_topping == 'BBQ Sauce']['churn'].value_counts().sum(),\"who choose BBQ Sauce have CHURNED\",\"\\n\")\n"
   ]
  },
  {
   "cell_type": "markdown",
   "metadata": {},
   "source": [
    "## Red Peppers is the most contributing factor according to above statistics"
   ]
  },
  {
   "cell_type": "code",
   "execution_count": 45,
   "metadata": {},
   "outputs": [
    {
     "data": {
      "text/plain": [
       "Text(0.5, 1.0, 'churned')"
      ]
     },
     "execution_count": 45,
     "metadata": {},
     "output_type": "execute_result"
    },
    {
     "data": {
      "image/png": "[encoded data removed]",
      "text/plain": [
       "<Figure size 1008x288 with 2 Axes>"
      ]
     },
     "metadata": {
      "needs_background": "light"
     },
     "output_type": "display_data"
    }
   ],
   "source": [
    "fig, ax = plt.subplots(1, 2, figsize=(14, 4))\n",
    "df_user[df_user.churn == \"no\"]['favorite_ice_cream_flavor'].value_counts().plot('bar', ax=ax[0]).set_title('not churned')\n",
    "df_user[df_user.churn == \"yes\"]['favorite_ice_cream_flavor'].value_counts().plot('bar', ax=ax[1]).set_title('churned')"
   ]
  },
  {
   "cell_type": "markdown",
   "metadata": {},
   "source": [
    "## Above we can see some top contributors are Vanilla, Red Velvet, strawberry, orange sherbet for Not churning and Pistachio for churning"
   ]
  },
  {
   "cell_type": "code",
   "execution_count": 46,
   "metadata": {},
   "outputs": [
    {
     "name": "stdout",
     "output_type": "stream",
     "text": [
      "78  out of  105 who chose Vanilla have NOT CHURNED \n",
      "\n",
      "72  out of  96 who chose Red Velvet have NOT CHURNED \n",
      "\n",
      "57  out of  62 who chose Strawberry have NOT CHURNED \n",
      "\n",
      "63  out of  82 who choose Orange sherbert have NOT CHURNED \n",
      " \n",
      " \n",
      "\n",
      "31  out of  36 who choose Pistachio have CHURNED \n",
      "\n"
     ]
    }
   ],
   "source": [
    "print(df_user[df_user.favorite_ice_cream_flavor == 'Vanilla']['churn'].value_counts()[0],\" out of \", df_user[df_user.favorite_ice_cream_flavor == 'Vanilla']['churn'].value_counts().sum(),\"who chose Vanilla have NOT CHURNED\",\"\\n\")\n",
    "print(df_user[df_user.favorite_ice_cream_flavor == 'Red Velvet']['churn'].value_counts()[0],\" out of \", df_user[df_user.favorite_ice_cream_flavor == 'Red Velvet']['churn'].value_counts().sum(),\"who chose Red Velvet have NOT CHURNED\",\"\\n\")\n",
    "print(df_user[df_user.favorite_ice_cream_flavor == 'Strawberry']['churn'].value_counts()[0],\" out of \", df_user[df_user.favorite_ice_cream_flavor == 'Strawberry']['churn'].value_counts().sum(),\"who chose Strawberry have NOT CHURNED\",\"\\n\")\n",
    "print(df_user[df_user.favorite_ice_cream_flavor == 'Orange Sherbert']['churn'].value_counts()[0],\" out of \", df_user[df_user.favorite_ice_cream_flavor == 'Orange Sherbert']['churn'].value_counts().sum(),\"who choose Orange sherbert have NOT CHURNED\",\"\\n\",\"\\n\",\"\\n\")\n",
    "print(df_user[df_user.favorite_ice_cream_flavor == 'Pistachio']['churn'].value_counts()[0],\" out of \", df_user[df_user.favorite_ice_cream_flavor == 'Pistachio']['churn'].value_counts().sum(),\"who choose Pistachio have CHURNED\",\"\\n\")"
   ]
  },
  {
   "cell_type": "markdown",
   "metadata": {},
   "source": [
    "## Strawberry and Pistachio are the most contributing factor from above data"
   ]
  },
  {
   "cell_type": "code",
   "execution_count": 47,
   "metadata": {},
   "outputs": [
    {
     "data": {
      "text/plain": [
       "Text(0.5, 1.0, 'churned vs Grade')"
      ]
     },
     "execution_count": 47,
     "metadata": {},
     "output_type": "execute_result"
    },
    {
     "data": {
      "image/png": "[encoded data removed]",
      "text/plain": [
       "<Figure size 1008x288 with 2 Axes>"
      ]
     },
     "metadata": {
      "needs_background": "light"
     },
     "output_type": "display_data"
    }
   ],
   "source": [
    "fig, ax = plt.subplots(1, 2, figsize=(14, 4))\n",
    "df_user[df_user.churn == \"no\"]['grade'].value_counts().plot('bar', ax=ax[0]).set_title('not churned vs Grade')\n",
    "df_user[df_user.churn == \"yes\"]['grade'].value_counts().plot('bar', ax=ax[1]).set_title('churned vs Grade')"
   ]
  },
  {
   "cell_type": "code",
   "execution_count": 48,
   "metadata": {},
   "outputs": [
    {
     "name": "stdout",
     "output_type": "stream",
     "text": [
      "61  out of  82 who chose GradeX have CHURNED   total = 74.39024390243902 % \n",
      "\n",
      "204  out of  316 who chose GradeY have NOT CHURNED total = 64.55696202531645 % \n",
      "\n",
      "295  out of  372 who chose GradeZ have  NOT CHURNED total = 79.3010752688172 % \n",
      "\n"
     ]
    }
   ],
   "source": [
    "print(df_user[df_user.grade == 'X']['churn'].value_counts()[0],\" out of \", df_user[df_user.grade == 'X']['churn'].value_counts().sum(),\"who chose GradeX have CHURNED\",\" \", \"total =\", (61/82)*100,\"%\",\"\\n\")\n",
    "print(df_user[df_user.grade == 'Y']['churn'].value_counts()[0],\" out of \", df_user[df_user.grade == 'Y']['churn'].value_counts().sum(),\"who chose GradeY have NOT CHURNED\",\"total =\", (204/316)*100,\"%\",\"\\n\")\n",
    "print(df_user[df_user.grade == 'Z']['churn'].value_counts()[0],\" out of \", df_user[df_user.grade == 'Z']['churn'].value_counts().sum(),\"who chose GradeZ have  NOT CHURNED\",\"total =\",(295/372)*100,\"%\",\"\\n\")"
   ]
  },
  {
   "cell_type": "code",
   "execution_count": 49,
   "metadata": {},
   "outputs": [],
   "source": [
    "# df_user[df_user.grade == 'Z']['churn'].value_counts()"
   ]
  },
  {
   "cell_type": "markdown",
   "metadata": {},
   "source": [
    "## We Can Clearly Observe that Grade X has a higher probability of getting Customer Churned. and Grade Z has probability of not getting customer Churned"
   ]
  },
  {
   "cell_type": "code",
   "execution_count": 50,
   "metadata": {},
   "outputs": [
    {
     "data": {
      "text/plain": [
       "Text(0.5, 1.0, 'churned vs City')"
      ]
     },
     "execution_count": 50,
     "metadata": {},
     "output_type": "execute_result"
    },
    {
     "data": {
      "image/png": "[encoded data removed]",
      "text/plain": [
       "<Figure size 1008x288 with 2 Axes>"
      ]
     },
     "metadata": {
      "needs_background": "light"
     },
     "output_type": "display_data"
    }
   ],
   "source": [
    "fig, ax = plt.subplots(1, 2, figsize=(14, 4))\n",
    "df_user[df_user.churn == \"no\"]['city'].value_counts().plot('bar', ax=ax[0]).set_title('not churned vs City')\n",
    "df_user[df_user.churn == \"yes\"]['city'].value_counts().plot('bar', ax=ax[1]).set_title('churned vs City')"
   ]
  },
  {
   "cell_type": "code",
   "execution_count": 51,
   "metadata": {},
   "outputs": [
    {
     "name": "stdout",
     "output_type": "stream",
     "text": [
      "313  out of  450 who chose CityA have NOT CHURNED   total = 69.55555555555556 % \n",
      "\n",
      "190  out of  253 who chose CityC have NOT CHURNED total = 75.09881422924902 % \n",
      "\n",
      "50  out of  67 who chose CityB have  CHURNED total = 74.6268656716418 % \n",
      "\n"
     ]
    }
   ],
   "source": [
    "print(df_user[df_user.city == 'A-town']['churn'].value_counts()[0],\" out of \", df_user[df_user.city == 'A-town']['churn'].value_counts().sum(),\"who chose CityA have NOT CHURNED\",\" \", \"total =\", (313/450)*100,\"%\",\"\\n\")\n",
    "print(df_user[df_user.city == 'C-borough']['churn'].value_counts()[0],\" out of \", df_user[df_user.city == 'C-borough']['churn'].value_counts().sum(),\"who chose CityC have NOT CHURNED\",\"total =\", (190/253)*100,\"%\",\"\\n\")\n",
    "print(df_user[df_user.city == 'B-ville']['churn'].value_counts()[0],\" out of \", df_user[df_user.city == 'B-ville']['churn'].value_counts().sum(),\"who chose CityB have  CHURNED\",\"total =\",(50/67)*100,\"%\",\"\\n\")"
   ]
  },
  {
   "cell_type": "markdown",
   "metadata": {},
   "source": [
    "## People Living in B-Ville are not interested in the Company and are more likely to Churn.\n",
    "## People in C-borough have not churned much \n",
    "\n",
    "## Lets go further and check whether the people in B-ville are given more of X grade(Just an analysis)"
   ]
  },
  {
   "cell_type": "code",
   "execution_count": 52,
   "metadata": {},
   "outputs": [
    {
     "name": "stdout",
     "output_type": "stream",
     "text": [
      "15.853658536585366\n",
      "13 out of  82  Have gradex\n"
     ]
    }
   ],
   "source": [
    "print((df_user[df_user.city == \"B-ville\"][\"grade\"].value_counts()[2])/(df_user.grade.value_counts()[2])*100)\n",
    "print(df_user[df_user.city == \"B-ville\"][\"grade\"].value_counts()[2], \"out of \", df_user.grade.value_counts()[2],\" Have gradex\")"
   ]
  },
  {
   "cell_type": "markdown",
   "metadata": {},
   "source": [
    "## No its  a good thing in the perspective of a predictive model designer that the variables are not correlated and are affecting independently but at the same time we do not have a proper reason why B-ville people are likely to Churn"
   ]
  },
  {
   "cell_type": "code",
   "execution_count": 53,
   "metadata": {},
   "outputs": [
    {
     "data": {
      "text/plain": [
       "Text(0.5, 1.0, 'churned vs Company')"
      ]
     },
     "execution_count": 53,
     "metadata": {},
     "output_type": "execute_result"
    },
    {
     "data": {
      "image/png": "[encoded data removed]",
      "text/plain": [
       "<Figure size 1008x288 with 2 Axes>"
      ]
     },
     "metadata": {
      "needs_background": "light"
     },
     "output_type": "display_data"
    }
   ],
   "source": [
    "fig, ax = plt.subplots(1, 2, figsize=(14, 4))\n",
    "df_user[df_user.churn == \"no\"]['company'].value_counts().plot('bar', ax=ax[0]).set_title('not churned vs Company')\n",
    "df_user[df_user.churn == \"yes\"]['company'].value_counts().plot('bar', ax=ax[1]).set_title('churned vs Company')"
   ]
  },
  {
   "cell_type": "code",
   "execution_count": 54,
   "metadata": {},
   "outputs": [
    {
     "name": "stdout",
     "output_type": "stream",
     "text": [
      "258  out of  298 who chose Company Go LLC have NOT CHURNED   total = 86.57718120805369 % \n",
      "\n",
      "248  out of  444 who chose Company Pause have NOT CHURNED total = 55.85585585585585 % \n",
      "\n",
      "14  out of  28 who chose Company Stop have  CHURNED total = 50.0 % \n",
      "\n"
     ]
    }
   ],
   "source": [
    "print(df_user[df_user.company == 'Go LLC']['churn'].value_counts()[0],\" out of \", df_user[df_user.company == 'Go LLC']['churn'].value_counts().sum(),\"who chose Company Go LLC have NOT CHURNED\",\" \", \"total =\", (258/298)*100,\"%\",\"\\n\")\n",
    "print(df_user[df_user.company == 'Pause Associates']['churn'].value_counts()[0],\" out of \", df_user[df_user.company == 'Pause Associates']['churn'].value_counts().sum(),\"who chose Company Pause have NOT CHURNED\",\"total =\", (248/444)*100,\"%\",\"\\n\")\n",
    "print(df_user[df_user.company == 'Stop Inc']['churn'].value_counts()[0],\" out of \", df_user[df_user.company == 'Stop Inc']['churn'].value_counts().sum(),\"who chose Company Stop have  CHURNED\",\"total =\",(14/28)*100,\"%\",\"\\n\")"
   ]
  },
  {
   "cell_type": "markdown",
   "metadata": {},
   "source": [
    "## We can clearly see that User in the Company Go LLC is very unlikely to Churn and are loyal Customer.\n",
    "##\n",
    "## So Now the people from Go LLC who like GradeZ and who live in C-borough are likely to stay\n",
    "##\n",
    "## People with city B-ville and gradeX are likely to Churn"
   ]
  },
  {
   "cell_type": "code",
   "execution_count": 55,
   "metadata": {},
   "outputs": [
    {
     "name": "stdout",
     "output_type": "stream",
     "text": [
      "A-town       179\n",
      "C-borough    104\n",
      "B-ville       15\n",
      "Name: city, dtype: int64\n",
      "Z    156\n",
      "Y    120\n",
      "X     22\n",
      "Name: grade, dtype: int64\n",
      "Z    41.935484\n",
      "Y    37.974684\n",
      "X    26.829268\n",
      "Name: grade, dtype: float64 %\n"
     ]
    }
   ],
   "source": [
    "print(df_user[df_user.company == \"Go LLC\"][\"city\"].value_counts())\n",
    "print(df_user[df_user.company == \"Go LLC\"][\"grade\"].value_counts())\n",
    "print(df_user[df_user.company == \"Go LLC\"][\"grade\"].value_counts()/ (df_user.grade.value_counts())*100,\"%\")\n"
   ]
  },
  {
   "cell_type": "code",
   "execution_count": 56,
   "metadata": {},
   "outputs": [
    {
     "data": {
      "text/plain": [
       "<matplotlib.axes._subplots.AxesSubplot at 0x2a22f51a828>"
      ]
     },
     "execution_count": 56,
     "metadata": {},
     "output_type": "execute_result"
    },
    {
     "data": {
      "image/png": "[encoded data removed]",
      "text/plain": [
       "<Figure size 1008x288 with 2 Axes>"
      ]
     },
     "metadata": {
      "needs_background": "light"
     },
     "output_type": "display_data"
    }
   ],
   "source": [
    "fig, ax = plt.subplots(1, 2, figsize=(14, 4))\n",
    "ax[0].set_title('Go LLC company vs grade')\n",
    "ax[1].set_title('Go LLC company vs city')\n",
    "df_user[df_user.company == \"Go LLC\"][\"grade\"].value_counts().plot('bar',ax = ax[0])\n",
    "for j,i in enumerate(ax[0].patches):\n",
    "    # get_x pulls left or right; get_height pushes up or down\n",
    "    ax[0].text(i.get_x()+.01, i.get_height()+.1, \\\n",
    "            str(round((df_user[df_user.company == \"Go LLC\"][\"grade\"].value_counts()/ (df_user.grade.value_counts()))[j]*100, 2))+'%', fontsize=12,\n",
    "                color='black')\n",
    "df_user[df_user.company == \"Go LLC\"][\"city\"].value_counts().plot('bar',ax = ax[1])\n"
   ]
  },
  {
   "cell_type": "markdown",
   "metadata": {},
   "source": [
    "## So People from Go LLC live mostly in A-town/C-borough and they mostly prefer X grade, So there is some relation "
   ]
  },
  {
   "cell_type": "markdown",
   "metadata": {},
   "source": [
    "### We did see some relation with Income while going through histogram lets group it for better understanding, groups will be low mid and high\n",
    "\n",
    "### And also Age should give us some information, lets check that as well"
   ]
  },
  {
   "cell_type": "code",
   "execution_count": 57,
   "metadata": {},
   "outputs": [
    {
     "data": {
      "text/plain": [
       "average    377\n",
       "low        320\n",
       "high        73\n",
       "Name: incomelev, dtype: int64"
      ]
     },
     "execution_count": 57,
     "metadata": {},
     "output_type": "execute_result"
    }
   ],
   "source": [
    "df_user['incomelev'] = pd.cut(df_user.income,bins = 3, labels=['low','average','high'])\n",
    "df_user.incomelev.value_counts()# Lets consider Income as three different groups"
   ]
  },
  {
   "cell_type": "code",
   "execution_count": null,
   "metadata": {},
   "outputs": [],
   "source": []
  },
  {
   "cell_type": "code",
   "execution_count": 58,
   "metadata": {},
   "outputs": [
    {
     "data": {
      "text/plain": [
       "adult     289\n",
       "young     249\n",
       "senior    232\n",
       "Name: agelev, dtype: int64"
      ]
     },
     "execution_count": 58,
     "metadata": {},
     "output_type": "execute_result"
    }
   ],
   "source": [
    "df_user['agelev'] = pd.cut(df_user.age,bins = 3, labels=['young','adult','senior'])\n",
    "df_user.agelev.value_counts()# Lets consider age as three different groups"
   ]
  },
  {
   "cell_type": "code",
   "execution_count": 59,
   "metadata": {},
   "outputs": [
    {
     "data": {
      "text/plain": [
       "Text(0.5, 1.0, 'churned vs incomelev')"
      ]
     },
     "execution_count": 59,
     "metadata": {},
     "output_type": "execute_result"
    },
    {
     "data": {
      "image/png": "[encoded data removed]",
      "text/plain": [
       "<Figure size 1008x288 with 2 Axes>"
      ]
     },
     "metadata": {
      "needs_background": "light"
     },
     "output_type": "display_data"
    }
   ],
   "source": [
    "fig, ax = plt.subplots(1, 2, figsize=(14, 4))\n",
    "df_user[df_user.churn == \"no\"]['incomelev'].value_counts().plot('bar', ax=ax[0]).set_title('not churned vs incomelev')\n",
    "df_user[df_user.churn == \"yes\"]['incomelev'].value_counts().plot('bar', ax=ax[1]).set_title('churned vs incomelev')"
   ]
  },
  {
   "cell_type": "code",
   "execution_count": 60,
   "metadata": {},
   "outputs": [
    {
     "data": {
      "text/plain": [
       "Text(0.5, 1.0, 'churned vs agelev')"
      ]
     },
     "execution_count": 60,
     "metadata": {},
     "output_type": "execute_result"
    },
    {
     "data": {
      "image/png": "[encoded data removed]",
      "text/plain": [
       "<Figure size 1008x288 with 2 Axes>"
      ]
     },
     "metadata": {
      "needs_background": "light"
     },
     "output_type": "display_data"
    }
   ],
   "source": [
    "fig, ax = plt.subplots(1, 2, figsize=(14, 4))\n",
    "df_user[df_user.churn == \"no\"]['agelev'].value_counts().plot('bar', ax=ax[0]).set_title('not churned vs agelev')\n",
    "df_user[df_user.churn == \"yes\"]['agelev'].value_counts().plot('bar', ax=ax[1]).set_title('churned vs agelev')"
   ]
  },
  {
   "cell_type": "code",
   "execution_count": 61,
   "metadata": {},
   "outputs": [
    {
     "name": "stdout",
     "output_type": "stream",
     "text": [
      "313  out of  320 who fall under low income range have NOT CHURNED   total = 97.8125 % \n",
      "\n",
      "207  out of  377 who fall under average income range have NOT CHURNED total = 54.907161803713535 % \n",
      "\n",
      "73  out of  73 who fall under high income range have  CHURNED total = 100.0 % \n",
      "\n"
     ]
    }
   ],
   "source": [
    "print(df_user[df_user.incomelev == 'low']['churn'].value_counts()[0],\" out of \", df_user[df_user.incomelev == 'low']['churn'].value_counts().sum(),\"who fall under low income range have NOT CHURNED\",\" \", \"total =\", (313/320)*100,\"%\",\"\\n\")\n",
    "print(df_user[df_user.incomelev == 'average']['churn'].value_counts()[0],\" out of \", df_user[df_user.incomelev == 'average']['churn'].value_counts().sum(),\"who fall under average income range have NOT CHURNED\",\"total =\", (207/377)*100,\"%\",\"\\n\")\n",
    "print(df_user[df_user.incomelev == 'high']['churn'].value_counts()[0],\" out of \", df_user[df_user.incomelev == 'high']['churn'].value_counts().sum(),\"who fall under high income range have  CHURNED\",\"total =\",(73/73)*100,\"%\",\"\\n\")"
   ]
  },
  {
   "cell_type": "code",
   "execution_count": 62,
   "metadata": {},
   "outputs": [
    {
     "name": "stdout",
     "output_type": "stream",
     "text": [
      "167  out of  249 who fall under young age have NOT CHURNED   total = 67.06827309236948 % \n",
      "\n",
      "194  out of  289 who fall under adult age have NOT CHURNED total = 67.1280276816609 % \n",
      "\n",
      "159  out of  232 who fall under senior age have NOT CHURNED total = 68.53448275862068 % \n",
      "\n"
     ]
    }
   ],
   "source": [
    "print(df_user[df_user.agelev == 'young']['churn'].value_counts()[0],\" out of \", df_user[df_user.agelev == 'young']['churn'].value_counts().sum(),\"who fall under young age have NOT CHURNED\",\" \", \"total =\", (167/249)*100,\"%\",\"\\n\")\n",
    "print(df_user[df_user.agelev == 'adult']['churn'].value_counts()[0],\" out of \", df_user[df_user.agelev == 'adult']['churn'].value_counts().sum(),\"who fall under adult age have NOT CHURNED\",\"total =\", (194/289)*100,\"%\",\"\\n\")\n",
    "print(df_user[df_user.agelev == 'senior']['churn'].value_counts()[0],\" out of \", df_user[df_user.agelev == 'senior']['churn'].value_counts().sum(),\"who fall under senior age have NOT CHURNED\",\"total =\",(159/232)*100,\"%\",\"\\n\")"
   ]
  },
  {
   "cell_type": "markdown",
   "metadata": {},
   "source": [
    "## Some Income and age related Insights\n",
    "## 1) Low Income range users not  likely to churn\n",
    "## 2) High Income range people always have churned\n",
    "## 3) Not much relation between age and churn"
   ]
  },
  {
   "cell_type": "code",
   "execution_count": 63,
   "metadata": {},
   "outputs": [
    {
     "name": "stdout",
     "output_type": "stream",
     "text": [
      "people with low range income grade distribution \n",
      " Z    48.118280\n",
      "Y    40.506329\n",
      "X    15.853659\n",
      "Name: grade, dtype: float64 \n",
      "\n",
      "people with average range income grade distribution \n",
      " X    62.195122\n",
      "Y    48.734177\n",
      "Z    46.236559\n",
      "Name: grade, dtype: float64 \n",
      "\n",
      "people with high range income grade distribution \n",
      " X    21.951220\n",
      "Y    10.759494\n",
      "Z     5.645161\n",
      "Name: grade, dtype: float64\n"
     ]
    }
   ],
   "source": [
    "print(\"people with low range income grade distribution\",\"\\n\",((df_user[df_user.incomelev == \"low\"][\"grade\"].value_counts(sort = True)[:3])/(df_user.grade.value_counts())*100).sort_values(ascending = False),\"\\n\" )\n",
    "print(\"people with average range income grade distribution\",\"\\n\",((df_user[df_user.incomelev == \"average\"][\"grade\"].value_counts(sort = True)[:3])/(df_user.grade.value_counts())*100).sort_values(ascending = False),\"\\n\" )\n",
    "print(\"people with high range income grade distribution\",\"\\n\",((df_user[df_user.incomelev == \"high\"][\"grade\"].value_counts(sort = True)[:3])/(df_user.grade.value_counts())*100).sort_values(ascending = False) )\n"
   ]
  },
  {
   "cell_type": "markdown",
   "metadata": {},
   "source": [
    "## Low income people prefer more of Grade-z and Grade-Y May be its inexpensive and also we have good rate of not churning in Grade-z products"
   ]
  },
  {
   "cell_type": "code",
   "execution_count": 64,
   "metadata": {},
   "outputs": [
    {
     "name": "stdout",
     "output_type": "stream",
     "text": [
      "people with young age income distribution \n",
      " average    33.952255\n",
      "low        31.562500\n",
      "high       27.397260\n",
      "Name: incomelev, dtype: float64 \n",
      "\n",
      "people with adult age  income distribution \n",
      " high       42.465753\n",
      "low        37.500000\n",
      "average    36.604775\n",
      "Name: incomelev, dtype: float64 \n",
      "\n",
      "people with senior age  income distribution \n",
      " low        30.937500\n",
      "high       30.136986\n",
      "average    29.442971\n",
      "Name: incomelev, dtype: float64\n"
     ]
    }
   ],
   "source": [
    "\n",
    "print(\"people with young age income distribution\",\"\\n\",((df_user[df_user.agelev == \"young\"][\"incomelev\"].value_counts(sort = True)[:3])/(df_user.incomelev.value_counts())*100).sort_values(ascending = False),\"\\n\" )\n",
    "print(\"people with adult age  income distribution\",\"\\n\",((df_user[df_user.agelev == \"adult\"][\"incomelev\"].value_counts(sort = True)[:3])/(df_user.incomelev.value_counts())*100).sort_values(ascending = False),\"\\n\" )\n",
    "print(\"people with senior age  income distribution\",\"\\n\",((df_user[df_user.agelev == \"senior\"][\"incomelev\"].value_counts(sort = True)[:3])/(df_user.incomelev.value_counts())*100).sort_values(ascending = False) )\n"
   ]
  },
  {
   "cell_type": "code",
   "execution_count": 65,
   "metadata": {},
   "outputs": [
    {
     "name": "stdout",
     "output_type": "stream",
     "text": [
      "Go LLC employees income distribution \n",
      " low        154\n",
      "average    137\n",
      "high         7\n",
      "Name: incomelev, dtype: int64 \n",
      "\n",
      "Pause employees income distribution \n",
      " average    226\n",
      "low        160\n",
      "high        58\n",
      "Name: incomelev, dtype: int64\n",
      "Stop INC employees income distribution \n",
      " average    14\n",
      "high        8\n",
      "low         6\n",
      "Name: incomelev, dtype: int64\n"
     ]
    }
   ],
   "source": [
    "print(\"Go LLC employees income distribution\",\"\\n\", df_user[df_user.company == \"Go LLC\"][\"incomelev\"].value_counts(sort = True),\"\\n\")\n",
    "print(\"Pause employees income distribution\",\"\\n\", df_user[df_user.company == \"Pause Associates\"][\"incomelev\"].value_counts(sort = True))\n",
    "print(\"Stop INC employees income distribution\",\"\\n\", df_user[df_user.company == \"Stop Inc\"][\"incomelev\"].value_counts(sort = True))"
   ]
  },
  {
   "cell_type": "markdown",
   "metadata": {},
   "source": [
    "## Go LLC company has more of Low income employees and they are prefering grade-x and all correlate to not churning, We can almost split and tell without decision tree models :)"
   ]
  },
  {
   "cell_type": "markdown",
   "metadata": {},
   "source": [
    "## Same can be done for greagriousness and reaction time......(Future work)"
   ]
  },
  {
   "cell_type": "code",
   "execution_count": 66,
   "metadata": {},
   "outputs": [
    {
     "data": {
      "text/plain": [
       "Text(0.5, 1.0, 'churned')"
      ]
     },
     "execution_count": 66,
     "metadata": {},
     "output_type": "execute_result"
    },
    {
     "data": {
      "image/png": "[encoded data removed]",
      "text/plain": [
       "<Figure size 1440x720 with 1 Axes>"
      ]
     },
     "metadata": {},
     "output_type": "display_data"
    }
   ],
   "source": [
    "df_user['churn'].value_counts().plot('pie',autopct='%1.1f%%', shadow=True, startangle=270,fontsize = 18,figsize = (20,10)).set_title('churned')"
   ]
  },
  {
   "cell_type": "markdown",
   "metadata": {},
   "source": [
    "# STAGE 3: MODELLING "
   ]
  },
  {
   "cell_type": "markdown",
   "metadata": {},
   "source": [
    "## Before modelling lets select the features we need and drop some\n",
    "## Lets leave out height weight and Kappa"
   ]
  },
  {
   "cell_type": "code",
   "execution_count": 67,
   "metadata": {},
   "outputs": [],
   "source": [
    "#df_user.drop(['height', 'weight', 'kappa_ability'],axis = 1, inplace = True)\n",
    "\n",
    "Categorical_features = [\"favorite_pizza_topping\",\"grade\", \"favorite_ice_cream_flavor\", \"city\", \"company\"] #lets define them again\n",
    "numerical_features = [\"apm\", \"income\",  \"reaction_time\", \"age\",  \"amount\", \"gregariousness\"] \n",
    "target = [\"churn\"]\n",
    "\n"
   ]
  },
  {
   "cell_type": "markdown",
   "metadata": {},
   "source": [
    "## As models take in Only numerical Data  lets one hot encode followed by Integer encoding it using python libraries"
   ]
  },
  {
   "cell_type": "code",
   "execution_count": 68,
   "metadata": {},
   "outputs": [
    {
     "name": "stdout",
     "output_type": "stream",
     "text": [
      "Label encoder favorite_pizza_topping - values: ['BBQ Sauce', 'Bacon', 'Basil', 'Black olives', 'Chicken', 'Extra cheese', 'Garlic', 'Green peppers', 'Ham', 'Mushrooms', 'Oregano', 'Pepperoni', 'Pesto', 'Pineapple', 'Red peppers', 'Salami', 'Sausage', 'Spinach', 'Tomato']\n",
      "Label encoder grade - values: ['X', 'Y', 'Z']\n",
      "Label encoder favorite_ice_cream_flavor - values: ['Black Cherry', 'Butter Pecan', 'Cheesecake', 'Chocolate', 'Coffee', 'Cookies and Cream', 'Mint', 'Neapolitan', 'Orange Sherbert', 'Peach', 'Pistachio', 'Red Velvet', 'Rocky Road', 'Strawberry', 'Vanilla']\n",
      "Label encoder city - values: ['A-town', 'B-ville', 'C-borough']\n",
      "Label encoder company - values: ['Go LLC', 'Pause Associates', 'Stop Inc']\n",
      "Label encoder ['churn'] - values: ['no', 'yes']\n"
     ]
    },
    {
     "name": "stderr",
     "output_type": "stream",
     "text": [
      "C:\\Users\\13154\\Anaconda3\\lib\\site-packages\\sklearn\\preprocessing\\label.py:235: DataConversionWarning: A column-vector y was passed when a 1d array was expected. Please change the shape of y to (n_samples, ), for example using ravel().\n",
      "  y = column_or_1d(y, warn=True)\n"
     ]
    }
   ],
   "source": [
    "from sklearn.preprocessing import LabelEncoder\n",
    "\n",
    "categorical_feature_names = []\n",
    "for categorical in Categorical_features + [target]:\n",
    "    label_encoder = LabelEncoder()\n",
    "    df_user[categorical] = label_encoder.fit_transform(df_user[categorical])\n",
    "    names = label_encoder.classes_.tolist()\n",
    "    print('Label encoder %s - values: %s' % (categorical, names))\n",
    "    if categorical == target:\n",
    "        continue\n",
    "    categorical_feature_names.extend([categorical + '_' + str(name) for name in names])"
   ]
  },
  {
   "cell_type": "code",
   "execution_count": 69,
   "metadata": {},
   "outputs": [
    {
     "data": {
      "text/html": [
       "<div>\n",
       "<style scoped>\n",
       "    .dataframe tbody tr th:only-of-type {\n",
       "        vertical-align: middle;\n",
       "    }\n",
       "\n",
       "    .dataframe tbody tr th {\n",
       "        vertical-align: top;\n",
       "    }\n",
       "\n",
       "    .dataframe thead th {\n",
       "        text-align: right;\n",
       "    }\n",
       "</style>\n",
       "<table border=\"1\" class=\"dataframe\">\n",
       "  <thead>\n",
       "    <tr style=\"text-align: right;\">\n",
       "      <th></th>\n",
       "      <th>favorite_pizza_topping</th>\n",
       "      <th>favorite_ice_cream_flavor</th>\n",
       "      <th>apm</th>\n",
       "      <th>income</th>\n",
       "      <th>grade</th>\n",
       "      <th>height</th>\n",
       "      <th>reaction_time</th>\n",
       "      <th>city</th>\n",
       "      <th>age</th>\n",
       "      <th>company</th>\n",
       "      <th>kappa_ability</th>\n",
       "      <th>weight</th>\n",
       "      <th>amount</th>\n",
       "      <th>gregariousness</th>\n",
       "      <th>churn</th>\n",
       "    </tr>\n",
       "    <tr>\n",
       "      <th>user_id</th>\n",
       "      <th></th>\n",
       "      <th></th>\n",
       "      <th></th>\n",
       "      <th></th>\n",
       "      <th></th>\n",
       "      <th></th>\n",
       "      <th></th>\n",
       "      <th></th>\n",
       "      <th></th>\n",
       "      <th></th>\n",
       "      <th></th>\n",
       "      <th></th>\n",
       "      <th></th>\n",
       "      <th></th>\n",
       "      <th></th>\n",
       "    </tr>\n",
       "  </thead>\n",
       "  <tbody>\n",
       "    <tr>\n",
       "      <th>78268</th>\n",
       "      <td>17</td>\n",
       "      <td>6</td>\n",
       "      <td>171</td>\n",
       "      <td>104</td>\n",
       "      <td>0</td>\n",
       "      <td>177</td>\n",
       "      <td>295</td>\n",
       "      <td>2</td>\n",
       "      <td>52</td>\n",
       "      <td>1</td>\n",
       "      <td>3363</td>\n",
       "      <td>144</td>\n",
       "      <td>19</td>\n",
       "      <td>57</td>\n",
       "      <td>0</td>\n",
       "    </tr>\n",
       "    <tr>\n",
       "      <th>78269</th>\n",
       "      <td>10</td>\n",
       "      <td>10</td>\n",
       "      <td>218</td>\n",
       "      <td>96</td>\n",
       "      <td>1</td>\n",
       "      <td>178</td>\n",
       "      <td>305</td>\n",
       "      <td>2</td>\n",
       "      <td>33</td>\n",
       "      <td>1</td>\n",
       "      <td>1720</td>\n",
       "      <td>147</td>\n",
       "      <td>57</td>\n",
       "      <td>48</td>\n",
       "      <td>0</td>\n",
       "    </tr>\n",
       "    <tr>\n",
       "      <th>78271</th>\n",
       "      <td>14</td>\n",
       "      <td>4</td>\n",
       "      <td>184</td>\n",
       "      <td>101</td>\n",
       "      <td>2</td>\n",
       "      <td>185</td>\n",
       "      <td>295</td>\n",
       "      <td>0</td>\n",
       "      <td>44</td>\n",
       "      <td>1</td>\n",
       "      <td>920</td>\n",
       "      <td>153</td>\n",
       "      <td>79</td>\n",
       "      <td>52</td>\n",
       "      <td>0</td>\n",
       "    </tr>\n",
       "    <tr>\n",
       "      <th>78272</th>\n",
       "      <td>4</td>\n",
       "      <td>4</td>\n",
       "      <td>210</td>\n",
       "      <td>100</td>\n",
       "      <td>2</td>\n",
       "      <td>180</td>\n",
       "      <td>311</td>\n",
       "      <td>0</td>\n",
       "      <td>34</td>\n",
       "      <td>0</td>\n",
       "      <td>1453</td>\n",
       "      <td>154</td>\n",
       "      <td>29</td>\n",
       "      <td>56</td>\n",
       "      <td>0</td>\n",
       "    </tr>\n",
       "    <tr>\n",
       "      <th>78274</th>\n",
       "      <td>18</td>\n",
       "      <td>6</td>\n",
       "      <td>223</td>\n",
       "      <td>111</td>\n",
       "      <td>1</td>\n",
       "      <td>181</td>\n",
       "      <td>287</td>\n",
       "      <td>1</td>\n",
       "      <td>41</td>\n",
       "      <td>0</td>\n",
       "      <td>2219</td>\n",
       "      <td>159</td>\n",
       "      <td>2</td>\n",
       "      <td>47</td>\n",
       "      <td>1</td>\n",
       "    </tr>\n",
       "  </tbody>\n",
       "</table>\n",
       "</div>"
      ],
      "text/plain": [
       "         favorite_pizza_topping  favorite_ice_cream_flavor  apm  income  \\\n",
       "user_id                                                                   \n",
       "78268                        17                          6  171     104   \n",
       "78269                        10                         10  218      96   \n",
       "78271                        14                          4  184     101   \n",
       "78272                         4                          4  210     100   \n",
       "78274                        18                          6  223     111   \n",
       "\n",
       "         grade  height  reaction_time  city  age  company  kappa_ability  \\\n",
       "user_id                                                                    \n",
       "78268        0     177            295     2   52        1           3363   \n",
       "78269        1     178            305     2   33        1           1720   \n",
       "78271        2     185            295     0   44        1            920   \n",
       "78272        2     180            311     0   34        0           1453   \n",
       "78274        1     181            287     1   41        0           2219   \n",
       "\n",
       "         weight  amount  gregariousness  churn  \n",
       "user_id                                         \n",
       "78268       144      19              57      0  \n",
       "78269       147      57              48      0  \n",
       "78271       153      79              52      0  \n",
       "78272       154      29              56      0  \n",
       "78274       159       2              47      1  "
      ]
     },
     "execution_count": 69,
     "metadata": {},
     "output_type": "execute_result"
    }
   ],
   "source": [
    "df_user.drop(['incomelev','agelev'],axis = 1, inplace=True)\n",
    "df_user.head()"
   ]
  },
  {
   "cell_type": "code",
   "execution_count": 70,
   "metadata": {},
   "outputs": [],
   "source": [
    "# company = categorical_feature_names[40:]\n",
    "# pizza\n",
    "#categorical_feature_names"
   ]
  },
  {
   "cell_type": "code",
   "execution_count": 71,
   "metadata": {},
   "outputs": [],
   "source": [
    "pizza = categorical_feature_names[:19]\n",
    "grade = categorical_feature_names[19:22]\n",
    "icecream = categorical_feature_names[22:37]\n",
    "city = categorical_feature_names[37:40]\n",
    "company = categorical_feature_names[40:]\n"
   ]
  },
  {
   "cell_type": "code",
   "execution_count": 72,
   "metadata": {},
   "outputs": [],
   "source": [
    "df_user2 = pd.concat([df_user, pd.get_dummies(df_user.favorite_pizza_topping)], axis=1)\n",
    "df_user2 = pd.concat([df_user2, pd.get_dummies(df_user.company)], axis=1)\n",
    "df_user2 = pd.concat([df_user2, pd.get_dummies(df_user.city)], axis=1)\n",
    "df_user2 = pd.concat([df_user2, pd.get_dummies(df_user.grade)], axis=1)\n",
    "df_user2 = pd.concat([df_user2, pd.get_dummies(df_user.favorite_ice_cream_flavor)], axis=1)\n",
    "df_user2.drop(['favorite_ice_cream_flavor','favorite_pizza_topping','grade','city','company'],axis = 1, inplace=True)\n",
    "\n",
    "\n",
    "# This is the process of one hot encoding, observe I have one hot encoded only df_user2 just to \n",
    "# show the changes and importance of Onhot encoding \n",
    "\n",
    "\n",
    "\n",
    "\n"
   ]
  },
  {
   "cell_type": "markdown",
   "metadata": {},
   "source": [
    "<h1/> \n",
    "This is the process of one hot encoding, observe I have one hot encoded only df_user2 just to \n",
    " show the changes and importance of One hot encoding <h1/> "
   ]
  },
  {
   "cell_type": "code",
   "execution_count": 73,
   "metadata": {},
   "outputs": [],
   "source": [
    "df_user2.columns = ['apm',         'income',         'height',  'reaction_time',\n",
    "                  'age',  'kappa_ability',         'weight',         'amount',\n",
    "       'gregariousness',          'churn',                pizza[0],                pizza[1],\n",
    "                      pizza[2],                pizza[3],                pizza[4],               pizza[5],\n",
    "                      pizza[6],                pizza[7],                pizza[8],                pizza[9],\n",
    "                     pizza[10],               pizza[11],               pizza[12],               pizza[13],\n",
    "                     pizza[14],               pizza[15],               pizza[16],               pizza[17],\n",
    "                     pizza[18],                company[0],                company[1],                company[2],\n",
    "                      city[0],                city[1],                city[2],                grade[0],\n",
    "                      grade[1],                grade[2],                icecream[0],                icecream[1],\n",
    "                      icecream[2],                icecream[3],               icecream[4],               icecream[5],\n",
    "                      icecream[6],                icecream[7],                icecream[8],                icecream[9],\n",
    "                     icecream[10],               icecream[11],              icecream[12],              icecream[13],\n",
    "                     icecream[14]]\n",
    "\n",
    "#Changing teh column names for reference"
   ]
  },
  {
   "cell_type": "code",
   "execution_count": 74,
   "metadata": {},
   "outputs": [
    {
     "data": {
      "text/html": [
       "<div>\n",
       "<style scoped>\n",
       "    .dataframe tbody tr th:only-of-type {\n",
       "        vertical-align: middle;\n",
       "    }\n",
       "\n",
       "    .dataframe tbody tr th {\n",
       "        vertical-align: top;\n",
       "    }\n",
       "\n",
       "    .dataframe thead th {\n",
       "        text-align: right;\n",
       "    }\n",
       "</style>\n",
       "<table border=\"1\" class=\"dataframe\">\n",
       "  <thead>\n",
       "    <tr style=\"text-align: right;\">\n",
       "      <th></th>\n",
       "      <th>apm</th>\n",
       "      <th>income</th>\n",
       "      <th>height</th>\n",
       "      <th>reaction_time</th>\n",
       "      <th>age</th>\n",
       "      <th>kappa_ability</th>\n",
       "      <th>weight</th>\n",
       "      <th>amount</th>\n",
       "      <th>gregariousness</th>\n",
       "      <th>churn</th>\n",
       "      <th>...</th>\n",
       "      <th>favorite_ice_cream_flavor_Cookies and Cream</th>\n",
       "      <th>favorite_ice_cream_flavor_Mint</th>\n",
       "      <th>favorite_ice_cream_flavor_Neapolitan</th>\n",
       "      <th>favorite_ice_cream_flavor_Orange Sherbert</th>\n",
       "      <th>favorite_ice_cream_flavor_Peach</th>\n",
       "      <th>favorite_ice_cream_flavor_Pistachio</th>\n",
       "      <th>favorite_ice_cream_flavor_Red Velvet</th>\n",
       "      <th>favorite_ice_cream_flavor_Rocky Road</th>\n",
       "      <th>favorite_ice_cream_flavor_Strawberry</th>\n",
       "      <th>favorite_ice_cream_flavor_Vanilla</th>\n",
       "    </tr>\n",
       "    <tr>\n",
       "      <th>user_id</th>\n",
       "      <th></th>\n",
       "      <th></th>\n",
       "      <th></th>\n",
       "      <th></th>\n",
       "      <th></th>\n",
       "      <th></th>\n",
       "      <th></th>\n",
       "      <th></th>\n",
       "      <th></th>\n",
       "      <th></th>\n",
       "      <th></th>\n",
       "      <th></th>\n",
       "      <th></th>\n",
       "      <th></th>\n",
       "      <th></th>\n",
       "      <th></th>\n",
       "      <th></th>\n",
       "      <th></th>\n",
       "      <th></th>\n",
       "      <th></th>\n",
       "      <th></th>\n",
       "    </tr>\n",
       "  </thead>\n",
       "  <tbody>\n",
       "    <tr>\n",
       "      <th>78268</th>\n",
       "      <td>171</td>\n",
       "      <td>104</td>\n",
       "      <td>177</td>\n",
       "      <td>295</td>\n",
       "      <td>52</td>\n",
       "      <td>3363</td>\n",
       "      <td>144</td>\n",
       "      <td>19</td>\n",
       "      <td>57</td>\n",
       "      <td>0</td>\n",
       "      <td>...</td>\n",
       "      <td>0</td>\n",
       "      <td>1</td>\n",
       "      <td>0</td>\n",
       "      <td>0</td>\n",
       "      <td>0</td>\n",
       "      <td>0</td>\n",
       "      <td>0</td>\n",
       "      <td>0</td>\n",
       "      <td>0</td>\n",
       "      <td>0</td>\n",
       "    </tr>\n",
       "    <tr>\n",
       "      <th>78269</th>\n",
       "      <td>218</td>\n",
       "      <td>96</td>\n",
       "      <td>178</td>\n",
       "      <td>305</td>\n",
       "      <td>33</td>\n",
       "      <td>1720</td>\n",
       "      <td>147</td>\n",
       "      <td>57</td>\n",
       "      <td>48</td>\n",
       "      <td>0</td>\n",
       "      <td>...</td>\n",
       "      <td>0</td>\n",
       "      <td>0</td>\n",
       "      <td>0</td>\n",
       "      <td>0</td>\n",
       "      <td>0</td>\n",
       "      <td>1</td>\n",
       "      <td>0</td>\n",
       "      <td>0</td>\n",
       "      <td>0</td>\n",
       "      <td>0</td>\n",
       "    </tr>\n",
       "    <tr>\n",
       "      <th>78271</th>\n",
       "      <td>184</td>\n",
       "      <td>101</td>\n",
       "      <td>185</td>\n",
       "      <td>295</td>\n",
       "      <td>44</td>\n",
       "      <td>920</td>\n",
       "      <td>153</td>\n",
       "      <td>79</td>\n",
       "      <td>52</td>\n",
       "      <td>0</td>\n",
       "      <td>...</td>\n",
       "      <td>0</td>\n",
       "      <td>0</td>\n",
       "      <td>0</td>\n",
       "      <td>0</td>\n",
       "      <td>0</td>\n",
       "      <td>0</td>\n",
       "      <td>0</td>\n",
       "      <td>0</td>\n",
       "      <td>0</td>\n",
       "      <td>0</td>\n",
       "    </tr>\n",
       "    <tr>\n",
       "      <th>78272</th>\n",
       "      <td>210</td>\n",
       "      <td>100</td>\n",
       "      <td>180</td>\n",
       "      <td>311</td>\n",
       "      <td>34</td>\n",
       "      <td>1453</td>\n",
       "      <td>154</td>\n",
       "      <td>29</td>\n",
       "      <td>56</td>\n",
       "      <td>0</td>\n",
       "      <td>...</td>\n",
       "      <td>0</td>\n",
       "      <td>0</td>\n",
       "      <td>0</td>\n",
       "      <td>0</td>\n",
       "      <td>0</td>\n",
       "      <td>0</td>\n",
       "      <td>0</td>\n",
       "      <td>0</td>\n",
       "      <td>0</td>\n",
       "      <td>0</td>\n",
       "    </tr>\n",
       "    <tr>\n",
       "      <th>78274</th>\n",
       "      <td>223</td>\n",
       "      <td>111</td>\n",
       "      <td>181</td>\n",
       "      <td>287</td>\n",
       "      <td>41</td>\n",
       "      <td>2219</td>\n",
       "      <td>159</td>\n",
       "      <td>2</td>\n",
       "      <td>47</td>\n",
       "      <td>1</td>\n",
       "      <td>...</td>\n",
       "      <td>0</td>\n",
       "      <td>1</td>\n",
       "      <td>0</td>\n",
       "      <td>0</td>\n",
       "      <td>0</td>\n",
       "      <td>0</td>\n",
       "      <td>0</td>\n",
       "      <td>0</td>\n",
       "      <td>0</td>\n",
       "      <td>0</td>\n",
       "    </tr>\n",
       "  </tbody>\n",
       "</table>\n",
       "<p>5 rows × 53 columns</p>\n",
       "</div>"
      ],
      "text/plain": [
       "         apm  income  height  reaction_time  age  kappa_ability  weight  \\\n",
       "user_id                                                                   \n",
       "78268    171     104     177            295   52           3363     144   \n",
       "78269    218      96     178            305   33           1720     147   \n",
       "78271    184     101     185            295   44            920     153   \n",
       "78272    210     100     180            311   34           1453     154   \n",
       "78274    223     111     181            287   41           2219     159   \n",
       "\n",
       "         amount  gregariousness  churn                ...                  \\\n",
       "user_id                                               ...                   \n",
       "78268        19              57      0                ...                   \n",
       "78269        57              48      0                ...                   \n",
       "78271        79              52      0                ...                   \n",
       "78272        29              56      0                ...                   \n",
       "78274         2              47      1                ...                   \n",
       "\n",
       "         favorite_ice_cream_flavor_Cookies and Cream  \\\n",
       "user_id                                                \n",
       "78268                                              0   \n",
       "78269                                              0   \n",
       "78271                                              0   \n",
       "78272                                              0   \n",
       "78274                                              0   \n",
       "\n",
       "         favorite_ice_cream_flavor_Mint  favorite_ice_cream_flavor_Neapolitan  \\\n",
       "user_id                                                                         \n",
       "78268                                 1                                     0   \n",
       "78269                                 0                                     0   \n",
       "78271                                 0                                     0   \n",
       "78272                                 0                                     0   \n",
       "78274                                 1                                     0   \n",
       "\n",
       "         favorite_ice_cream_flavor_Orange Sherbert  \\\n",
       "user_id                                              \n",
       "78268                                            0   \n",
       "78269                                            0   \n",
       "78271                                            0   \n",
       "78272                                            0   \n",
       "78274                                            0   \n",
       "\n",
       "         favorite_ice_cream_flavor_Peach  favorite_ice_cream_flavor_Pistachio  \\\n",
       "user_id                                                                         \n",
       "78268                                  0                                    0   \n",
       "78269                                  0                                    1   \n",
       "78271                                  0                                    0   \n",
       "78272                                  0                                    0   \n",
       "78274                                  0                                    0   \n",
       "\n",
       "         favorite_ice_cream_flavor_Red Velvet  \\\n",
       "user_id                                         \n",
       "78268                                       0   \n",
       "78269                                       0   \n",
       "78271                                       0   \n",
       "78272                                       0   \n",
       "78274                                       0   \n",
       "\n",
       "         favorite_ice_cream_flavor_Rocky Road  \\\n",
       "user_id                                         \n",
       "78268                                       0   \n",
       "78269                                       0   \n",
       "78271                                       0   \n",
       "78272                                       0   \n",
       "78274                                       0   \n",
       "\n",
       "         favorite_ice_cream_flavor_Strawberry  \\\n",
       "user_id                                         \n",
       "78268                                       0   \n",
       "78269                                       0   \n",
       "78271                                       0   \n",
       "78272                                       0   \n",
       "78274                                       0   \n",
       "\n",
       "         favorite_ice_cream_flavor_Vanilla  \n",
       "user_id                                     \n",
       "78268                                    0  \n",
       "78269                                    0  \n",
       "78271                                    0  \n",
       "78272                                    0  \n",
       "78274                                    0  \n",
       "\n",
       "[5 rows x 53 columns]"
      ]
     },
     "execution_count": 74,
     "metadata": {},
     "output_type": "execute_result"
    }
   ],
   "source": [
    "#df_user2.drop('kappa_ability', axis = 1, inplace = True)\n",
    "df_user2.head()"
   ]
  },
  {
   "cell_type": "code",
   "execution_count": 75,
   "metadata": {},
   "outputs": [
    {
     "data": {
      "text/html": [
       "<div>\n",
       "<style scoped>\n",
       "    .dataframe tbody tr th:only-of-type {\n",
       "        vertical-align: middle;\n",
       "    }\n",
       "\n",
       "    .dataframe tbody tr th {\n",
       "        vertical-align: top;\n",
       "    }\n",
       "\n",
       "    .dataframe thead th {\n",
       "        text-align: right;\n",
       "    }\n",
       "</style>\n",
       "<table border=\"1\" class=\"dataframe\">\n",
       "  <thead>\n",
       "    <tr style=\"text-align: right;\">\n",
       "      <th></th>\n",
       "      <th>apm</th>\n",
       "      <th>income</th>\n",
       "      <th>height</th>\n",
       "      <th>reaction_time</th>\n",
       "      <th>age</th>\n",
       "      <th>kappa_ability</th>\n",
       "      <th>weight</th>\n",
       "      <th>amount</th>\n",
       "      <th>gregariousness</th>\n",
       "      <th>churn</th>\n",
       "      <th>...</th>\n",
       "      <th>favorite_ice_cream_flavor_Cookies and Cream</th>\n",
       "      <th>favorite_ice_cream_flavor_Mint</th>\n",
       "      <th>favorite_ice_cream_flavor_Neapolitan</th>\n",
       "      <th>favorite_ice_cream_flavor_Orange Sherbert</th>\n",
       "      <th>favorite_ice_cream_flavor_Peach</th>\n",
       "      <th>favorite_ice_cream_flavor_Pistachio</th>\n",
       "      <th>favorite_ice_cream_flavor_Red Velvet</th>\n",
       "      <th>favorite_ice_cream_flavor_Rocky Road</th>\n",
       "      <th>favorite_ice_cream_flavor_Strawberry</th>\n",
       "      <th>favorite_ice_cream_flavor_Vanilla</th>\n",
       "    </tr>\n",
       "    <tr>\n",
       "      <th>user_id</th>\n",
       "      <th></th>\n",
       "      <th></th>\n",
       "      <th></th>\n",
       "      <th></th>\n",
       "      <th></th>\n",
       "      <th></th>\n",
       "      <th></th>\n",
       "      <th></th>\n",
       "      <th></th>\n",
       "      <th></th>\n",
       "      <th></th>\n",
       "      <th></th>\n",
       "      <th></th>\n",
       "      <th></th>\n",
       "      <th></th>\n",
       "      <th></th>\n",
       "      <th></th>\n",
       "      <th></th>\n",
       "      <th></th>\n",
       "      <th></th>\n",
       "      <th></th>\n",
       "    </tr>\n",
       "  </thead>\n",
       "  <tbody>\n",
       "    <tr>\n",
       "      <th>78268</th>\n",
       "      <td>171</td>\n",
       "      <td>104</td>\n",
       "      <td>177</td>\n",
       "      <td>295</td>\n",
       "      <td>52</td>\n",
       "      <td>3363</td>\n",
       "      <td>144</td>\n",
       "      <td>19</td>\n",
       "      <td>57</td>\n",
       "      <td>0</td>\n",
       "      <td>...</td>\n",
       "      <td>0</td>\n",
       "      <td>1</td>\n",
       "      <td>0</td>\n",
       "      <td>0</td>\n",
       "      <td>0</td>\n",
       "      <td>0</td>\n",
       "      <td>0</td>\n",
       "      <td>0</td>\n",
       "      <td>0</td>\n",
       "      <td>0</td>\n",
       "    </tr>\n",
       "    <tr>\n",
       "      <th>78269</th>\n",
       "      <td>218</td>\n",
       "      <td>96</td>\n",
       "      <td>178</td>\n",
       "      <td>305</td>\n",
       "      <td>33</td>\n",
       "      <td>1720</td>\n",
       "      <td>147</td>\n",
       "      <td>57</td>\n",
       "      <td>48</td>\n",
       "      <td>0</td>\n",
       "      <td>...</td>\n",
       "      <td>0</td>\n",
       "      <td>0</td>\n",
       "      <td>0</td>\n",
       "      <td>0</td>\n",
       "      <td>0</td>\n",
       "      <td>1</td>\n",
       "      <td>0</td>\n",
       "      <td>0</td>\n",
       "      <td>0</td>\n",
       "      <td>0</td>\n",
       "    </tr>\n",
       "    <tr>\n",
       "      <th>78271</th>\n",
       "      <td>184</td>\n",
       "      <td>101</td>\n",
       "      <td>185</td>\n",
       "      <td>295</td>\n",
       "      <td>44</td>\n",
       "      <td>920</td>\n",
       "      <td>153</td>\n",
       "      <td>79</td>\n",
       "      <td>52</td>\n",
       "      <td>0</td>\n",
       "      <td>...</td>\n",
       "      <td>0</td>\n",
       "      <td>0</td>\n",
       "      <td>0</td>\n",
       "      <td>0</td>\n",
       "      <td>0</td>\n",
       "      <td>0</td>\n",
       "      <td>0</td>\n",
       "      <td>0</td>\n",
       "      <td>0</td>\n",
       "      <td>0</td>\n",
       "    </tr>\n",
       "    <tr>\n",
       "      <th>78272</th>\n",
       "      <td>210</td>\n",
       "      <td>100</td>\n",
       "      <td>180</td>\n",
       "      <td>311</td>\n",
       "      <td>34</td>\n",
       "      <td>1453</td>\n",
       "      <td>154</td>\n",
       "      <td>29</td>\n",
       "      <td>56</td>\n",
       "      <td>0</td>\n",
       "      <td>...</td>\n",
       "      <td>0</td>\n",
       "      <td>0</td>\n",
       "      <td>0</td>\n",
       "      <td>0</td>\n",
       "      <td>0</td>\n",
       "      <td>0</td>\n",
       "      <td>0</td>\n",
       "      <td>0</td>\n",
       "      <td>0</td>\n",
       "      <td>0</td>\n",
       "    </tr>\n",
       "    <tr>\n",
       "      <th>78274</th>\n",
       "      <td>223</td>\n",
       "      <td>111</td>\n",
       "      <td>181</td>\n",
       "      <td>287</td>\n",
       "      <td>41</td>\n",
       "      <td>2219</td>\n",
       "      <td>159</td>\n",
       "      <td>2</td>\n",
       "      <td>47</td>\n",
       "      <td>1</td>\n",
       "      <td>...</td>\n",
       "      <td>0</td>\n",
       "      <td>1</td>\n",
       "      <td>0</td>\n",
       "      <td>0</td>\n",
       "      <td>0</td>\n",
       "      <td>0</td>\n",
       "      <td>0</td>\n",
       "      <td>0</td>\n",
       "      <td>0</td>\n",
       "      <td>0</td>\n",
       "    </tr>\n",
       "  </tbody>\n",
       "</table>\n",
       "<p>5 rows × 53 columns</p>\n",
       "</div>"
      ],
      "text/plain": [
       "         apm  income  height  reaction_time  age  kappa_ability  weight  \\\n",
       "user_id                                                                   \n",
       "78268    171     104     177            295   52           3363     144   \n",
       "78269    218      96     178            305   33           1720     147   \n",
       "78271    184     101     185            295   44            920     153   \n",
       "78272    210     100     180            311   34           1453     154   \n",
       "78274    223     111     181            287   41           2219     159   \n",
       "\n",
       "         amount  gregariousness  churn                ...                  \\\n",
       "user_id                                               ...                   \n",
       "78268        19              57      0                ...                   \n",
       "78269        57              48      0                ...                   \n",
       "78271        79              52      0                ...                   \n",
       "78272        29              56      0                ...                   \n",
       "78274         2              47      1                ...                   \n",
       "\n",
       "         favorite_ice_cream_flavor_Cookies and Cream  \\\n",
       "user_id                                                \n",
       "78268                                              0   \n",
       "78269                                              0   \n",
       "78271                                              0   \n",
       "78272                                              0   \n",
       "78274                                              0   \n",
       "\n",
       "         favorite_ice_cream_flavor_Mint  favorite_ice_cream_flavor_Neapolitan  \\\n",
       "user_id                                                                         \n",
       "78268                                 1                                     0   \n",
       "78269                                 0                                     0   \n",
       "78271                                 0                                     0   \n",
       "78272                                 0                                     0   \n",
       "78274                                 1                                     0   \n",
       "\n",
       "         favorite_ice_cream_flavor_Orange Sherbert  \\\n",
       "user_id                                              \n",
       "78268                                            0   \n",
       "78269                                            0   \n",
       "78271                                            0   \n",
       "78272                                            0   \n",
       "78274                                            0   \n",
       "\n",
       "         favorite_ice_cream_flavor_Peach  favorite_ice_cream_flavor_Pistachio  \\\n",
       "user_id                                                                         \n",
       "78268                                  0                                    0   \n",
       "78269                                  0                                    1   \n",
       "78271                                  0                                    0   \n",
       "78272                                  0                                    0   \n",
       "78274                                  0                                    0   \n",
       "\n",
       "         favorite_ice_cream_flavor_Red Velvet  \\\n",
       "user_id                                         \n",
       "78268                                       0   \n",
       "78269                                       0   \n",
       "78271                                       0   \n",
       "78272                                       0   \n",
       "78274                                       0   \n",
       "\n",
       "         favorite_ice_cream_flavor_Rocky Road  \\\n",
       "user_id                                         \n",
       "78268                                       0   \n",
       "78269                                       0   \n",
       "78271                                       0   \n",
       "78272                                       0   \n",
       "78274                                       0   \n",
       "\n",
       "         favorite_ice_cream_flavor_Strawberry  \\\n",
       "user_id                                         \n",
       "78268                                       0   \n",
       "78269                                       0   \n",
       "78271                                       0   \n",
       "78272                                       0   \n",
       "78274                                       0   \n",
       "\n",
       "         favorite_ice_cream_flavor_Vanilla  \n",
       "user_id                                     \n",
       "78268                                    0  \n",
       "78269                                    0  \n",
       "78271                                    0  \n",
       "78272                                    0  \n",
       "78274                                    0  \n",
       "\n",
       "[5 rows x 53 columns]"
      ]
     },
     "execution_count": 75,
     "metadata": {},
     "output_type": "execute_result"
    }
   ],
   "source": [
    "\n",
    "df_user.to_csv(path_or_buf='out.csv')\n",
    "df_user2.to_csv(path_or_buf='out1.csv')\n",
    "df_user2.head()\n",
    "# saving some preprocessed dataframes"
   ]
  },
  {
   "cell_type": "code",
   "execution_count": 76,
   "metadata": {},
   "outputs": [],
   "source": [
    "df_user2['churn1'] = df_user2.churn\n",
    "df_user2.drop('churn',axis =1,inplace = True)\n",
    "df_user2 = df_user2.rename(columns={'churn1':'churn'})"
   ]
  },
  {
   "cell_type": "code",
   "execution_count": 77,
   "metadata": {},
   "outputs": [],
   "source": [
    "df_user['churn1'] = df_user.churn\n",
    "df_user.drop('churn',axis =1,inplace = True)\n",
    "df_user = df_user.rename(columns={'churn1':'churn'})"
   ]
  },
  {
   "cell_type": "code",
   "execution_count": 78,
   "metadata": {},
   "outputs": [
    {
     "data": {
      "text/html": [
       "<div>\n",
       "<style scoped>\n",
       "    .dataframe tbody tr th:only-of-type {\n",
       "        vertical-align: middle;\n",
       "    }\n",
       "\n",
       "    .dataframe tbody tr th {\n",
       "        vertical-align: top;\n",
       "    }\n",
       "\n",
       "    .dataframe thead th {\n",
       "        text-align: right;\n",
       "    }\n",
       "</style>\n",
       "<table border=\"1\" class=\"dataframe\">\n",
       "  <thead>\n",
       "    <tr style=\"text-align: right;\">\n",
       "      <th></th>\n",
       "      <th>favorite_pizza_topping</th>\n",
       "      <th>favorite_ice_cream_flavor</th>\n",
       "      <th>apm</th>\n",
       "      <th>income</th>\n",
       "      <th>grade</th>\n",
       "      <th>height</th>\n",
       "      <th>reaction_time</th>\n",
       "      <th>city</th>\n",
       "      <th>age</th>\n",
       "      <th>company</th>\n",
       "      <th>kappa_ability</th>\n",
       "      <th>weight</th>\n",
       "      <th>amount</th>\n",
       "      <th>gregariousness</th>\n",
       "      <th>churn</th>\n",
       "    </tr>\n",
       "    <tr>\n",
       "      <th>user_id</th>\n",
       "      <th></th>\n",
       "      <th></th>\n",
       "      <th></th>\n",
       "      <th></th>\n",
       "      <th></th>\n",
       "      <th></th>\n",
       "      <th></th>\n",
       "      <th></th>\n",
       "      <th></th>\n",
       "      <th></th>\n",
       "      <th></th>\n",
       "      <th></th>\n",
       "      <th></th>\n",
       "      <th></th>\n",
       "      <th></th>\n",
       "    </tr>\n",
       "  </thead>\n",
       "  <tbody>\n",
       "    <tr>\n",
       "      <th>78268</th>\n",
       "      <td>17</td>\n",
       "      <td>6</td>\n",
       "      <td>171</td>\n",
       "      <td>104</td>\n",
       "      <td>0</td>\n",
       "      <td>177</td>\n",
       "      <td>295</td>\n",
       "      <td>2</td>\n",
       "      <td>52</td>\n",
       "      <td>1</td>\n",
       "      <td>3363</td>\n",
       "      <td>144</td>\n",
       "      <td>19</td>\n",
       "      <td>57</td>\n",
       "      <td>0</td>\n",
       "    </tr>\n",
       "    <tr>\n",
       "      <th>78269</th>\n",
       "      <td>10</td>\n",
       "      <td>10</td>\n",
       "      <td>218</td>\n",
       "      <td>96</td>\n",
       "      <td>1</td>\n",
       "      <td>178</td>\n",
       "      <td>305</td>\n",
       "      <td>2</td>\n",
       "      <td>33</td>\n",
       "      <td>1</td>\n",
       "      <td>1720</td>\n",
       "      <td>147</td>\n",
       "      <td>57</td>\n",
       "      <td>48</td>\n",
       "      <td>0</td>\n",
       "    </tr>\n",
       "    <tr>\n",
       "      <th>78271</th>\n",
       "      <td>14</td>\n",
       "      <td>4</td>\n",
       "      <td>184</td>\n",
       "      <td>101</td>\n",
       "      <td>2</td>\n",
       "      <td>185</td>\n",
       "      <td>295</td>\n",
       "      <td>0</td>\n",
       "      <td>44</td>\n",
       "      <td>1</td>\n",
       "      <td>920</td>\n",
       "      <td>153</td>\n",
       "      <td>79</td>\n",
       "      <td>52</td>\n",
       "      <td>0</td>\n",
       "    </tr>\n",
       "    <tr>\n",
       "      <th>78272</th>\n",
       "      <td>4</td>\n",
       "      <td>4</td>\n",
       "      <td>210</td>\n",
       "      <td>100</td>\n",
       "      <td>2</td>\n",
       "      <td>180</td>\n",
       "      <td>311</td>\n",
       "      <td>0</td>\n",
       "      <td>34</td>\n",
       "      <td>0</td>\n",
       "      <td>1453</td>\n",
       "      <td>154</td>\n",
       "      <td>29</td>\n",
       "      <td>56</td>\n",
       "      <td>0</td>\n",
       "    </tr>\n",
       "    <tr>\n",
       "      <th>78274</th>\n",
       "      <td>18</td>\n",
       "      <td>6</td>\n",
       "      <td>223</td>\n",
       "      <td>111</td>\n",
       "      <td>1</td>\n",
       "      <td>181</td>\n",
       "      <td>287</td>\n",
       "      <td>1</td>\n",
       "      <td>41</td>\n",
       "      <td>0</td>\n",
       "      <td>2219</td>\n",
       "      <td>159</td>\n",
       "      <td>2</td>\n",
       "      <td>47</td>\n",
       "      <td>1</td>\n",
       "    </tr>\n",
       "  </tbody>\n",
       "</table>\n",
       "</div>"
      ],
      "text/plain": [
       "         favorite_pizza_topping  favorite_ice_cream_flavor  apm  income  \\\n",
       "user_id                                                                   \n",
       "78268                        17                          6  171     104   \n",
       "78269                        10                         10  218      96   \n",
       "78271                        14                          4  184     101   \n",
       "78272                         4                          4  210     100   \n",
       "78274                        18                          6  223     111   \n",
       "\n",
       "         grade  height  reaction_time  city  age  company  kappa_ability  \\\n",
       "user_id                                                                    \n",
       "78268        0     177            295     2   52        1           3363   \n",
       "78269        1     178            305     2   33        1           1720   \n",
       "78271        2     185            295     0   44        1            920   \n",
       "78272        2     180            311     0   34        0           1453   \n",
       "78274        1     181            287     1   41        0           2219   \n",
       "\n",
       "         weight  amount  gregariousness  churn  \n",
       "user_id                                         \n",
       "78268       144      19              57      0  \n",
       "78269       147      57              48      0  \n",
       "78271       153      79              52      0  \n",
       "78272       154      29              56      0  \n",
       "78274       159       2              47      1  "
      ]
     },
     "execution_count": 78,
     "metadata": {},
     "output_type": "execute_result"
    }
   ],
   "source": [
    "#df_user['incomelev'] = label_encoder.fit_transform(df_user['incomelev'])\n",
    "df_user.head()"
   ]
  },
  {
   "cell_type": "code",
   "execution_count": 79,
   "metadata": {},
   "outputs": [
    {
     "data": {
      "text/html": [
       "<div>\n",
       "<style scoped>\n",
       "    .dataframe tbody tr th:only-of-type {\n",
       "        vertical-align: middle;\n",
       "    }\n",
       "\n",
       "    .dataframe tbody tr th {\n",
       "        vertical-align: top;\n",
       "    }\n",
       "\n",
       "    .dataframe thead th {\n",
       "        text-align: right;\n",
       "    }\n",
       "</style>\n",
       "<table border=\"1\" class=\"dataframe\">\n",
       "  <thead>\n",
       "    <tr style=\"text-align: right;\">\n",
       "      <th></th>\n",
       "      <th>apm</th>\n",
       "      <th>income</th>\n",
       "      <th>height</th>\n",
       "      <th>reaction_time</th>\n",
       "      <th>age</th>\n",
       "      <th>kappa_ability</th>\n",
       "      <th>weight</th>\n",
       "      <th>amount</th>\n",
       "      <th>gregariousness</th>\n",
       "      <th>favorite_pizza_topping_BBQ Sauce</th>\n",
       "      <th>...</th>\n",
       "      <th>favorite_ice_cream_flavor_Mint</th>\n",
       "      <th>favorite_ice_cream_flavor_Neapolitan</th>\n",
       "      <th>favorite_ice_cream_flavor_Orange Sherbert</th>\n",
       "      <th>favorite_ice_cream_flavor_Peach</th>\n",
       "      <th>favorite_ice_cream_flavor_Pistachio</th>\n",
       "      <th>favorite_ice_cream_flavor_Red Velvet</th>\n",
       "      <th>favorite_ice_cream_flavor_Rocky Road</th>\n",
       "      <th>favorite_ice_cream_flavor_Strawberry</th>\n",
       "      <th>favorite_ice_cream_flavor_Vanilla</th>\n",
       "      <th>churn</th>\n",
       "    </tr>\n",
       "    <tr>\n",
       "      <th>user_id</th>\n",
       "      <th></th>\n",
       "      <th></th>\n",
       "      <th></th>\n",
       "      <th></th>\n",
       "      <th></th>\n",
       "      <th></th>\n",
       "      <th></th>\n",
       "      <th></th>\n",
       "      <th></th>\n",
       "      <th></th>\n",
       "      <th></th>\n",
       "      <th></th>\n",
       "      <th></th>\n",
       "      <th></th>\n",
       "      <th></th>\n",
       "      <th></th>\n",
       "      <th></th>\n",
       "      <th></th>\n",
       "      <th></th>\n",
       "      <th></th>\n",
       "      <th></th>\n",
       "    </tr>\n",
       "  </thead>\n",
       "  <tbody>\n",
       "    <tr>\n",
       "      <th>78268</th>\n",
       "      <td>171</td>\n",
       "      <td>104</td>\n",
       "      <td>177</td>\n",
       "      <td>295</td>\n",
       "      <td>52</td>\n",
       "      <td>3363</td>\n",
       "      <td>144</td>\n",
       "      <td>19</td>\n",
       "      <td>57</td>\n",
       "      <td>0</td>\n",
       "      <td>...</td>\n",
       "      <td>1</td>\n",
       "      <td>0</td>\n",
       "      <td>0</td>\n",
       "      <td>0</td>\n",
       "      <td>0</td>\n",
       "      <td>0</td>\n",
       "      <td>0</td>\n",
       "      <td>0</td>\n",
       "      <td>0</td>\n",
       "      <td>0</td>\n",
       "    </tr>\n",
       "    <tr>\n",
       "      <th>78269</th>\n",
       "      <td>218</td>\n",
       "      <td>96</td>\n",
       "      <td>178</td>\n",
       "      <td>305</td>\n",
       "      <td>33</td>\n",
       "      <td>1720</td>\n",
       "      <td>147</td>\n",
       "      <td>57</td>\n",
       "      <td>48</td>\n",
       "      <td>0</td>\n",
       "      <td>...</td>\n",
       "      <td>0</td>\n",
       "      <td>0</td>\n",
       "      <td>0</td>\n",
       "      <td>0</td>\n",
       "      <td>1</td>\n",
       "      <td>0</td>\n",
       "      <td>0</td>\n",
       "      <td>0</td>\n",
       "      <td>0</td>\n",
       "      <td>0</td>\n",
       "    </tr>\n",
       "    <tr>\n",
       "      <th>78271</th>\n",
       "      <td>184</td>\n",
       "      <td>101</td>\n",
       "      <td>185</td>\n",
       "      <td>295</td>\n",
       "      <td>44</td>\n",
       "      <td>920</td>\n",
       "      <td>153</td>\n",
       "      <td>79</td>\n",
       "      <td>52</td>\n",
       "      <td>0</td>\n",
       "      <td>...</td>\n",
       "      <td>0</td>\n",
       "      <td>0</td>\n",
       "      <td>0</td>\n",
       "      <td>0</td>\n",
       "      <td>0</td>\n",
       "      <td>0</td>\n",
       "      <td>0</td>\n",
       "      <td>0</td>\n",
       "      <td>0</td>\n",
       "      <td>0</td>\n",
       "    </tr>\n",
       "    <tr>\n",
       "      <th>78272</th>\n",
       "      <td>210</td>\n",
       "      <td>100</td>\n",
       "      <td>180</td>\n",
       "      <td>311</td>\n",
       "      <td>34</td>\n",
       "      <td>1453</td>\n",
       "      <td>154</td>\n",
       "      <td>29</td>\n",
       "      <td>56</td>\n",
       "      <td>0</td>\n",
       "      <td>...</td>\n",
       "      <td>0</td>\n",
       "      <td>0</td>\n",
       "      <td>0</td>\n",
       "      <td>0</td>\n",
       "      <td>0</td>\n",
       "      <td>0</td>\n",
       "      <td>0</td>\n",
       "      <td>0</td>\n",
       "      <td>0</td>\n",
       "      <td>0</td>\n",
       "    </tr>\n",
       "    <tr>\n",
       "      <th>78274</th>\n",
       "      <td>223</td>\n",
       "      <td>111</td>\n",
       "      <td>181</td>\n",
       "      <td>287</td>\n",
       "      <td>41</td>\n",
       "      <td>2219</td>\n",
       "      <td>159</td>\n",
       "      <td>2</td>\n",
       "      <td>47</td>\n",
       "      <td>0</td>\n",
       "      <td>...</td>\n",
       "      <td>1</td>\n",
       "      <td>0</td>\n",
       "      <td>0</td>\n",
       "      <td>0</td>\n",
       "      <td>0</td>\n",
       "      <td>0</td>\n",
       "      <td>0</td>\n",
       "      <td>0</td>\n",
       "      <td>0</td>\n",
       "      <td>1</td>\n",
       "    </tr>\n",
       "  </tbody>\n",
       "</table>\n",
       "<p>5 rows × 53 columns</p>\n",
       "</div>"
      ],
      "text/plain": [
       "         apm  income  height  reaction_time  age  kappa_ability  weight  \\\n",
       "user_id                                                                   \n",
       "78268    171     104     177            295   52           3363     144   \n",
       "78269    218      96     178            305   33           1720     147   \n",
       "78271    184     101     185            295   44            920     153   \n",
       "78272    210     100     180            311   34           1453     154   \n",
       "78274    223     111     181            287   41           2219     159   \n",
       "\n",
       "         amount  gregariousness  favorite_pizza_topping_BBQ Sauce  ...    \\\n",
       "user_id                                                            ...     \n",
       "78268        19              57                                 0  ...     \n",
       "78269        57              48                                 0  ...     \n",
       "78271        79              52                                 0  ...     \n",
       "78272        29              56                                 0  ...     \n",
       "78274         2              47                                 0  ...     \n",
       "\n",
       "         favorite_ice_cream_flavor_Mint  favorite_ice_cream_flavor_Neapolitan  \\\n",
       "user_id                                                                         \n",
       "78268                                 1                                     0   \n",
       "78269                                 0                                     0   \n",
       "78271                                 0                                     0   \n",
       "78272                                 0                                     0   \n",
       "78274                                 1                                     0   \n",
       "\n",
       "         favorite_ice_cream_flavor_Orange Sherbert  \\\n",
       "user_id                                              \n",
       "78268                                            0   \n",
       "78269                                            0   \n",
       "78271                                            0   \n",
       "78272                                            0   \n",
       "78274                                            0   \n",
       "\n",
       "         favorite_ice_cream_flavor_Peach  favorite_ice_cream_flavor_Pistachio  \\\n",
       "user_id                                                                         \n",
       "78268                                  0                                    0   \n",
       "78269                                  0                                    1   \n",
       "78271                                  0                                    0   \n",
       "78272                                  0                                    0   \n",
       "78274                                  0                                    0   \n",
       "\n",
       "         favorite_ice_cream_flavor_Red Velvet  \\\n",
       "user_id                                         \n",
       "78268                                       0   \n",
       "78269                                       0   \n",
       "78271                                       0   \n",
       "78272                                       0   \n",
       "78274                                       0   \n",
       "\n",
       "         favorite_ice_cream_flavor_Rocky Road  \\\n",
       "user_id                                         \n",
       "78268                                       0   \n",
       "78269                                       0   \n",
       "78271                                       0   \n",
       "78272                                       0   \n",
       "78274                                       0   \n",
       "\n",
       "         favorite_ice_cream_flavor_Strawberry  \\\n",
       "user_id                                         \n",
       "78268                                       0   \n",
       "78269                                       0   \n",
       "78271                                       0   \n",
       "78272                                       0   \n",
       "78274                                       0   \n",
       "\n",
       "         favorite_ice_cream_flavor_Vanilla  churn  \n",
       "user_id                                            \n",
       "78268                                    0      0  \n",
       "78269                                    0      0  \n",
       "78271                                    0      0  \n",
       "78272                                    0      0  \n",
       "78274                                    0      1  \n",
       "\n",
       "[5 rows x 53 columns]"
      ]
     },
     "execution_count": 79,
     "metadata": {},
     "output_type": "execute_result"
    }
   ],
   "source": [
    "#df_user2['incomelev'] = label_encoder.fit_transform(df_user2['incomelev'])\n",
    "df_user2.head()"
   ]
  },
  {
   "cell_type": "markdown",
   "metadata": {},
   "source": [
    "## Splitting the Data set for Training and Testing in the ratio 80:20\n",
    "##\n",
    "\n",
    "## Also I am modelling in 4 parts for observation and analysis\n",
    "\n",
    "\n",
    "\n",
    "## 1) Modelling on the data which is only Integer encoded\n",
    "## 2) Modelling on the data which is One hot encoded\n",
    "## 3) Modelling on the data with integration of user activity dataset\n",
    "## 4) Modelling on the data without pizza topping and Icecream preference columns"
   ]
  },
  {
   "cell_type": "code",
   "execution_count": 80,
   "metadata": {},
   "outputs": [],
   "source": [
    "X = df_user\n",
    "y = df_user.iloc[:,-1]\n",
    "\n",
    "X2 = df_user2\n",
    "y2 = df_user2.iloc[:,-1]\n",
    "\n",
    "#creating Training and testing datasets"
   ]
  },
  {
   "cell_type": "markdown",
   "metadata": {},
   "source": [
    "## First part is the modelling of data with integer encoding, (Can be skipped till next heading or the graph comparing model accuracy)"
   ]
  },
  {
   "cell_type": "code",
   "execution_count": 81,
   "metadata": {},
   "outputs": [],
   "source": [
    "X.drop('churn',axis = 1, inplace = True)\n",
    "X2.drop('churn',axis = 1, inplace = True)\n",
    "#X.drop(['incomelev','agelev'],axis = 1, inplace = True)\n"
   ]
  },
  {
   "cell_type": "code",
   "execution_count": 82,
   "metadata": {},
   "outputs": [],
   "source": [
    "from sklearn.model_selection import train_test_split\n",
    "X_train, X_test, y_train, y_test = train_test_split(X, y, test_size=0.2, random_state=101)\n",
    "X2_train, X2_test, y2_train, y2_test = train_test_split(X2, y2, test_size=0.2, random_state=101)\n",
    "\n",
    "#splitting dataset for training and testing"
   ]
  },
  {
   "cell_type": "markdown",
   "metadata": {},
   "source": [
    "## Model for the integer encoded data "
   ]
  },
  {
   "cell_type": "code",
   "execution_count": 83,
   "metadata": {},
   "outputs": [
    {
     "name": "stderr",
     "output_type": "stream",
     "text": [
      "C:\\Users\\13154\\Anaconda3\\lib\\site-packages\\sklearn\\linear_model\\logistic.py:433: FutureWarning: Default solver will be changed to 'lbfgs' in 0.22. Specify a solver to silence this warning.\n",
      "  FutureWarning)\n"
     ]
    }
   ],
   "source": [
    "from sklearn.linear_model import LogisticRegression\n",
    "model = LogisticRegression()\n",
    "result = model.fit(X_train, y_train)\n",
    "\n",
    "# Logistic regression Model"
   ]
  },
  {
   "cell_type": "code",
   "execution_count": 84,
   "metadata": {},
   "outputs": [
    {
     "name": "stdout",
     "output_type": "stream",
     "text": [
      "0.8181818181818182\n"
     ]
    }
   ],
   "source": [
    "from sklearn import metrics\n",
    "prediction_test = model.predict(X_test)\n",
    "# Print the prediction accuracy\n",
    "print (metrics.accuracy_score(y_test, prediction_test))\n",
    "\n",
    "#Accuracy of the model with Integer encoding"
   ]
  },
  {
   "cell_type": "code",
   "execution_count": 85,
   "metadata": {},
   "outputs": [
    {
     "data": {
      "text/plain": [
       "company                      1.081910\n",
       "income                       0.156281\n",
       "favorite_pizza_topping       0.028593\n",
       "amount                       0.009119\n",
       "weight                       0.004093\n",
       "kappa_ability                0.000072\n",
       "reaction_time               -0.000381\n",
       "height                      -0.000807\n",
       "age                         -0.017922\n",
       "apm                         -0.044110\n",
       "gregariousness              -0.073197\n",
       "favorite_ice_cream_flavor   -0.139218\n",
       "city                        -0.143888\n",
       "grade                       -1.306530\n",
       "dtype: float64"
      ]
     },
     "execution_count": 85,
     "metadata": {},
     "output_type": "execute_result"
    }
   ],
   "source": [
    "# To get the weights of all the variables\n",
    "weights = pd.Series(model.coef_[0],index=X.columns.values)\n",
    "weights.sort_values(ascending = False)\n",
    "\n"
   ]
  },
  {
   "cell_type": "markdown",
   "metadata": {},
   "source": [
    "## We can observe that when we integer encode the variables,\n",
    "## the grade has a weight of -1.306 , It is trying to say as grade increases churn decreases, grade-z is considered as 2 hence the assumption. \n",
    "## This clearly shows we shouldnt integer encode the nominal variables"
   ]
  },
  {
   "cell_type": "code",
   "execution_count": 86,
   "metadata": {},
   "outputs": [
    {
     "name": "stdout",
     "output_type": "stream",
     "text": [
      "              precision    recall  f1-score   support\n",
      "\n",
      "           0       0.85      0.87      0.86        97\n",
      "           1       0.76      0.74      0.75        57\n",
      "\n",
      "   micro avg       0.82      0.82      0.82       154\n",
      "   macro avg       0.81      0.80      0.80       154\n",
      "weighted avg       0.82      0.82      0.82       154\n",
      "\n"
     ]
    }
   ],
   "source": [
    "from sklearn.metrics import classification_report\n",
    "print(classification_report(y_test, prediction_test))"
   ]
  },
  {
   "cell_type": "markdown",
   "metadata": {},
   "source": [
    "## Some different Models for comparison"
   ]
  },
  {
   "cell_type": "code",
   "execution_count": 87,
   "metadata": {},
   "outputs": [
    {
     "name": "stderr",
     "output_type": "stream",
     "text": [
      "[Parallel(n_jobs=-1)]: Using backend ThreadingBackend with 8 concurrent workers.\n",
      "[Parallel(n_jobs=-1)]: Done  34 tasks      | elapsed:    0.0s\n",
      "[Parallel(n_jobs=-1)]: Done 184 tasks      | elapsed:    0.1s\n",
      "[Parallel(n_jobs=-1)]: Done 434 tasks      | elapsed:    0.3s\n",
      "[Parallel(n_jobs=-1)]: Done 784 tasks      | elapsed:    0.6s\n",
      "[Parallel(n_jobs=-1)]: Done 1000 out of 1000 | elapsed:    0.8s finished\n",
      "[Parallel(n_jobs=8)]: Using backend ThreadingBackend with 8 concurrent workers.\n",
      "[Parallel(n_jobs=8)]: Done  34 tasks      | elapsed:    0.0s\n",
      "[Parallel(n_jobs=8)]: Done 184 tasks      | elapsed:    0.0s\n",
      "[Parallel(n_jobs=8)]: Done 434 tasks      | elapsed:    0.2s\n",
      "[Parallel(n_jobs=8)]: Done 784 tasks      | elapsed:    0.6s\n",
      "[Parallel(n_jobs=8)]: Done 1000 out of 1000 | elapsed:    0.7s finished\n",
      "[Parallel(n_jobs=8)]: Using backend ThreadingBackend with 8 concurrent workers.\n",
      "[Parallel(n_jobs=8)]: Done  34 tasks      | elapsed:    0.0s\n",
      "[Parallel(n_jobs=8)]: Done 184 tasks      | elapsed:    0.0s\n",
      "[Parallel(n_jobs=8)]: Done 434 tasks      | elapsed:    0.1s\n",
      "[Parallel(n_jobs=8)]: Done 784 tasks      | elapsed:    0.1s\n",
      "[Parallel(n_jobs=8)]: Done 1000 out of 1000 | elapsed:    0.2s finished\n"
     ]
    }
   ],
   "source": [
    "from sklearn.ensemble import RandomForestClassifier #use RandomForestRegressor for regression problem\n",
    "#Assumed you have, X (predictor) and Y (target) for training data set and x_test(predictor) of test_dataset\n",
    "# Create Random Forest object\n",
    "modelRandom= RandomForestClassifier(n_estimators=1000,n_jobs=-1,verbose=1)\n",
    "# Train the model using the training sets and check score\n",
    "modelRandom.fit(X_train, y_train)\n",
    "modelRandom.score(X_train, y_train)\n",
    "#Predict Output\n",
    "predicted1= modelRandom.predict(X_test)"
   ]
  },
  {
   "cell_type": "code",
   "execution_count": 88,
   "metadata": {},
   "outputs": [],
   "source": [
    "modelComp = []\n",
    "modelComp.append(metrics.accuracy_score(y_test, predicted1))\n",
    "modelComp.append(metrics.accuracy_score(y_test, prediction_test))"
   ]
  },
  {
   "cell_type": "code",
   "execution_count": 89,
   "metadata": {},
   "outputs": [
    {
     "name": "stdout",
     "output_type": "stream",
     "text": [
      "0.9675324675324676\n",
      "              precision    recall  f1-score   support\n",
      "\n",
      "           0       0.97      0.98      0.97        97\n",
      "           1       0.96      0.95      0.96        57\n",
      "\n",
      "   micro avg       0.97      0.97      0.97       154\n",
      "   macro avg       0.97      0.96      0.97       154\n",
      "weighted avg       0.97      0.97      0.97       154\n",
      "\n"
     ]
    }
   ],
   "source": [
    "print (metrics.accuracy_score(y_test, predicted1))\n",
    "from sklearn.metrics import classification_report\n",
    "print(classification_report(y_test, predicted1))"
   ]
  },
  {
   "cell_type": "code",
   "execution_count": 90,
   "metadata": {},
   "outputs": [
    {
     "name": "stdout",
     "output_type": "stream",
     "text": [
      "      Iter       Train Loss   Remaining Time \n",
      "         1           0.6039            0.30s\n",
      "         2           0.3379            0.15s\n",
      "         3           0.2884            0.13s\n",
      "         4           0.2562            0.12s\n",
      "         5           0.2215            0.11s\n",
      "         6           0.1982            0.09s\n",
      "         7           0.1796            0.10s\n",
      "         8           0.1779            0.09s\n",
      "         9           0.1726            0.08s\n",
      "        10           0.1518            0.08s\n",
      "        20           0.0806            0.05s\n",
      "        30           0.0471            0.04s\n",
      "        40           0.0331            0.03s\n",
      "        50           0.0224            0.03s\n",
      "        60           0.0178            0.02s\n",
      "        70           0.0130            0.02s\n",
      "        80           0.0094            0.01s\n",
      "        90           0.0071            0.00s\n",
      "       100           0.0054            0.00s\n"
     ]
    },
    {
     "data": {
      "text/plain": [
       "GradientBoostingClassifier(criterion='friedman_mse', init=None,\n",
       "              learning_rate=1.0, loss='deviance', max_depth=1,\n",
       "              max_features=None, max_leaf_nodes=None,\n",
       "              min_impurity_decrease=0.0, min_impurity_split=None,\n",
       "              min_samples_leaf=1, min_samples_split=2,\n",
       "              min_weight_fraction_leaf=0.0, n_estimators=100,\n",
       "              n_iter_no_change=None, presort='auto', random_state=None,\n",
       "              subsample=1.0, tol=0.0001, validation_fraction=0.1,\n",
       "              verbose=1, warm_start=False)"
      ]
     },
     "execution_count": 90,
     "metadata": {},
     "output_type": "execute_result"
    }
   ],
   "source": [
    "from sklearn.ensemble import GradientBoostingClassifier\n",
    "modelGB = GradientBoostingClassifier(n_estimators=100, learning_rate=1.0, max_depth=1,verbose=1)\n",
    "modelGB.fit(X_train, y_train)"
   ]
  },
  {
   "cell_type": "code",
   "execution_count": 91,
   "metadata": {},
   "outputs": [],
   "source": [
    "predicted2 = modelGB.predict(X_test)"
   ]
  },
  {
   "cell_type": "code",
   "execution_count": 92,
   "metadata": {},
   "outputs": [
    {
     "name": "stdout",
     "output_type": "stream",
     "text": [
      "0.9545454545454546\n",
      "              precision    recall  f1-score   support\n",
      "\n",
      "           0       0.97      0.96      0.96        97\n",
      "           1       0.93      0.95      0.94        57\n",
      "\n",
      "   micro avg       0.95      0.95      0.95       154\n",
      "   macro avg       0.95      0.95      0.95       154\n",
      "weighted avg       0.95      0.95      0.95       154\n",
      "\n"
     ]
    }
   ],
   "source": [
    "modelComp.append(metrics.accuracy_score(y_test, predicted2))\n",
    "print(metrics.accuracy_score(y_test, predicted2))\n",
    "print(classification_report(y_test,predicted2))"
   ]
  },
  {
   "cell_type": "code",
   "execution_count": 93,
   "metadata": {},
   "outputs": [],
   "source": [
    "from sklearn.svm import SVC"
   ]
  },
  {
   "cell_type": "code",
   "execution_count": 94,
   "metadata": {},
   "outputs": [],
   "source": [
    "modelSVC = SVC(kernel='linear',verbose = True)"
   ]
  },
  {
   "cell_type": "code",
   "execution_count": 95,
   "metadata": {},
   "outputs": [
    {
     "name": "stdout",
     "output_type": "stream",
     "text": [
      "[LibSVM]"
     ]
    },
    {
     "data": {
      "text/plain": [
       "SVC(C=1.0, cache_size=200, class_weight=None, coef0=0.0,\n",
       "  decision_function_shape='ovr', degree=3, gamma='auto_deprecated',\n",
       "  kernel='linear', max_iter=-1, probability=False, random_state=None,\n",
       "  shrinking=True, tol=0.001, verbose=True)"
      ]
     },
     "execution_count": 95,
     "metadata": {},
     "output_type": "execute_result"
    }
   ],
   "source": [
    "modelSVC.fit(X_train, y_train)"
   ]
  },
  {
   "cell_type": "code",
   "execution_count": 96,
   "metadata": {},
   "outputs": [],
   "source": [
    "predicted3 = modelSVC.predict(X_test)"
   ]
  },
  {
   "cell_type": "code",
   "execution_count": 97,
   "metadata": {},
   "outputs": [
    {
     "name": "stdout",
     "output_type": "stream",
     "text": [
      "0.935064935064935\n",
      "              precision    recall  f1-score   support\n",
      "\n",
      "           0       0.98      0.92      0.95        97\n",
      "           1       0.87      0.96      0.92        57\n",
      "\n",
      "   micro avg       0.94      0.94      0.94       154\n",
      "   macro avg       0.93      0.94      0.93       154\n",
      "weighted avg       0.94      0.94      0.94       154\n",
      "\n"
     ]
    }
   ],
   "source": [
    "modelComp.append(metrics.accuracy_score(y_test, predicted3))\n",
    "print(metrics.accuracy_score(y_test,predicted3))\n",
    "print(classification_report(y_test,predicted3))"
   ]
  },
  {
   "cell_type": "code",
   "execution_count": 98,
   "metadata": {},
   "outputs": [],
   "source": [
    "re = np.reshape(modelComp,(1,4))"
   ]
  },
  {
   "cell_type": "code",
   "execution_count": 99,
   "metadata": {},
   "outputs": [],
   "source": [
    "modelCompare = pd.DataFrame(data = re, columns = ['RandomForest', 'LogisticRegression', 'GradientBoosting', 'SVM'])"
   ]
  },
  {
   "cell_type": "markdown",
   "metadata": {},
   "source": [
    "## We can see the comparison of the model output for integer encoded features"
   ]
  },
  {
   "cell_type": "code",
   "execution_count": 100,
   "metadata": {},
   "outputs": [
    {
     "data": {
      "image/png": "[encoded data removed]",
      "text/plain": [
       "<Figure size 1080x720 with 1 Axes>"
      ]
     },
     "metadata": {
      "needs_background": "light"
     },
     "output_type": "display_data"
    }
   ],
   "source": [
    "ax = modelCompare.plot(kind='bar', figsize=(15,10), fontsize=13);\n",
    "ax.set_alpha(0.8)\n",
    "ax.set_title(\"Model Comparison\", fontsize=18)\n",
    "ax.set_ylabel(\"percentage\", fontsize=18);\n",
    "ax.legend(fontsize = 13)\n",
    "ax.xticks = ['1','2','3','4']\n",
    "\n",
    "\n",
    "# create a list to collect the plt.patches data\n",
    "totals = []\n",
    "\n",
    "# find the values and append to list\n",
    "for i in ax.patches:\n",
    "    totals.append(i.get_height())\n",
    "\n",
    "# set individual bar lables using above list\n",
    "#total = sum(totals)\n",
    "\n",
    "# set individual bar lables using above list\n",
    "for i in ax.patches:\n",
    "    # get_x pulls left or right; get_height pushes up or down\n",
    "    ax.text(i.get_x()+.01, i.get_height()+.01, \\\n",
    "            str(round((i.get_height())*100, 2))+'%', fontsize=15,\n",
    "                color='black')\n"
   ]
  },
  {
   "cell_type": "markdown",
   "metadata": {},
   "source": []
  },
  {
   "cell_type": "markdown",
   "metadata": {},
   "source": [
    "## Lets do Some Finetuning and Feature engineering/Manipulation"
   ]
  },
  {
   "cell_type": "code",
   "execution_count": 101,
   "metadata": {},
   "outputs": [
    {
     "data": {
      "text/plain": [
       "company                      1.081910\n",
       "income                       0.156281\n",
       "favorite_pizza_topping       0.028593\n",
       "amount                       0.009119\n",
       "weight                       0.004093\n",
       "kappa_ability                0.000072\n",
       "reaction_time               -0.000381\n",
       "height                      -0.000807\n",
       "age                         -0.017922\n",
       "apm                         -0.044110\n",
       "gregariousness              -0.073197\n",
       "favorite_ice_cream_flavor   -0.139218\n",
       "city                        -0.143888\n",
       "grade                       -1.306530\n",
       "dtype: float64"
      ]
     },
     "execution_count": 101,
     "metadata": {},
     "output_type": "execute_result"
    }
   ],
   "source": [
    "weights = pd.Series(model.coef_[0],index=X.columns.values)\n",
    "weights.sort_values(ascending = False)"
   ]
  },
  {
   "cell_type": "markdown",
   "metadata": {},
   "source": [
    "## It can be observed that some variables have a positive relation to our predicted variable and some have a negative relation. A positive value has a positive impact on our predicted variable. A good example is “Company”: The positive relation to churn means that having customer from this Company also increases the probability of a customer to churn. On the other hand that “Grade” is in a highly negative relation to the predicted variable, which means that customers with this type of Grade are very unlikely to churn. But we can also see that some variables do not make sense in the first point. “Favorite_ice_Cream_Flavor” is on good position in terms of a negative impact on churn. While we would expect that this makes a customer stay, by prviding them with a Favorable Ice cream flavor, Or it is just a Coincidence."
   ]
  },
  {
   "cell_type": "code",
   "execution_count": 102,
   "metadata": {},
   "outputs": [
    {
     "data": {
      "text/html": [
       "<div>\n",
       "<style scoped>\n",
       "    .dataframe tbody tr th:only-of-type {\n",
       "        vertical-align: middle;\n",
       "    }\n",
       "\n",
       "    .dataframe tbody tr th {\n",
       "        vertical-align: top;\n",
       "    }\n",
       "\n",
       "    .dataframe thead th {\n",
       "        text-align: right;\n",
       "    }\n",
       "</style>\n",
       "<table border=\"1\" class=\"dataframe\">\n",
       "  <thead>\n",
       "    <tr style=\"text-align: right;\">\n",
       "      <th></th>\n",
       "      <th>favorite_pizza_topping</th>\n",
       "      <th>favorite_ice_cream_flavor</th>\n",
       "      <th>apm</th>\n",
       "      <th>income</th>\n",
       "      <th>grade</th>\n",
       "      <th>height</th>\n",
       "      <th>reaction_time</th>\n",
       "      <th>city</th>\n",
       "      <th>age</th>\n",
       "      <th>company</th>\n",
       "      <th>kappa_ability</th>\n",
       "      <th>weight</th>\n",
       "      <th>amount</th>\n",
       "      <th>gregariousness</th>\n",
       "    </tr>\n",
       "    <tr>\n",
       "      <th>user_id</th>\n",
       "      <th></th>\n",
       "      <th></th>\n",
       "      <th></th>\n",
       "      <th></th>\n",
       "      <th></th>\n",
       "      <th></th>\n",
       "      <th></th>\n",
       "      <th></th>\n",
       "      <th></th>\n",
       "      <th></th>\n",
       "      <th></th>\n",
       "      <th></th>\n",
       "      <th></th>\n",
       "      <th></th>\n",
       "    </tr>\n",
       "  </thead>\n",
       "  <tbody>\n",
       "    <tr>\n",
       "      <th>78268</th>\n",
       "      <td>17</td>\n",
       "      <td>6</td>\n",
       "      <td>171</td>\n",
       "      <td>104</td>\n",
       "      <td>0</td>\n",
       "      <td>177</td>\n",
       "      <td>295</td>\n",
       "      <td>2</td>\n",
       "      <td>52</td>\n",
       "      <td>1</td>\n",
       "      <td>3363</td>\n",
       "      <td>144</td>\n",
       "      <td>19</td>\n",
       "      <td>57</td>\n",
       "    </tr>\n",
       "    <tr>\n",
       "      <th>78269</th>\n",
       "      <td>10</td>\n",
       "      <td>10</td>\n",
       "      <td>218</td>\n",
       "      <td>96</td>\n",
       "      <td>1</td>\n",
       "      <td>178</td>\n",
       "      <td>305</td>\n",
       "      <td>2</td>\n",
       "      <td>33</td>\n",
       "      <td>1</td>\n",
       "      <td>1720</td>\n",
       "      <td>147</td>\n",
       "      <td>57</td>\n",
       "      <td>48</td>\n",
       "    </tr>\n",
       "    <tr>\n",
       "      <th>78271</th>\n",
       "      <td>14</td>\n",
       "      <td>4</td>\n",
       "      <td>184</td>\n",
       "      <td>101</td>\n",
       "      <td>2</td>\n",
       "      <td>185</td>\n",
       "      <td>295</td>\n",
       "      <td>0</td>\n",
       "      <td>44</td>\n",
       "      <td>1</td>\n",
       "      <td>920</td>\n",
       "      <td>153</td>\n",
       "      <td>79</td>\n",
       "      <td>52</td>\n",
       "    </tr>\n",
       "    <tr>\n",
       "      <th>78272</th>\n",
       "      <td>4</td>\n",
       "      <td>4</td>\n",
       "      <td>210</td>\n",
       "      <td>100</td>\n",
       "      <td>2</td>\n",
       "      <td>180</td>\n",
       "      <td>311</td>\n",
       "      <td>0</td>\n",
       "      <td>34</td>\n",
       "      <td>0</td>\n",
       "      <td>1453</td>\n",
       "      <td>154</td>\n",
       "      <td>29</td>\n",
       "      <td>56</td>\n",
       "    </tr>\n",
       "    <tr>\n",
       "      <th>78274</th>\n",
       "      <td>18</td>\n",
       "      <td>6</td>\n",
       "      <td>223</td>\n",
       "      <td>111</td>\n",
       "      <td>1</td>\n",
       "      <td>181</td>\n",
       "      <td>287</td>\n",
       "      <td>1</td>\n",
       "      <td>41</td>\n",
       "      <td>0</td>\n",
       "      <td>2219</td>\n",
       "      <td>159</td>\n",
       "      <td>2</td>\n",
       "      <td>47</td>\n",
       "    </tr>\n",
       "    <tr>\n",
       "      <th>78275</th>\n",
       "      <td>17</td>\n",
       "      <td>5</td>\n",
       "      <td>168</td>\n",
       "      <td>114</td>\n",
       "      <td>1</td>\n",
       "      <td>173</td>\n",
       "      <td>277</td>\n",
       "      <td>0</td>\n",
       "      <td>55</td>\n",
       "      <td>1</td>\n",
       "      <td>1788</td>\n",
       "      <td>162</td>\n",
       "      <td>130</td>\n",
       "      <td>45</td>\n",
       "    </tr>\n",
       "    <tr>\n",
       "      <th>78277</th>\n",
       "      <td>14</td>\n",
       "      <td>6</td>\n",
       "      <td>216</td>\n",
       "      <td>106</td>\n",
       "      <td>1</td>\n",
       "      <td>184</td>\n",
       "      <td>263</td>\n",
       "      <td>0</td>\n",
       "      <td>39</td>\n",
       "      <td>0</td>\n",
       "      <td>2747</td>\n",
       "      <td>156</td>\n",
       "      <td>26</td>\n",
       "      <td>58</td>\n",
       "    </tr>\n",
       "    <tr>\n",
       "      <th>78278</th>\n",
       "      <td>16</td>\n",
       "      <td>11</td>\n",
       "      <td>186</td>\n",
       "      <td>97</td>\n",
       "      <td>2</td>\n",
       "      <td>182</td>\n",
       "      <td>299</td>\n",
       "      <td>0</td>\n",
       "      <td>63</td>\n",
       "      <td>0</td>\n",
       "      <td>33</td>\n",
       "      <td>142</td>\n",
       "      <td>16</td>\n",
       "      <td>57</td>\n",
       "    </tr>\n",
       "    <tr>\n",
       "      <th>78279</th>\n",
       "      <td>1</td>\n",
       "      <td>2</td>\n",
       "      <td>196</td>\n",
       "      <td>102</td>\n",
       "      <td>1</td>\n",
       "      <td>181</td>\n",
       "      <td>339</td>\n",
       "      <td>0</td>\n",
       "      <td>46</td>\n",
       "      <td>0</td>\n",
       "      <td>5138</td>\n",
       "      <td>152</td>\n",
       "      <td>5</td>\n",
       "      <td>51</td>\n",
       "    </tr>\n",
       "    <tr>\n",
       "      <th>78281</th>\n",
       "      <td>0</td>\n",
       "      <td>4</td>\n",
       "      <td>178</td>\n",
       "      <td>109</td>\n",
       "      <td>1</td>\n",
       "      <td>176</td>\n",
       "      <td>359</td>\n",
       "      <td>2</td>\n",
       "      <td>59</td>\n",
       "      <td>1</td>\n",
       "      <td>556</td>\n",
       "      <td>159</td>\n",
       "      <td>7</td>\n",
       "      <td>43</td>\n",
       "    </tr>\n",
       "  </tbody>\n",
       "</table>\n",
       "</div>"
      ],
      "text/plain": [
       "         favorite_pizza_topping  favorite_ice_cream_flavor  apm  income  \\\n",
       "user_id                                                                   \n",
       "78268                        17                          6  171     104   \n",
       "78269                        10                         10  218      96   \n",
       "78271                        14                          4  184     101   \n",
       "78272                         4                          4  210     100   \n",
       "78274                        18                          6  223     111   \n",
       "78275                        17                          5  168     114   \n",
       "78277                        14                          6  216     106   \n",
       "78278                        16                         11  186      97   \n",
       "78279                         1                          2  196     102   \n",
       "78281                         0                          4  178     109   \n",
       "\n",
       "         grade  height  reaction_time  city  age  company  kappa_ability  \\\n",
       "user_id                                                                    \n",
       "78268        0     177            295     2   52        1           3363   \n",
       "78269        1     178            305     2   33        1           1720   \n",
       "78271        2     185            295     0   44        1            920   \n",
       "78272        2     180            311     0   34        0           1453   \n",
       "78274        1     181            287     1   41        0           2219   \n",
       "78275        1     173            277     0   55        1           1788   \n",
       "78277        1     184            263     0   39        0           2747   \n",
       "78278        2     182            299     0   63        0             33   \n",
       "78279        1     181            339     0   46        0           5138   \n",
       "78281        1     176            359     2   59        1            556   \n",
       "\n",
       "         weight  amount  gregariousness  \n",
       "user_id                                  \n",
       "78268       144      19              57  \n",
       "78269       147      57              48  \n",
       "78271       153      79              52  \n",
       "78272       154      29              56  \n",
       "78274       159       2              47  \n",
       "78275       162     130              45  \n",
       "78277       156      26              58  \n",
       "78278       142      16              57  \n",
       "78279       152       5              51  \n",
       "78281       159       7              43  "
      ]
     },
     "execution_count": 102,
     "metadata": {},
     "output_type": "execute_result"
    }
   ],
   "source": [
    "df_user.head(10)"
   ]
  },
  {
   "cell_type": "markdown",
   "metadata": {},
   "source": [
    "## lets find out which grade, which ice cream or in general what is actually making a difference by finding model outputs for One hot encoded data"
   ]
  },
  {
   "cell_type": "code",
   "execution_count": 103,
   "metadata": {},
   "outputs": [
    {
     "name": "stderr",
     "output_type": "stream",
     "text": [
      "C:\\Users\\13154\\Anaconda3\\lib\\site-packages\\sklearn\\linear_model\\logistic.py:433: FutureWarning: Default solver will be changed to 'lbfgs' in 0.22. Specify a solver to silence this warning.\n",
      "  FutureWarning)\n"
     ]
    }
   ],
   "source": [
    "from sklearn.linear_model import LogisticRegression\n",
    "model = LogisticRegression()\n",
    "result = model.fit(X2_train, y2_train)"
   ]
  },
  {
   "cell_type": "code",
   "execution_count": 104,
   "metadata": {},
   "outputs": [
    {
     "name": "stdout",
     "output_type": "stream",
     "text": [
      "0.8701298701298701\n"
     ]
    }
   ],
   "source": [
    "from sklearn import metrics\n",
    "prediction_test2 = model.predict(X2_test)\n",
    "# Print the prediction accuracy\n",
    "print (metrics.accuracy_score(y2_test, prediction_test2))"
   ]
  },
  {
   "cell_type": "code",
   "execution_count": 105,
   "metadata": {},
   "outputs": [
    {
     "data": {
      "text/plain": [
       "favorite_ice_cream_flavor_Pistachio            1.672418\n",
       "favorite_pizza_topping_BBQ Sauce               1.435536\n",
       "favorite_pizza_topping_Pesto                   1.209498\n",
       "city_B-ville                                   1.043644\n",
       "favorite_ice_cream_flavor_Cheesecake           1.017692\n",
       "favorite_ice_cream_flavor_Black Cherry         0.993514\n",
       "grade_X                                        0.857955\n",
       "favorite_pizza_topping_Black olives            0.807499\n",
       "favorite_pizza_topping_Pepperoni               0.741146\n",
       "favorite_pizza_topping_Spinach                 0.591717\n",
       "favorite_ice_cream_flavor_Chocolate            0.543884\n",
       "favorite_ice_cream_flavor_Cookies and Cream    0.541866\n",
       "favorite_pizza_topping_Chicken                 0.530680\n",
       "favorite_pizza_topping_Pineapple               0.339683\n",
       "favorite_pizza_topping_Salami                  0.322618\n",
       "favorite_ice_cream_flavor_Rocky Road           0.298858\n",
       "favorite_pizza_topping_Garlic                  0.295902\n",
       "favorite_pizza_topping_Tomato                  0.207950\n",
       "income                                         0.145976\n",
       "favorite_pizza_topping_Sausage                 0.093826\n",
       "amount                                         0.010944\n",
       "weight                                         0.005848\n",
       "kappa_ability                                  0.000051\n",
       "reaction_time                                 -0.000444\n",
       "height                                        -0.001317\n",
       "age                                           -0.011804\n",
       "apm                                           -0.041067\n",
       "gregariousness                                -0.076814\n",
       "company_Stop Inc                              -0.154404\n",
       "favorite_ice_cream_flavor_Coffee              -0.174435\n",
       "company_Pause Associates                      -0.177200\n",
       "favorite_ice_cream_flavor_Peach               -0.409685\n",
       "favorite_pizza_topping_Green peppers          -0.443008\n",
       "favorite_pizza_topping_Mushrooms              -0.463191\n",
       "favorite_ice_cream_flavor_Orange Sherbert     -0.610619\n",
       "favorite_pizza_topping_Basil                  -0.623405\n",
       "favorite_pizza_topping_Oregano                -0.656441\n",
       "favorite_pizza_topping_Ham                    -0.726031\n",
       "favorite_ice_cream_flavor_Vanilla             -0.843932\n",
       "favorite_ice_cream_flavor_Red Velvet          -0.845723\n",
       "favorite_ice_cream_flavor_Butter Pecan        -0.862990\n",
       "favorite_ice_cream_flavor_Mint                -0.891746\n",
       "favorite_ice_cream_flavor_Strawberry          -0.940003\n",
       "grade_Y                                       -1.039789\n",
       "city_A-town                                   -1.192194\n",
       "favorite_pizza_topping_Bacon                  -1.287690\n",
       "favorite_ice_cream_flavor_Neapolitan          -1.304814\n",
       "company_Go LLC                                -1.484111\n",
       "grade_Z                                       -1.633881\n",
       "city_C-borough                                -1.667165\n",
       "favorite_pizza_topping_Red peppers            -1.976004\n",
       "favorite_pizza_topping_Extra cheese           -2.216001\n",
       "dtype: float64"
      ]
     },
     "execution_count": 105,
     "metadata": {},
     "output_type": "execute_result"
    }
   ],
   "source": [
    "weights = pd.Series(model.coef_[0],index=X2.columns.values)\n",
    "weights.sort_values(ascending = False)"
   ]
  },
  {
   "cell_type": "markdown",
   "metadata": {},
   "source": [
    "## Above weights give almost same results as our analysis, The numbers showed that gradeZ people do not churn and also people from company GoLLC . However more importantly pizza toppings and ice creams are playing a very prominent role. \n",
    "\n",
    "## as for now I do not know the product of the company ,  and I have a small story to tell during the discussion how pizza toppings and ice cream preference will be affecting negatively if they are just a formal questions in the survey"
   ]
  },
  {
   "cell_type": "code",
   "execution_count": 106,
   "metadata": {},
   "outputs": [
    {
     "name": "stderr",
     "output_type": "stream",
     "text": [
      "[Parallel(n_jobs=-1)]: Using backend ThreadingBackend with 8 concurrent workers.\n",
      "[Parallel(n_jobs=-1)]: Done  34 tasks      | elapsed:    0.0s\n",
      "[Parallel(n_jobs=-1)]: Done 184 tasks      | elapsed:    0.1s\n",
      "[Parallel(n_jobs=-1)]: Done 434 tasks      | elapsed:    0.3s\n",
      "[Parallel(n_jobs=-1)]: Done 784 tasks      | elapsed:    0.5s\n",
      "[Parallel(n_jobs=-1)]: Done 1000 out of 1000 | elapsed:    0.7s finished\n",
      "[Parallel(n_jobs=8)]: Using backend ThreadingBackend with 8 concurrent workers.\n",
      "[Parallel(n_jobs=8)]: Done  34 tasks      | elapsed:    0.0s\n",
      "[Parallel(n_jobs=8)]: Done 184 tasks      | elapsed:    0.0s\n",
      "[Parallel(n_jobs=8)]: Done 434 tasks      | elapsed:    0.0s\n",
      "[Parallel(n_jobs=8)]: Done 784 tasks      | elapsed:    0.2s\n",
      "[Parallel(n_jobs=8)]: Done 1000 out of 1000 | elapsed:    0.3s finished\n",
      "[Parallel(n_jobs=8)]: Using backend ThreadingBackend with 8 concurrent workers.\n",
      "[Parallel(n_jobs=8)]: Done  34 tasks      | elapsed:    0.0s\n",
      "[Parallel(n_jobs=8)]: Done 184 tasks      | elapsed:    0.0s\n",
      "[Parallel(n_jobs=8)]: Done 434 tasks      | elapsed:    0.2s\n",
      "[Parallel(n_jobs=8)]: Done 784 tasks      | elapsed:    0.4s\n",
      "[Parallel(n_jobs=8)]: Done 1000 out of 1000 | elapsed:    0.6s finished\n"
     ]
    }
   ],
   "source": [
    "from sklearn.ensemble import RandomForestClassifier #use RandomForestRegressor for regression problem\n",
    "#Assumed you have, X (predictor) and Y (target) for training data set and x_test(predictor) of test_dataset\n",
    "# Create Random Forest object\n",
    "modelRandom2= RandomForestClassifier(n_estimators=1000,n_jobs=-1,verbose=1)\n",
    "# Train the model using the training sets and check score\n",
    "modelRandom2.fit(X2_train, y2_train)\n",
    "modelRandom2.score(X2_train, y2_train)\n",
    "#Predict Output\n",
    "predicted12= modelRandom2.predict(X2_test)"
   ]
  },
  {
   "cell_type": "code",
   "execution_count": 107,
   "metadata": {},
   "outputs": [],
   "source": [
    "modelComp2 = []\n",
    "modelComp2.append(metrics.accuracy_score(y2_test, predicted12))\n",
    "modelComp2.append(metrics.accuracy_score(y2_test, prediction_test2))"
   ]
  },
  {
   "cell_type": "code",
   "execution_count": 108,
   "metadata": {},
   "outputs": [
    {
     "name": "stdout",
     "output_type": "stream",
     "text": [
      "0.9545454545454546\n"
     ]
    }
   ],
   "source": [
    "print(metrics.accuracy_score(y2_test, predicted12))"
   ]
  },
  {
   "cell_type": "code",
   "execution_count": 109,
   "metadata": {},
   "outputs": [
    {
     "name": "stdout",
     "output_type": "stream",
     "text": [
      "      Iter       Train Loss   Remaining Time \n",
      "         1           0.6039            0.10s\n",
      "         2           0.3379            0.06s\n",
      "         3           0.2884            0.06s\n",
      "         4           0.2562            0.05s\n",
      "         5           0.2215            0.06s\n",
      "         6           0.2043            0.06s\n",
      "         7           0.1940            0.05s\n",
      "         8           0.1733            0.06s\n",
      "         9           0.1599            0.06s\n",
      "        10           0.1610            0.05s\n",
      "        20           0.0838            0.04s\n",
      "        30           0.0423            0.04s\n",
      "        40           0.0241            0.03s\n",
      "        50           0.0165            0.02s\n",
      "        60           0.0130            0.02s\n",
      "        70           0.0095            0.01s\n",
      "        80           0.0071            0.01s\n",
      "        90           0.0052            0.00s\n",
      "       100           0.0039            0.00s\n"
     ]
    },
    {
     "data": {
      "text/plain": [
       "GradientBoostingClassifier(criterion='friedman_mse', init=None,\n",
       "              learning_rate=1.0, loss='deviance', max_depth=1,\n",
       "              max_features=None, max_leaf_nodes=None,\n",
       "              min_impurity_decrease=0.0, min_impurity_split=None,\n",
       "              min_samples_leaf=1, min_samples_split=2,\n",
       "              min_weight_fraction_leaf=0.0, n_estimators=100,\n",
       "              n_iter_no_change=None, presort='auto', random_state=None,\n",
       "              subsample=1.0, tol=0.0001, validation_fraction=0.1,\n",
       "              verbose=1, warm_start=False)"
      ]
     },
     "execution_count": 109,
     "metadata": {},
     "output_type": "execute_result"
    }
   ],
   "source": [
    "from sklearn.ensemble import GradientBoostingClassifier\n",
    "modelGB2 = GradientBoostingClassifier(n_estimators=100, learning_rate=1.0, max_depth=1,verbose=1)\n",
    "modelGB2.fit(X2_train, y2_train)"
   ]
  },
  {
   "cell_type": "code",
   "execution_count": 110,
   "metadata": {},
   "outputs": [],
   "source": [
    "predicted22 = modelGB2.predict(X2_test)"
   ]
  },
  {
   "cell_type": "code",
   "execution_count": 111,
   "metadata": {},
   "outputs": [
    {
     "name": "stdout",
     "output_type": "stream",
     "text": [
      "0.948051948051948\n",
      "              precision    recall  f1-score   support\n",
      "\n",
      "           0       0.95      0.97      0.96        97\n",
      "           1       0.95      0.91      0.93        57\n",
      "\n",
      "   micro avg       0.95      0.95      0.95       154\n",
      "   macro avg       0.95      0.94      0.94       154\n",
      "weighted avg       0.95      0.95      0.95       154\n",
      "\n"
     ]
    }
   ],
   "source": [
    "modelComp2.append(metrics.accuracy_score(y2_test, predicted22))\n",
    "print(metrics.accuracy_score(y2_test, predicted22))\n",
    "print(classification_report(y2_test,predicted22))"
   ]
  },
  {
   "cell_type": "code",
   "execution_count": 112,
   "metadata": {},
   "outputs": [],
   "source": [
    "from sklearn.svm import SVC"
   ]
  },
  {
   "cell_type": "code",
   "execution_count": 113,
   "metadata": {},
   "outputs": [],
   "source": [
    "modelSVC2 = SVC(kernel='linear',verbose = True)"
   ]
  },
  {
   "cell_type": "code",
   "execution_count": 114,
   "metadata": {},
   "outputs": [
    {
     "name": "stdout",
     "output_type": "stream",
     "text": [
      "[LibSVM]"
     ]
    },
    {
     "data": {
      "text/plain": [
       "SVC(C=1.0, cache_size=200, class_weight=None, coef0=0.0,\n",
       "  decision_function_shape='ovr', degree=3, gamma='auto_deprecated',\n",
       "  kernel='linear', max_iter=-1, probability=False, random_state=None,\n",
       "  shrinking=True, tol=0.001, verbose=True)"
      ]
     },
     "execution_count": 114,
     "metadata": {},
     "output_type": "execute_result"
    }
   ],
   "source": [
    "modelSVC2.fit(X2_train, y2_train)"
   ]
  },
  {
   "cell_type": "code",
   "execution_count": 115,
   "metadata": {},
   "outputs": [],
   "source": [
    "predicted32 = modelSVC2.predict(X2_test)\n"
   ]
  },
  {
   "cell_type": "code",
   "execution_count": 116,
   "metadata": {},
   "outputs": [
    {
     "name": "stdout",
     "output_type": "stream",
     "text": [
      "0.9090909090909091\n",
      "              precision    recall  f1-score   support\n",
      "\n",
      "           0       0.98      0.88      0.92        97\n",
      "           1       0.82      0.96      0.89        57\n",
      "\n",
      "   micro avg       0.91      0.91      0.91       154\n",
      "   macro avg       0.90      0.92      0.91       154\n",
      "weighted avg       0.92      0.91      0.91       154\n",
      "\n"
     ]
    }
   ],
   "source": [
    "modelComp2.append(metrics.accuracy_score(y2_test, predicted32))\n",
    "print(metrics.accuracy_score(y2_test,predicted32))\n",
    "print(classification_report(y2_test,predicted32))"
   ]
  },
  {
   "cell_type": "code",
   "execution_count": 117,
   "metadata": {},
   "outputs": [],
   "source": [
    " re2 = np.reshape(modelComp2,(1,4))"
   ]
  },
  {
   "cell_type": "code",
   "execution_count": 118,
   "metadata": {},
   "outputs": [],
   "source": [
    "modelCompare2 = pd.DataFrame(data = re2, columns = ['RandomForest', 'LogisticRegression', 'GradientBoosting', 'SVM'])"
   ]
  },
  {
   "cell_type": "code",
   "execution_count": 119,
   "metadata": {},
   "outputs": [
    {
     "data": {
      "image/png": "[encoded data removed]",
      "text/plain": [
       "<Figure size 1080x720 with 1 Axes>"
      ]
     },
     "metadata": {
      "needs_background": "light"
     },
     "output_type": "display_data"
    }
   ],
   "source": [
    "ax = modelCompare2.plot(kind='bar', figsize=(15,10), fontsize=13);\n",
    "ax.set_alpha(0.8)\n",
    "ax.set_title(\"Model Comparison\", fontsize=18)\n",
    "ax.set_ylabel(\"percentage\", fontsize=18);\n",
    "ax.legend(fontsize = 13)\n",
    "ax.xticks = ['1','2','3','4']\n",
    "\n",
    "\n",
    "# create a list to collect the plt.patches data\n",
    "totals = []\n",
    "\n",
    "# find the values and append to list\n",
    "for i in ax.patches:\n",
    "    totals.append(i.get_height())\n",
    "\n",
    "# set individual bar lables using above list\n",
    "#total = sum(totals)\n",
    "\n",
    "# set individual bar lables using above list\n",
    "for i in ax.patches:\n",
    "    # get_x pulls left or right; get_height pushes up or down\n",
    "    ax.text(i.get_x()+.01, i.get_height()+.01, \\\n",
    "            str(round((i.get_height())*100, 2))+'%', fontsize=15,\n",
    "                color='black')"
   ]
  },
  {
   "cell_type": "markdown",
   "metadata": {},
   "source": [
    "## We can clearly see that model accuracy of Logistic regression and SVM has increased significantly after one hot encoding. Before going for fine tuning of model, lets consider the other table which includes Activity of the user and see what we can do"
   ]
  },
  {
   "cell_type": "code",
   "execution_count": null,
   "metadata": {},
   "outputs": [],
   "source": []
  },
  {
   "cell_type": "code",
   "execution_count": null,
   "metadata": {},
   "outputs": [],
   "source": []
  },
  {
   "cell_type": "code",
   "execution_count": null,
   "metadata": {},
   "outputs": [],
   "source": []
  },
  {
   "cell_type": "code",
   "execution_count": 120,
   "metadata": {},
   "outputs": [],
   "source": [
    "df_activity = pd.read_csv(\"activity_record.csv\")"
   ]
  },
  {
   "cell_type": "code",
   "execution_count": 121,
   "metadata": {},
   "outputs": [
    {
     "data": {
      "text/html": [
       "<div>\n",
       "<style scoped>\n",
       "    .dataframe tbody tr th:only-of-type {\n",
       "        vertical-align: middle;\n",
       "    }\n",
       "\n",
       "    .dataframe tbody tr th {\n",
       "        vertical-align: top;\n",
       "    }\n",
       "\n",
       "    .dataframe thead th {\n",
       "        text-align: right;\n",
       "    }\n",
       "</style>\n",
       "<table border=\"1\" class=\"dataframe\">\n",
       "  <thead>\n",
       "    <tr style=\"text-align: right;\">\n",
       "      <th></th>\n",
       "      <th>user_id</th>\n",
       "      <th>event</th>\n",
       "      <th>timestamp</th>\n",
       "    </tr>\n",
       "  </thead>\n",
       "  <tbody>\n",
       "    <tr>\n",
       "      <th>0</th>\n",
       "      <td>79005</td>\n",
       "      <td>product_visit</td>\n",
       "      <td>2015-02-14 14:45:11.000000000</td>\n",
       "    </tr>\n",
       "    <tr>\n",
       "      <th>1</th>\n",
       "      <td>78397</td>\n",
       "      <td>account_verified</td>\n",
       "      <td>2015-02-02 08:32:11.000000000</td>\n",
       "    </tr>\n",
       "    <tr>\n",
       "      <th>2</th>\n",
       "      <td>78710</td>\n",
       "      <td>account_verified</td>\n",
       "      <td>2015-01-28 12:04:09.000000000</td>\n",
       "    </tr>\n",
       "    <tr>\n",
       "      <th>3</th>\n",
       "      <td>78312</td>\n",
       "      <td>signup</td>\n",
       "      <td>2015-01-13 15:53:40.000000000</td>\n",
       "    </tr>\n",
       "    <tr>\n",
       "      <th>4</th>\n",
       "      <td>78776</td>\n",
       "      <td>product_visit</td>\n",
       "      <td>2015-01-20 08:17:59.000000000</td>\n",
       "    </tr>\n",
       "  </tbody>\n",
       "</table>\n",
       "</div>"
      ],
      "text/plain": [
       "   user_id             event                      timestamp\n",
       "0    79005     product_visit  2015-02-14 14:45:11.000000000\n",
       "1    78397  account_verified  2015-02-02 08:32:11.000000000\n",
       "2    78710  account_verified  2015-01-28 12:04:09.000000000\n",
       "3    78312            signup  2015-01-13 15:53:40.000000000\n",
       "4    78776     product_visit  2015-01-20 08:17:59.000000000"
      ]
     },
     "execution_count": 121,
     "metadata": {},
     "output_type": "execute_result"
    }
   ],
   "source": [
    "df_activity.head()"
   ]
  },
  {
   "cell_type": "code",
   "execution_count": 122,
   "metadata": {},
   "outputs": [],
   "source": [
    "df_activity.sort_values(by = ['user_id','timestamp'], inplace = True)\n",
    "\n",
    "## Lets sort the user_id and time stamp for integration with the other table"
   ]
  },
  {
   "cell_type": "code",
   "execution_count": 123,
   "metadata": {},
   "outputs": [],
   "source": [
    "from datetime import datetime\n",
    " \n",
    "year = lambda x: x \n",
    "df_activity['timestamp'] = df_activity['timestamp'].apply(lambda x:x[:-9])\n",
    "\n",
    "#Lets take out some 0's from the end of seconds value"
   ]
  },
  {
   "cell_type": "code",
   "execution_count": 124,
   "metadata": {},
   "outputs": [],
   "source": [
    "time = pd.to_datetime(df_activity['timestamp'],infer_datetime_format=True)\n",
    "df_activity['time'] = time"
   ]
  },
  {
   "cell_type": "code",
   "execution_count": 125,
   "metadata": {},
   "outputs": [
    {
     "data": {
      "text/html": [
       "<div>\n",
       "<style scoped>\n",
       "    .dataframe tbody tr th:only-of-type {\n",
       "        vertical-align: middle;\n",
       "    }\n",
       "\n",
       "    .dataframe tbody tr th {\n",
       "        vertical-align: top;\n",
       "    }\n",
       "\n",
       "    .dataframe thead th {\n",
       "        text-align: right;\n",
       "    }\n",
       "</style>\n",
       "<table border=\"1\" class=\"dataframe\">\n",
       "  <thead>\n",
       "    <tr style=\"text-align: right;\">\n",
       "      <th></th>\n",
       "      <th>user_id</th>\n",
       "      <th>event</th>\n",
       "      <th>timestamp</th>\n",
       "      <th>time</th>\n",
       "    </tr>\n",
       "  </thead>\n",
       "  <tbody>\n",
       "    <tr>\n",
       "      <th>327</th>\n",
       "      <td>78268</td>\n",
       "      <td>signup</td>\n",
       "      <td>2015-01-04 12:55:11.</td>\n",
       "      <td>2015-01-04 12:55:11</td>\n",
       "    </tr>\n",
       "    <tr>\n",
       "      <th>1726</th>\n",
       "      <td>78268</td>\n",
       "      <td>account_verified</td>\n",
       "      <td>2015-01-07 02:10:10.</td>\n",
       "      <td>2015-01-07 02:10:10</td>\n",
       "    </tr>\n",
       "    <tr>\n",
       "      <th>4894</th>\n",
       "      <td>78268</td>\n",
       "      <td>product_visit</td>\n",
       "      <td>2015-01-10 19:01:06.</td>\n",
       "      <td>2015-01-10 19:01:06</td>\n",
       "    </tr>\n",
       "    <tr>\n",
       "      <th>4875</th>\n",
       "      <td>78268</td>\n",
       "      <td>product_visit</td>\n",
       "      <td>2015-01-25 20:42:14.</td>\n",
       "      <td>2015-01-25 20:42:14</td>\n",
       "    </tr>\n",
       "    <tr>\n",
       "      <th>5055</th>\n",
       "      <td>78268</td>\n",
       "      <td>product_use</td>\n",
       "      <td>2015-01-25 21:19:27.</td>\n",
       "      <td>2015-01-25 21:19:27</td>\n",
       "    </tr>\n",
       "    <tr>\n",
       "      <th>2069</th>\n",
       "      <td>78269</td>\n",
       "      <td>signup</td>\n",
       "      <td>2015-01-18 04:20:05.</td>\n",
       "      <td>2015-01-18 04:20:05</td>\n",
       "    </tr>\n",
       "    <tr>\n",
       "      <th>238</th>\n",
       "      <td>78269</td>\n",
       "      <td>account_verified</td>\n",
       "      <td>2015-01-20 14:39:11.</td>\n",
       "      <td>2015-01-20 14:39:11</td>\n",
       "    </tr>\n",
       "    <tr>\n",
       "      <th>2459</th>\n",
       "      <td>78269</td>\n",
       "      <td>product_visit</td>\n",
       "      <td>2015-02-05 19:39:01.</td>\n",
       "      <td>2015-02-05 19:39:01</td>\n",
       "    </tr>\n",
       "    <tr>\n",
       "      <th>2389</th>\n",
       "      <td>78269</td>\n",
       "      <td>product_visit</td>\n",
       "      <td>2015-02-08 17:36:49.</td>\n",
       "      <td>2015-02-08 17:36:49</td>\n",
       "    </tr>\n",
       "    <tr>\n",
       "      <th>1462</th>\n",
       "      <td>78269</td>\n",
       "      <td>product_visit</td>\n",
       "      <td>2015-02-24 02:36:03.</td>\n",
       "      <td>2015-02-24 02:36:03</td>\n",
       "    </tr>\n",
       "    <tr>\n",
       "      <th>3024</th>\n",
       "      <td>78270</td>\n",
       "      <td>signup</td>\n",
       "      <td>2015-01-26 15:18:24.</td>\n",
       "      <td>2015-01-26 15:18:24</td>\n",
       "    </tr>\n",
       "    <tr>\n",
       "      <th>5006</th>\n",
       "      <td>78270</td>\n",
       "      <td>account_verified</td>\n",
       "      <td>2015-01-26 15:20:21.</td>\n",
       "      <td>2015-01-26 15:20:21</td>\n",
       "    </tr>\n",
       "  </tbody>\n",
       "</table>\n",
       "</div>"
      ],
      "text/plain": [
       "      user_id             event             timestamp                time\n",
       "327     78268            signup  2015-01-04 12:55:11. 2015-01-04 12:55:11\n",
       "1726    78268  account_verified  2015-01-07 02:10:10. 2015-01-07 02:10:10\n",
       "4894    78268     product_visit  2015-01-10 19:01:06. 2015-01-10 19:01:06\n",
       "4875    78268     product_visit  2015-01-25 20:42:14. 2015-01-25 20:42:14\n",
       "5055    78268       product_use  2015-01-25 21:19:27. 2015-01-25 21:19:27\n",
       "2069    78269            signup  2015-01-18 04:20:05. 2015-01-18 04:20:05\n",
       "238     78269  account_verified  2015-01-20 14:39:11. 2015-01-20 14:39:11\n",
       "2459    78269     product_visit  2015-02-05 19:39:01. 2015-02-05 19:39:01\n",
       "2389    78269     product_visit  2015-02-08 17:36:49. 2015-02-08 17:36:49\n",
       "1462    78269     product_visit  2015-02-24 02:36:03. 2015-02-24 02:36:03\n",
       "3024    78270            signup  2015-01-26 15:18:24. 2015-01-26 15:18:24\n",
       "5006    78270  account_verified  2015-01-26 15:20:21. 2015-01-26 15:20:21"
      ]
     },
     "execution_count": 125,
     "metadata": {},
     "output_type": "execute_result"
    }
   ],
   "source": [
    "df_activity.head(12)"
   ]
  },
  {
   "cell_type": "markdown",
   "metadata": {},
   "source": [
    "## To be honest I don't see what i can do from this data, I came up with an approach of getting the number of days taken by the user to visit the product from sign up and time taken to use the product from sign up lets see if that makes any difference"
   ]
  },
  {
   "cell_type": "code",
   "execution_count": 126,
   "metadata": {},
   "outputs": [],
   "source": [
    "ids = df_user.index.values.tolist()"
   ]
  },
  {
   "cell_type": "code",
   "execution_count": 127,
   "metadata": {},
   "outputs": [],
   "source": [
    "#df_times = pd.DataFrame(newtime, index=ids, columns=['signupToPV'])"
   ]
  },
  {
   "cell_type": "code",
   "execution_count": null,
   "metadata": {},
   "outputs": [],
   "source": []
  },
  {
   "cell_type": "code",
   "execution_count": 128,
   "metadata": {},
   "outputs": [],
   "source": [
    "# Converting the timedata to string for product Use\n",
    " \n",
    "times1 = []\n",
    "for i in ids:\n",
    "    #print(i)\n",
    "    if len(df_activity[(df_activity.user_id == i) & (df_activity.event == 'product_use')]['time']) >= 1:\n",
    "        times1.append(abs((df_activity[(df_activity.user_id == i) & (df_activity.event == 'signup')]['time']).values - (df_activity[(df_activity.user_id == i) & (df_activity.event == 'product_use')]['time'])[:1]))\n",
    "    else:\n",
    "        times1.append(int(-1))\n",
    "    "
   ]
  },
  {
   "cell_type": "code",
   "execution_count": 129,
   "metadata": {},
   "outputs": [],
   "source": [
    "## Only taking number of days difference until using the product and considering -1 if not used\n",
    "\n",
    "newtime = []\n",
    "for j in range(len(times1)):\n",
    "    #print(j)\n",
    "    if len(str(times1[j])) == 2:\n",
    "        newtime.append(int(-1))\n",
    "    elif len(str(times1[j])) == 56:\n",
    "        newtime.append(int(str(times1[j])[4:7]))\n",
    "    else:\n",
    "        newtime.append(int(str(times1[j])[7:9]))"
   ]
  },
  {
   "cell_type": "code",
   "execution_count": 130,
   "metadata": {},
   "outputs": [],
   "source": [
    "df_times = pd.DataFrame(newtime, index=ids, columns=['signupToPV'])"
   ]
  },
  {
   "cell_type": "code",
   "execution_count": 131,
   "metadata": {},
   "outputs": [],
   "source": [
    "df_times['signup-PU_Days'] = newtime"
   ]
  },
  {
   "cell_type": "code",
   "execution_count": 132,
   "metadata": {},
   "outputs": [],
   "source": [
    "## Converting the timedata to string for product Visit\n",
    "times1 = []\n",
    "for i in ids:\n",
    "    times1.append(abs((df_activity[(df_activity.user_id == i) & (df_activity.event == 'signup')]['time']).values - (df_activity[(df_activity.user_id == i) & (df_activity.event == 'product_visit')]['time'])[:1]))\n",
    "    "
   ]
  },
  {
   "cell_type": "code",
   "execution_count": null,
   "metadata": {},
   "outputs": [],
   "source": []
  },
  {
   "cell_type": "code",
   "execution_count": 133,
   "metadata": {},
   "outputs": [],
   "source": [
    "# Only taking number of days difference and considering 0 if no difference\n",
    "newtime = []\n",
    "for j in range(len(times1)):\n",
    "    #print(j)\n",
    "    if len(str(times1[j])) == 50:\n",
    "        newtime.append(int(0))\n",
    "    elif len(str(times1[j])) == 55:\n",
    "        newtime.append(int(str(times1[j])[5:7]))\n",
    "    elif len(str(times1[j])) == 56:\n",
    "        newtime.append(int(str(times1[j])[4:7]))\n",
    "    elif len(str(times1[j])) == 54:\n",
    "        newtime.append(int(str(times1[j])[4:6]))\n",
    "    elif len(str(times1[j])) == 48 or len(str(times1[j])) == 49:\n",
    "        newtime.append(int(str(times1[j])[:3]))\n",
    "    else:\n",
    "        newtime.append(int(str(times1[j])[7:9]))\n",
    "    "
   ]
  },
  {
   "cell_type": "code",
   "execution_count": 134,
   "metadata": {},
   "outputs": [],
   "source": [
    "df_times['signup-PV_Days'] = newtime"
   ]
  },
  {
   "cell_type": "code",
   "execution_count": 135,
   "metadata": {},
   "outputs": [
    {
     "data": {
      "text/html": [
       "<div>\n",
       "<style scoped>\n",
       "    .dataframe tbody tr th:only-of-type {\n",
       "        vertical-align: middle;\n",
       "    }\n",
       "\n",
       "    .dataframe tbody tr th {\n",
       "        vertical-align: top;\n",
       "    }\n",
       "\n",
       "    .dataframe thead th {\n",
       "        text-align: right;\n",
       "    }\n",
       "</style>\n",
       "<table border=\"1\" class=\"dataframe\">\n",
       "  <thead>\n",
       "    <tr style=\"text-align: right;\">\n",
       "      <th></th>\n",
       "      <th>signupToPV</th>\n",
       "      <th>signup-PU_Days</th>\n",
       "      <th>signup-PV_Days</th>\n",
       "    </tr>\n",
       "  </thead>\n",
       "  <tbody>\n",
       "    <tr>\n",
       "      <th>78268</th>\n",
       "      <td>21</td>\n",
       "      <td>21</td>\n",
       "      <td>6</td>\n",
       "    </tr>\n",
       "    <tr>\n",
       "      <th>78269</th>\n",
       "      <td>-1</td>\n",
       "      <td>-1</td>\n",
       "      <td>18</td>\n",
       "    </tr>\n",
       "    <tr>\n",
       "      <th>78271</th>\n",
       "      <td>33</td>\n",
       "      <td>33</td>\n",
       "      <td>1</td>\n",
       "    </tr>\n",
       "    <tr>\n",
       "      <th>78272</th>\n",
       "      <td>-1</td>\n",
       "      <td>-1</td>\n",
       "      <td>13</td>\n",
       "    </tr>\n",
       "    <tr>\n",
       "      <th>78274</th>\n",
       "      <td>59</td>\n",
       "      <td>59</td>\n",
       "      <td>9</td>\n",
       "    </tr>\n",
       "    <tr>\n",
       "      <th>78275</th>\n",
       "      <td>11</td>\n",
       "      <td>11</td>\n",
       "      <td>5</td>\n",
       "    </tr>\n",
       "    <tr>\n",
       "      <th>78277</th>\n",
       "      <td>16</td>\n",
       "      <td>16</td>\n",
       "      <td>8</td>\n",
       "    </tr>\n",
       "    <tr>\n",
       "      <th>78278</th>\n",
       "      <td>1</td>\n",
       "      <td>1</td>\n",
       "      <td>60</td>\n",
       "    </tr>\n",
       "  </tbody>\n",
       "</table>\n",
       "</div>"
      ],
      "text/plain": [
       "       signupToPV  signup-PU_Days  signup-PV_Days\n",
       "78268          21              21               6\n",
       "78269          -1              -1              18\n",
       "78271          33              33               1\n",
       "78272          -1              -1              13\n",
       "78274          59              59               9\n",
       "78275          11              11               5\n",
       "78277          16              16               8\n",
       "78278           1               1              60"
      ]
     },
     "execution_count": 135,
     "metadata": {},
     "output_type": "execute_result"
    }
   ],
   "source": [
    "df_times.head(8)"
   ]
  },
  {
   "cell_type": "code",
   "execution_count": 136,
   "metadata": {},
   "outputs": [],
   "source": [
    "#df_times.to_csv('outTimesStart.csv')"
   ]
  },
  {
   "cell_type": "code",
   "execution_count": 137,
   "metadata": {},
   "outputs": [],
   "source": [
    "df_activityTime = df_times"
   ]
  },
  {
   "cell_type": "code",
   "execution_count": 138,
   "metadata": {},
   "outputs": [],
   "source": [
    "#df_activityTime.drop(['signup-PU_Days','signup-PV_Days'],axis = 1, inplace=True)"
   ]
  },
  {
   "cell_type": "code",
   "execution_count": 139,
   "metadata": {},
   "outputs": [],
   "source": [
    "df_activityTime['days_To_ProductUse'] = df_times['signup-PU_Days']\n",
    "df_activityTime['days_To_ProductVisit'] = df_times['signup-PV_Days']"
   ]
  },
  {
   "cell_type": "code",
   "execution_count": 140,
   "metadata": {},
   "outputs": [],
   "source": [
    "df_activityTime.drop(['signup-PU_Days','signup-PV_Days', 'signupToPV'],axis = 1, inplace=True)"
   ]
  },
  {
   "cell_type": "code",
   "execution_count": 141,
   "metadata": {},
   "outputs": [
    {
     "data": {
      "text/html": [
       "<div>\n",
       "<style scoped>\n",
       "    .dataframe tbody tr th:only-of-type {\n",
       "        vertical-align: middle;\n",
       "    }\n",
       "\n",
       "    .dataframe tbody tr th {\n",
       "        vertical-align: top;\n",
       "    }\n",
       "\n",
       "    .dataframe thead th {\n",
       "        text-align: right;\n",
       "    }\n",
       "</style>\n",
       "<table border=\"1\" class=\"dataframe\">\n",
       "  <thead>\n",
       "    <tr style=\"text-align: right;\">\n",
       "      <th></th>\n",
       "      <th>days_To_ProductUse</th>\n",
       "      <th>days_To_ProductVisit</th>\n",
       "    </tr>\n",
       "  </thead>\n",
       "  <tbody>\n",
       "    <tr>\n",
       "      <th>78268</th>\n",
       "      <td>21</td>\n",
       "      <td>6</td>\n",
       "    </tr>\n",
       "    <tr>\n",
       "      <th>78269</th>\n",
       "      <td>-1</td>\n",
       "      <td>18</td>\n",
       "    </tr>\n",
       "    <tr>\n",
       "      <th>78271</th>\n",
       "      <td>33</td>\n",
       "      <td>1</td>\n",
       "    </tr>\n",
       "    <tr>\n",
       "      <th>78272</th>\n",
       "      <td>-1</td>\n",
       "      <td>13</td>\n",
       "    </tr>\n",
       "    <tr>\n",
       "      <th>78274</th>\n",
       "      <td>59</td>\n",
       "      <td>9</td>\n",
       "    </tr>\n",
       "    <tr>\n",
       "      <th>78275</th>\n",
       "      <td>11</td>\n",
       "      <td>5</td>\n",
       "    </tr>\n",
       "    <tr>\n",
       "      <th>78277</th>\n",
       "      <td>16</td>\n",
       "      <td>8</td>\n",
       "    </tr>\n",
       "    <tr>\n",
       "      <th>78278</th>\n",
       "      <td>1</td>\n",
       "      <td>60</td>\n",
       "    </tr>\n",
       "    <tr>\n",
       "      <th>78279</th>\n",
       "      <td>-1</td>\n",
       "      <td>3</td>\n",
       "    </tr>\n",
       "    <tr>\n",
       "      <th>78281</th>\n",
       "      <td>-1</td>\n",
       "      <td>13</td>\n",
       "    </tr>\n",
       "  </tbody>\n",
       "</table>\n",
       "</div>"
      ],
      "text/plain": [
       "       days_To_ProductUse  days_To_ProductVisit\n",
       "78268                  21                     6\n",
       "78269                  -1                    18\n",
       "78271                  33                     1\n",
       "78272                  -1                    13\n",
       "78274                  59                     9\n",
       "78275                  11                     5\n",
       "78277                  16                     8\n",
       "78278                   1                    60\n",
       "78279                  -1                     3\n",
       "78281                  -1                    13"
      ]
     },
     "execution_count": 141,
     "metadata": {},
     "output_type": "execute_result"
    }
   ],
   "source": [
    "df_activityTime.to_csv(\"Finalref.csv\")\n",
    "df_activityTime.head(10)"
   ]
  },
  {
   "cell_type": "markdown",
   "metadata": {},
   "source": [
    "## Lets put these columns in our df_user2 dataset and do some analysis"
   ]
  },
  {
   "cell_type": "code",
   "execution_count": 142,
   "metadata": {},
   "outputs": [],
   "source": [
    "df_user2['days_To_ProductUse'] = df_activityTime['days_To_ProductUse']\n",
    "df_user2['days_To_ProductVisit'] = df_activityTime['days_To_ProductVisit']\n"
   ]
  },
  {
   "cell_type": "code",
   "execution_count": 143,
   "metadata": {},
   "outputs": [],
   "source": [
    "#df_user2.drop('Visit_To_Use',axis=1,inplace=True)"
   ]
  },
  {
   "cell_type": "code",
   "execution_count": 144,
   "metadata": {},
   "outputs": [],
   "source": [
    "df_user2.to_csv(\"OutFinal.csv\")\n"
   ]
  },
  {
   "cell_type": "code",
   "execution_count": 145,
   "metadata": {},
   "outputs": [],
   "source": [
    "df_user2['churn'] = y.values\n",
    "df_user['churn'] = y.values"
   ]
  },
  {
   "cell_type": "code",
   "execution_count": 146,
   "metadata": {},
   "outputs": [
    {
     "data": {
      "text/html": [
       "<div>\n",
       "<style scoped>\n",
       "    .dataframe tbody tr th:only-of-type {\n",
       "        vertical-align: middle;\n",
       "    }\n",
       "\n",
       "    .dataframe tbody tr th {\n",
       "        vertical-align: top;\n",
       "    }\n",
       "\n",
       "    .dataframe thead th {\n",
       "        text-align: right;\n",
       "    }\n",
       "</style>\n",
       "<table border=\"1\" class=\"dataframe\">\n",
       "  <thead>\n",
       "    <tr style=\"text-align: right;\">\n",
       "      <th></th>\n",
       "      <th>apm</th>\n",
       "      <th>income</th>\n",
       "      <th>height</th>\n",
       "      <th>reaction_time</th>\n",
       "      <th>age</th>\n",
       "      <th>kappa_ability</th>\n",
       "      <th>weight</th>\n",
       "      <th>amount</th>\n",
       "      <th>gregariousness</th>\n",
       "      <th>favorite_pizza_topping_BBQ Sauce</th>\n",
       "      <th>...</th>\n",
       "      <th>favorite_ice_cream_flavor_Orange Sherbert</th>\n",
       "      <th>favorite_ice_cream_flavor_Peach</th>\n",
       "      <th>favorite_ice_cream_flavor_Pistachio</th>\n",
       "      <th>favorite_ice_cream_flavor_Red Velvet</th>\n",
       "      <th>favorite_ice_cream_flavor_Rocky Road</th>\n",
       "      <th>favorite_ice_cream_flavor_Strawberry</th>\n",
       "      <th>favorite_ice_cream_flavor_Vanilla</th>\n",
       "      <th>days_To_ProductUse</th>\n",
       "      <th>days_To_ProductVisit</th>\n",
       "      <th>churn</th>\n",
       "    </tr>\n",
       "    <tr>\n",
       "      <th>user_id</th>\n",
       "      <th></th>\n",
       "      <th></th>\n",
       "      <th></th>\n",
       "      <th></th>\n",
       "      <th></th>\n",
       "      <th></th>\n",
       "      <th></th>\n",
       "      <th></th>\n",
       "      <th></th>\n",
       "      <th></th>\n",
       "      <th></th>\n",
       "      <th></th>\n",
       "      <th></th>\n",
       "      <th></th>\n",
       "      <th></th>\n",
       "      <th></th>\n",
       "      <th></th>\n",
       "      <th></th>\n",
       "      <th></th>\n",
       "      <th></th>\n",
       "      <th></th>\n",
       "    </tr>\n",
       "  </thead>\n",
       "  <tbody>\n",
       "    <tr>\n",
       "      <th>78268</th>\n",
       "      <td>171</td>\n",
       "      <td>104</td>\n",
       "      <td>177</td>\n",
       "      <td>295</td>\n",
       "      <td>52</td>\n",
       "      <td>3363</td>\n",
       "      <td>144</td>\n",
       "      <td>19</td>\n",
       "      <td>57</td>\n",
       "      <td>0</td>\n",
       "      <td>...</td>\n",
       "      <td>0</td>\n",
       "      <td>0</td>\n",
       "      <td>0</td>\n",
       "      <td>0</td>\n",
       "      <td>0</td>\n",
       "      <td>0</td>\n",
       "      <td>0</td>\n",
       "      <td>21</td>\n",
       "      <td>6</td>\n",
       "      <td>0</td>\n",
       "    </tr>\n",
       "    <tr>\n",
       "      <th>78269</th>\n",
       "      <td>218</td>\n",
       "      <td>96</td>\n",
       "      <td>178</td>\n",
       "      <td>305</td>\n",
       "      <td>33</td>\n",
       "      <td>1720</td>\n",
       "      <td>147</td>\n",
       "      <td>57</td>\n",
       "      <td>48</td>\n",
       "      <td>0</td>\n",
       "      <td>...</td>\n",
       "      <td>0</td>\n",
       "      <td>0</td>\n",
       "      <td>1</td>\n",
       "      <td>0</td>\n",
       "      <td>0</td>\n",
       "      <td>0</td>\n",
       "      <td>0</td>\n",
       "      <td>-1</td>\n",
       "      <td>18</td>\n",
       "      <td>0</td>\n",
       "    </tr>\n",
       "    <tr>\n",
       "      <th>78271</th>\n",
       "      <td>184</td>\n",
       "      <td>101</td>\n",
       "      <td>185</td>\n",
       "      <td>295</td>\n",
       "      <td>44</td>\n",
       "      <td>920</td>\n",
       "      <td>153</td>\n",
       "      <td>79</td>\n",
       "      <td>52</td>\n",
       "      <td>0</td>\n",
       "      <td>...</td>\n",
       "      <td>0</td>\n",
       "      <td>0</td>\n",
       "      <td>0</td>\n",
       "      <td>0</td>\n",
       "      <td>0</td>\n",
       "      <td>0</td>\n",
       "      <td>0</td>\n",
       "      <td>33</td>\n",
       "      <td>1</td>\n",
       "      <td>0</td>\n",
       "    </tr>\n",
       "    <tr>\n",
       "      <th>78272</th>\n",
       "      <td>210</td>\n",
       "      <td>100</td>\n",
       "      <td>180</td>\n",
       "      <td>311</td>\n",
       "      <td>34</td>\n",
       "      <td>1453</td>\n",
       "      <td>154</td>\n",
       "      <td>29</td>\n",
       "      <td>56</td>\n",
       "      <td>0</td>\n",
       "      <td>...</td>\n",
       "      <td>0</td>\n",
       "      <td>0</td>\n",
       "      <td>0</td>\n",
       "      <td>0</td>\n",
       "      <td>0</td>\n",
       "      <td>0</td>\n",
       "      <td>0</td>\n",
       "      <td>-1</td>\n",
       "      <td>13</td>\n",
       "      <td>0</td>\n",
       "    </tr>\n",
       "    <tr>\n",
       "      <th>78274</th>\n",
       "      <td>223</td>\n",
       "      <td>111</td>\n",
       "      <td>181</td>\n",
       "      <td>287</td>\n",
       "      <td>41</td>\n",
       "      <td>2219</td>\n",
       "      <td>159</td>\n",
       "      <td>2</td>\n",
       "      <td>47</td>\n",
       "      <td>0</td>\n",
       "      <td>...</td>\n",
       "      <td>0</td>\n",
       "      <td>0</td>\n",
       "      <td>0</td>\n",
       "      <td>0</td>\n",
       "      <td>0</td>\n",
       "      <td>0</td>\n",
       "      <td>0</td>\n",
       "      <td>59</td>\n",
       "      <td>9</td>\n",
       "      <td>1</td>\n",
       "    </tr>\n",
       "  </tbody>\n",
       "</table>\n",
       "<p>5 rows × 55 columns</p>\n",
       "</div>"
      ],
      "text/plain": [
       "         apm  income  height  reaction_time  age  kappa_ability  weight  \\\n",
       "user_id                                                                   \n",
       "78268    171     104     177            295   52           3363     144   \n",
       "78269    218      96     178            305   33           1720     147   \n",
       "78271    184     101     185            295   44            920     153   \n",
       "78272    210     100     180            311   34           1453     154   \n",
       "78274    223     111     181            287   41           2219     159   \n",
       "\n",
       "         amount  gregariousness  favorite_pizza_topping_BBQ Sauce  ...    \\\n",
       "user_id                                                            ...     \n",
       "78268        19              57                                 0  ...     \n",
       "78269        57              48                                 0  ...     \n",
       "78271        79              52                                 0  ...     \n",
       "78272        29              56                                 0  ...     \n",
       "78274         2              47                                 0  ...     \n",
       "\n",
       "         favorite_ice_cream_flavor_Orange Sherbert  \\\n",
       "user_id                                              \n",
       "78268                                            0   \n",
       "78269                                            0   \n",
       "78271                                            0   \n",
       "78272                                            0   \n",
       "78274                                            0   \n",
       "\n",
       "         favorite_ice_cream_flavor_Peach  favorite_ice_cream_flavor_Pistachio  \\\n",
       "user_id                                                                         \n",
       "78268                                  0                                    0   \n",
       "78269                                  0                                    1   \n",
       "78271                                  0                                    0   \n",
       "78272                                  0                                    0   \n",
       "78274                                  0                                    0   \n",
       "\n",
       "         favorite_ice_cream_flavor_Red Velvet  \\\n",
       "user_id                                         \n",
       "78268                                       0   \n",
       "78269                                       0   \n",
       "78271                                       0   \n",
       "78272                                       0   \n",
       "78274                                       0   \n",
       "\n",
       "         favorite_ice_cream_flavor_Rocky Road  \\\n",
       "user_id                                         \n",
       "78268                                       0   \n",
       "78269                                       0   \n",
       "78271                                       0   \n",
       "78272                                       0   \n",
       "78274                                       0   \n",
       "\n",
       "         favorite_ice_cream_flavor_Strawberry  \\\n",
       "user_id                                         \n",
       "78268                                       0   \n",
       "78269                                       0   \n",
       "78271                                       0   \n",
       "78272                                       0   \n",
       "78274                                       0   \n",
       "\n",
       "         favorite_ice_cream_flavor_Vanilla  days_To_ProductUse  \\\n",
       "user_id                                                          \n",
       "78268                                    0                  21   \n",
       "78269                                    0                  -1   \n",
       "78271                                    0                  33   \n",
       "78272                                    0                  -1   \n",
       "78274                                    0                  59   \n",
       "\n",
       "         days_To_ProductVisit  churn  \n",
       "user_id                               \n",
       "78268                       6      0  \n",
       "78269                      18      0  \n",
       "78271                       1      0  \n",
       "78272                      13      0  \n",
       "78274                       9      1  \n",
       "\n",
       "[5 rows x 55 columns]"
      ]
     },
     "execution_count": 146,
     "metadata": {},
     "output_type": "execute_result"
    }
   ],
   "source": [
    "df_user2.head()"
   ]
  },
  {
   "cell_type": "code",
   "execution_count": 147,
   "metadata": {},
   "outputs": [
    {
     "data": {
      "text/html": [
       "<div>\n",
       "<style scoped>\n",
       "    .dataframe tbody tr th:only-of-type {\n",
       "        vertical-align: middle;\n",
       "    }\n",
       "\n",
       "    .dataframe tbody tr th {\n",
       "        vertical-align: top;\n",
       "    }\n",
       "\n",
       "    .dataframe thead th {\n",
       "        text-align: right;\n",
       "    }\n",
       "</style>\n",
       "<table border=\"1\" class=\"dataframe\">\n",
       "  <thead>\n",
       "    <tr style=\"text-align: right;\">\n",
       "      <th></th>\n",
       "      <th>count</th>\n",
       "      <th>mean</th>\n",
       "      <th>std</th>\n",
       "      <th>min</th>\n",
       "      <th>25%</th>\n",
       "      <th>50%</th>\n",
       "      <th>75%</th>\n",
       "      <th>max</th>\n",
       "    </tr>\n",
       "  </thead>\n",
       "  <tbody>\n",
       "    <tr>\n",
       "      <th>days_To_ProductUse</th>\n",
       "      <td>770.0</td>\n",
       "      <td>6.106494</td>\n",
       "      <td>13.793539</td>\n",
       "      <td>-1.0</td>\n",
       "      <td>-1.0</td>\n",
       "      <td>-1.0</td>\n",
       "      <td>8.0</td>\n",
       "      <td>81.0</td>\n",
       "    </tr>\n",
       "    <tr>\n",
       "      <th>days_To_ProductVisit</th>\n",
       "      <td>770.0</td>\n",
       "      <td>10.064935</td>\n",
       "      <td>21.625094</td>\n",
       "      <td>0.0</td>\n",
       "      <td>4.0</td>\n",
       "      <td>7.0</td>\n",
       "      <td>11.0</td>\n",
       "      <td>445.0</td>\n",
       "    </tr>\n",
       "  </tbody>\n",
       "</table>\n",
       "</div>"
      ],
      "text/plain": [
       "                      count       mean        std  min  25%  50%   75%    max\n",
       "days_To_ProductUse    770.0   6.106494  13.793539 -1.0 -1.0 -1.0   8.0   81.0\n",
       "days_To_ProductVisit  770.0  10.064935  21.625094  0.0  4.0  7.0  11.0  445.0"
      ]
     },
     "execution_count": 147,
     "metadata": {},
     "output_type": "execute_result"
    }
   ],
   "source": [
    "df_user2[['days_To_ProductUse','days_To_ProductVisit']].describe().transpose()"
   ]
  },
  {
   "cell_type": "code",
   "execution_count": 148,
   "metadata": {},
   "outputs": [],
   "source": [
    "# We can clearly see some outliers but anyway lets continue to dig deeper"
   ]
  },
  {
   "cell_type": "code",
   "execution_count": 149,
   "metadata": {},
   "outputs": [
    {
     "data": {
      "text/plain": [
       "<matplotlib.axes._subplots.AxesSubplot at 0x2a234603048>"
      ]
     },
     "execution_count": 149,
     "metadata": {},
     "output_type": "execute_result"
    },
    {
     "data": {
      "image/png": "[encoded data removed]",
      "text/plain": [
       "<Figure size 1800x1080 with 1 Axes>"
      ]
     },
     "metadata": {
      "needs_background": "light"
     },
     "output_type": "display_data"
    }
   ],
   "source": [
    "fig, ax = plt.subplots(1, 1, figsize=(25, 15))\n",
    "\n",
    "\n",
    "df_user2[(df_user2.churn == 0) & (df_user2['days_To_ProductVisit'] < 110 )]['days_To_ProductVisit'].hist( bins = 10, color=\"blue\", alpha=0.5, ax=ax )\n",
    "df_user2[(df_user2.churn == 1) & (df_user2['days_To_ProductVisit'] < 110 )]['days_To_ProductVisit'].hist(bins = 10, color=\"red\", alpha=0.5, ax=ax)"
   ]
  },
  {
   "cell_type": "code",
   "execution_count": 150,
   "metadata": {},
   "outputs": [
    {
     "name": "stdout",
     "output_type": "stream",
     "text": [
      "percentage of people not churning who visit the product earlier than 15 days: 67.0846394984326\n",
      "percentage of people churning who visit the product earlier than 15 days: 32.9153605015674\n",
      "percentage of people not churning who visit the product later than 15 days: 68.75\n",
      "percentage of people churning who visit the product later than 15 days: 31.25\n"
     ]
    }
   ],
   "source": [
    "print(\"percentage of people not churning who visit the product earlier than 15 days:\",(df_user2[(df_user2['churn'] == 0) & (df_user2['days_To_ProductVisit'] < 15)]['days_To_ProductVisit'].value_counts().sum())/(df_user2[df_user2['days_To_ProductVisit']<15]['churn'].value_counts().sum())*100)\n",
    "\n",
    "print(\"percentage of people churning who visit the product earlier than 15 days:\",(df_user2[(df_user2['churn'] == 1) & (df_user2['days_To_ProductVisit'] < 15)]['days_To_ProductVisit'].value_counts().sum())/(df_user2[df_user2['days_To_ProductVisit']<15]['churn'].value_counts().sum())*100)\n",
    "\n",
    "print(\"percentage of people not churning who visit the product later than 15 days:\",(df_user2[(df_user2['churn'] == 0) & (df_user2['days_To_ProductVisit'] > 15)]['days_To_ProductVisit'].value_counts().sum())/(df_user2[df_user2['days_To_ProductVisit']>15]['churn'].value_counts().sum())*100)\n",
    "\n",
    "print(\"percentage of people churning who visit the product later than 15 days:\",(df_user2[(df_user2['churn'] == 1) & (df_user2['days_To_ProductVisit'] > 15)]['days_To_ProductVisit'].value_counts().sum())/(df_user2[df_user2['days_To_ProductVisit']>15]['churn'].value_counts().sum())*100)"
   ]
  },
  {
   "cell_type": "code",
   "execution_count": 151,
   "metadata": {},
   "outputs": [
    {
     "name": "stdout",
     "output_type": "stream",
     "text": [
      "percentage of people not churning who use the product early: 68.46543001686341\n",
      "percentage of people churning who use the product early: 31.534569983136596\n",
      "percentage of people not churning who use the product later than 9 days: 63.74999999999999\n",
      "percentage of people churning who use the product later than 9 days: 36.25\n"
     ]
    }
   ],
   "source": [
    "print(\"percentage of people not churning who use the product early:\",(df_user2[(df_user2['churn'] == 0) & (df_user2['days_To_ProductUse'] < 9)]['days_To_ProductUse'].value_counts().sum())/(df_user2[df_user2['days_To_ProductUse']<9]['churn'].value_counts().sum())*100)\n",
    "\n",
    "print(\"percentage of people churning who use the product early:\",(df_user2[(df_user2['churn'] == 1) & (df_user2['days_To_ProductUse'] < 9)]['days_To_ProductUse'].value_counts().sum())/(df_user2[df_user2['days_To_ProductUse']<9]['churn'].value_counts().sum())*100)\n",
    "\n",
    "print(\"percentage of people not churning who use the product later than 9 days:\",(df_user2[(df_user2['churn'] == 0) & (df_user2['days_To_ProductUse'] > 9)]['days_To_ProductUse'].value_counts().sum())/(df_user2[df_user2['days_To_ProductUse']>9]['churn'].value_counts().sum())*100)\n",
    "\n",
    "print(\"percentage of people churning who use the product later than 9 days:\",(df_user2[(df_user2['churn'] == 1) & (df_user2['days_To_ProductUse'] > 9)]['days_To_ProductUse'].value_counts().sum())/(df_user2[df_user2['days_To_ProductUse']>9]['churn'].value_counts().sum())*100)"
   ]
  },
  {
   "cell_type": "code",
   "execution_count": 152,
   "metadata": {},
   "outputs": [
    {
     "name": "stdout",
     "output_type": "stream",
     "text": [
      "People who visit early and do not see the product are 67.66169154228857 % likely not to churn \n",
      "\n",
      "People who visit late and do not see the product are 68.18181818181817 % likely not to churn\n"
     ]
    }
   ],
   "source": [
    "print(\"People who visit early and do not see the product are\",(df_user2[(df_user2.days_To_ProductVisit < 15) & (df_user2.days_To_ProductUse == -1)]['churn'].value_counts()[0])/(df_user2[(df_user2.days_To_ProductVisit < 15) & (df_user2.days_To_ProductUse == -1)]['churn'].value_counts().sum())*100,\"% likely not to churn\",\"\\n\")\n",
    "print(\"People who visit late and do not see the product are\",(df_user2[(df_user2.days_To_ProductVisit > 15) & (df_user2.days_To_ProductUse == -1)]['churn'].value_counts()[0])/(df_user2[(df_user2.days_To_ProductVisit > 15) & (df_user2.days_To_ProductUse == -1)]['churn'].value_counts().sum())*100,\"% likely not to churn\")\n"
   ]
  },
  {
   "cell_type": "code",
   "execution_count": 153,
   "metadata": {},
   "outputs": [
    {
     "data": {
      "text/html": [
       "<div>\n",
       "<style scoped>\n",
       "    .dataframe tbody tr th:only-of-type {\n",
       "        vertical-align: middle;\n",
       "    }\n",
       "\n",
       "    .dataframe tbody tr th {\n",
       "        vertical-align: top;\n",
       "    }\n",
       "\n",
       "    .dataframe thead th {\n",
       "        text-align: right;\n",
       "    }\n",
       "</style>\n",
       "<table border=\"1\" class=\"dataframe\">\n",
       "  <thead>\n",
       "    <tr style=\"text-align: right;\">\n",
       "      <th></th>\n",
       "      <th>apm</th>\n",
       "      <th>income</th>\n",
       "      <th>height</th>\n",
       "      <th>reaction_time</th>\n",
       "      <th>age</th>\n",
       "      <th>kappa_ability</th>\n",
       "      <th>weight</th>\n",
       "      <th>amount</th>\n",
       "      <th>gregariousness</th>\n",
       "      <th>favorite_pizza_topping_BBQ Sauce</th>\n",
       "      <th>...</th>\n",
       "      <th>favorite_ice_cream_flavor_Orange Sherbert</th>\n",
       "      <th>favorite_ice_cream_flavor_Peach</th>\n",
       "      <th>favorite_ice_cream_flavor_Pistachio</th>\n",
       "      <th>favorite_ice_cream_flavor_Red Velvet</th>\n",
       "      <th>favorite_ice_cream_flavor_Rocky Road</th>\n",
       "      <th>favorite_ice_cream_flavor_Strawberry</th>\n",
       "      <th>favorite_ice_cream_flavor_Vanilla</th>\n",
       "      <th>days_To_ProductUse</th>\n",
       "      <th>days_To_ProductVisit</th>\n",
       "      <th>churn</th>\n",
       "    </tr>\n",
       "    <tr>\n",
       "      <th>user_id</th>\n",
       "      <th></th>\n",
       "      <th></th>\n",
       "      <th></th>\n",
       "      <th></th>\n",
       "      <th></th>\n",
       "      <th></th>\n",
       "      <th></th>\n",
       "      <th></th>\n",
       "      <th></th>\n",
       "      <th></th>\n",
       "      <th></th>\n",
       "      <th></th>\n",
       "      <th></th>\n",
       "      <th></th>\n",
       "      <th></th>\n",
       "      <th></th>\n",
       "      <th></th>\n",
       "      <th></th>\n",
       "      <th></th>\n",
       "      <th></th>\n",
       "      <th></th>\n",
       "    </tr>\n",
       "  </thead>\n",
       "  <tbody>\n",
       "    <tr>\n",
       "      <th>78268</th>\n",
       "      <td>171</td>\n",
       "      <td>104</td>\n",
       "      <td>177</td>\n",
       "      <td>295</td>\n",
       "      <td>52</td>\n",
       "      <td>3363</td>\n",
       "      <td>144</td>\n",
       "      <td>19</td>\n",
       "      <td>57</td>\n",
       "      <td>0</td>\n",
       "      <td>...</td>\n",
       "      <td>0</td>\n",
       "      <td>0</td>\n",
       "      <td>0</td>\n",
       "      <td>0</td>\n",
       "      <td>0</td>\n",
       "      <td>0</td>\n",
       "      <td>0</td>\n",
       "      <td>21</td>\n",
       "      <td>6</td>\n",
       "      <td>0</td>\n",
       "    </tr>\n",
       "    <tr>\n",
       "      <th>78269</th>\n",
       "      <td>218</td>\n",
       "      <td>96</td>\n",
       "      <td>178</td>\n",
       "      <td>305</td>\n",
       "      <td>33</td>\n",
       "      <td>1720</td>\n",
       "      <td>147</td>\n",
       "      <td>57</td>\n",
       "      <td>48</td>\n",
       "      <td>0</td>\n",
       "      <td>...</td>\n",
       "      <td>0</td>\n",
       "      <td>0</td>\n",
       "      <td>1</td>\n",
       "      <td>0</td>\n",
       "      <td>0</td>\n",
       "      <td>0</td>\n",
       "      <td>0</td>\n",
       "      <td>-1</td>\n",
       "      <td>18</td>\n",
       "      <td>0</td>\n",
       "    </tr>\n",
       "    <tr>\n",
       "      <th>78271</th>\n",
       "      <td>184</td>\n",
       "      <td>101</td>\n",
       "      <td>185</td>\n",
       "      <td>295</td>\n",
       "      <td>44</td>\n",
       "      <td>920</td>\n",
       "      <td>153</td>\n",
       "      <td>79</td>\n",
       "      <td>52</td>\n",
       "      <td>0</td>\n",
       "      <td>...</td>\n",
       "      <td>0</td>\n",
       "      <td>0</td>\n",
       "      <td>0</td>\n",
       "      <td>0</td>\n",
       "      <td>0</td>\n",
       "      <td>0</td>\n",
       "      <td>0</td>\n",
       "      <td>33</td>\n",
       "      <td>1</td>\n",
       "      <td>0</td>\n",
       "    </tr>\n",
       "    <tr>\n",
       "      <th>78272</th>\n",
       "      <td>210</td>\n",
       "      <td>100</td>\n",
       "      <td>180</td>\n",
       "      <td>311</td>\n",
       "      <td>34</td>\n",
       "      <td>1453</td>\n",
       "      <td>154</td>\n",
       "      <td>29</td>\n",
       "      <td>56</td>\n",
       "      <td>0</td>\n",
       "      <td>...</td>\n",
       "      <td>0</td>\n",
       "      <td>0</td>\n",
       "      <td>0</td>\n",
       "      <td>0</td>\n",
       "      <td>0</td>\n",
       "      <td>0</td>\n",
       "      <td>0</td>\n",
       "      <td>-1</td>\n",
       "      <td>13</td>\n",
       "      <td>0</td>\n",
       "    </tr>\n",
       "    <tr>\n",
       "      <th>78274</th>\n",
       "      <td>223</td>\n",
       "      <td>111</td>\n",
       "      <td>181</td>\n",
       "      <td>287</td>\n",
       "      <td>41</td>\n",
       "      <td>2219</td>\n",
       "      <td>159</td>\n",
       "      <td>2</td>\n",
       "      <td>47</td>\n",
       "      <td>0</td>\n",
       "      <td>...</td>\n",
       "      <td>0</td>\n",
       "      <td>0</td>\n",
       "      <td>0</td>\n",
       "      <td>0</td>\n",
       "      <td>0</td>\n",
       "      <td>0</td>\n",
       "      <td>0</td>\n",
       "      <td>59</td>\n",
       "      <td>9</td>\n",
       "      <td>1</td>\n",
       "    </tr>\n",
       "  </tbody>\n",
       "</table>\n",
       "<p>5 rows × 55 columns</p>\n",
       "</div>"
      ],
      "text/plain": [
       "         apm  income  height  reaction_time  age  kappa_ability  weight  \\\n",
       "user_id                                                                   \n",
       "78268    171     104     177            295   52           3363     144   \n",
       "78269    218      96     178            305   33           1720     147   \n",
       "78271    184     101     185            295   44            920     153   \n",
       "78272    210     100     180            311   34           1453     154   \n",
       "78274    223     111     181            287   41           2219     159   \n",
       "\n",
       "         amount  gregariousness  favorite_pizza_topping_BBQ Sauce  ...    \\\n",
       "user_id                                                            ...     \n",
       "78268        19              57                                 0  ...     \n",
       "78269        57              48                                 0  ...     \n",
       "78271        79              52                                 0  ...     \n",
       "78272        29              56                                 0  ...     \n",
       "78274         2              47                                 0  ...     \n",
       "\n",
       "         favorite_ice_cream_flavor_Orange Sherbert  \\\n",
       "user_id                                              \n",
       "78268                                            0   \n",
       "78269                                            0   \n",
       "78271                                            0   \n",
       "78272                                            0   \n",
       "78274                                            0   \n",
       "\n",
       "         favorite_ice_cream_flavor_Peach  favorite_ice_cream_flavor_Pistachio  \\\n",
       "user_id                                                                         \n",
       "78268                                  0                                    0   \n",
       "78269                                  0                                    1   \n",
       "78271                                  0                                    0   \n",
       "78272                                  0                                    0   \n",
       "78274                                  0                                    0   \n",
       "\n",
       "         favorite_ice_cream_flavor_Red Velvet  \\\n",
       "user_id                                         \n",
       "78268                                       0   \n",
       "78269                                       0   \n",
       "78271                                       0   \n",
       "78272                                       0   \n",
       "78274                                       0   \n",
       "\n",
       "         favorite_ice_cream_flavor_Rocky Road  \\\n",
       "user_id                                         \n",
       "78268                                       0   \n",
       "78269                                       0   \n",
       "78271                                       0   \n",
       "78272                                       0   \n",
       "78274                                       0   \n",
       "\n",
       "         favorite_ice_cream_flavor_Strawberry  \\\n",
       "user_id                                         \n",
       "78268                                       0   \n",
       "78269                                       0   \n",
       "78271                                       0   \n",
       "78272                                       0   \n",
       "78274                                       0   \n",
       "\n",
       "         favorite_ice_cream_flavor_Vanilla  days_To_ProductUse  \\\n",
       "user_id                                                          \n",
       "78268                                    0                  21   \n",
       "78269                                    0                  -1   \n",
       "78271                                    0                  33   \n",
       "78272                                    0                  -1   \n",
       "78274                                    0                  59   \n",
       "\n",
       "         days_To_ProductVisit  churn  \n",
       "user_id                               \n",
       "78268                       6      0  \n",
       "78269                      18      0  \n",
       "78271                       1      0  \n",
       "78272                      13      0  \n",
       "78274                       9      1  \n",
       "\n",
       "[5 rows x 55 columns]"
      ]
     },
     "execution_count": 153,
     "metadata": {},
     "output_type": "execute_result"
    }
   ],
   "source": [
    "#df_user2.drop('PVdays',axis = 1, inplace=True)\n",
    "df_user2.head()"
   ]
  },
  {
   "cell_type": "markdown",
   "metadata": {},
   "source": [
    "## Modelling with two columns related to number of days"
   ]
  },
  {
   "cell_type": "code",
   "execution_count": 154,
   "metadata": {},
   "outputs": [],
   "source": [
    "I = df_user2.copy(deep = True)"
   ]
  },
  {
   "cell_type": "code",
   "execution_count": 155,
   "metadata": {},
   "outputs": [],
   "source": [
    "j = I.iloc[:,-1]"
   ]
  },
  {
   "cell_type": "code",
   "execution_count": 156,
   "metadata": {},
   "outputs": [],
   "source": [
    "I = I.iloc[:,:-1]"
   ]
  },
  {
   "cell_type": "code",
   "execution_count": 157,
   "metadata": {},
   "outputs": [],
   "source": [
    "I_train,I_test,j_train,j_test = train_test_split(I,j, test_size = 0.2, random_state = 101)"
   ]
  },
  {
   "cell_type": "code",
   "execution_count": 158,
   "metadata": {},
   "outputs": [
    {
     "name": "stderr",
     "output_type": "stream",
     "text": [
      "C:\\Users\\13154\\Anaconda3\\lib\\site-packages\\sklearn\\linear_model\\logistic.py:433: FutureWarning: Default solver will be changed to 'lbfgs' in 0.22. Specify a solver to silence this warning.\n",
      "  FutureWarning)\n"
     ]
    }
   ],
   "source": [
    "from sklearn.linear_model import LogisticRegression\n",
    "model = LogisticRegression()\n",
    "result = model.fit(I_train, j_train)"
   ]
  },
  {
   "cell_type": "code",
   "execution_count": 159,
   "metadata": {},
   "outputs": [],
   "source": [
    "predict = model.predict(I_test)"
   ]
  },
  {
   "cell_type": "code",
   "execution_count": 160,
   "metadata": {},
   "outputs": [
    {
     "name": "stdout",
     "output_type": "stream",
     "text": [
      "0.8636363636363636\n"
     ]
    }
   ],
   "source": [
    "print(metrics.accuracy_score(j_test,predict))"
   ]
  },
  {
   "cell_type": "markdown",
   "metadata": {},
   "source": [
    "## slight increase in Accuracy but not much Difference"
   ]
  },
  {
   "cell_type": "code",
   "execution_count": 161,
   "metadata": {},
   "outputs": [
    {
     "data": {
      "text/plain": [
       "favorite_ice_cream_flavor_Pistachio            1.553151\n",
       "favorite_pizza_topping_BBQ Sauce               1.380840\n",
       "favorite_pizza_topping_Pesto                   1.136731\n",
       "favorite_ice_cream_flavor_Black Cherry         1.068387\n",
       "favorite_ice_cream_flavor_Cheesecake           0.971853\n",
       "city_B-ville                                   0.930206\n",
       "favorite_pizza_topping_Black olives            0.775334\n",
       "grade_X                                        0.767302\n",
       "favorite_pizza_topping_Pepperoni               0.752732\n",
       "favorite_pizza_topping_Spinach                 0.541344\n",
       "favorite_ice_cream_flavor_Cookies and Cream    0.534897\n",
       "favorite_pizza_topping_Chicken                 0.521428\n",
       "favorite_ice_cream_flavor_Chocolate            0.470306\n",
       "favorite_ice_cream_flavor_Rocky Road           0.389290\n",
       "favorite_pizza_topping_Salami                  0.314085\n",
       "favorite_pizza_topping_Pineapple               0.295586\n",
       "favorite_pizza_topping_Garlic                  0.273047\n",
       "favorite_pizza_topping_Tomato                  0.170958\n",
       "income                                         0.150673\n",
       "favorite_pizza_topping_Sausage                 0.051768\n",
       "amount                                         0.011257\n",
       "days_To_ProductVisit                           0.008327\n",
       "weight                                         0.005861\n",
       "days_To_ProductUse                             0.005295\n",
       "kappa_ability                                  0.000048\n",
       "reaction_time                                 -0.000206\n",
       "height                                        -0.001275\n",
       "age                                           -0.012512\n",
       "apm                                           -0.040855\n",
       "gregariousness                                -0.076068\n",
       "favorite_ice_cream_flavor_Coffee              -0.207433\n",
       "company_Pause Associates                      -0.255170\n",
       "company_Stop Inc                              -0.280361\n",
       "favorite_pizza_topping_Mushrooms              -0.455825\n",
       "favorite_pizza_topping_Green peppers          -0.480618\n",
       "favorite_ice_cream_flavor_Peach               -0.521274\n",
       "favorite_ice_cream_flavor_Orange Sherbert     -0.633561\n",
       "favorite_pizza_topping_Basil                  -0.639848\n",
       "favorite_pizza_topping_Oregano                -0.681943\n",
       "favorite_pizza_topping_Ham                    -0.752913\n",
       "favorite_ice_cream_flavor_Vanilla             -0.866553\n",
       "favorite_ice_cream_flavor_Red Velvet          -0.876853\n",
       "favorite_ice_cream_flavor_Mint                -0.892133\n",
       "favorite_ice_cream_flavor_Strawberry          -0.915675\n",
       "favorite_ice_cream_flavor_Butter Pecan        -0.956626\n",
       "grade_Y                                       -1.185211\n",
       "favorite_ice_cream_flavor_Neapolitan          -1.277102\n",
       "favorite_pizza_topping_Bacon                  -1.280813\n",
       "city_A-town                                   -1.302454\n",
       "company_Go LLC                                -1.623792\n",
       "grade_Z                                       -1.741415\n",
       "city_C-borough                                -1.787076\n",
       "favorite_pizza_topping_Red peppers            -1.951255\n",
       "favorite_pizza_topping_Extra cheese           -2.129962\n",
       "dtype: float64"
      ]
     },
     "execution_count": 161,
     "metadata": {},
     "output_type": "execute_result"
    }
   ],
   "source": [
    "weights = pd.Series(model.coef_[0],index=I.columns.values)\n",
    "weights.sort_values(ascending = False,inplace = True)\n",
    "weights"
   ]
  },
  {
   "cell_type": "code",
   "execution_count": 162,
   "metadata": {},
   "outputs": [],
   "source": [
    "new_cols1 = weights.index.values[:19]\n",
    "new_cols1 = new_cols1.tolist()\n"
   ]
  },
  {
   "cell_type": "code",
   "execution_count": 163,
   "metadata": {},
   "outputs": [
    {
     "data": {
      "text/plain": [
       "19"
      ]
     },
     "execution_count": 163,
     "metadata": {},
     "output_type": "execute_result"
    }
   ],
   "source": [
    "len(new_cols1)"
   ]
  },
  {
   "cell_type": "code",
   "execution_count": 164,
   "metadata": {},
   "outputs": [
    {
     "data": {
      "text/plain": [
       "38"
      ]
     },
     "execution_count": 164,
     "metadata": {},
     "output_type": "execute_result"
    }
   ],
   "source": [
    "new_cols1.extend(weights.index.values[-19:])\n",
    "#new_cols1.append(['income','churn'])\n",
    "len(new_cols1)"
   ]
  },
  {
   "cell_type": "markdown",
   "metadata": {},
   "source": [
    "## Lets try selecting top 15 and botton 15 based on weights assigned by Logistic regression which match our analysis and model it"
   ]
  },
  {
   "cell_type": "code",
   "execution_count": 165,
   "metadata": {},
   "outputs": [],
   "source": [
    "sample = I.copy(True)"
   ]
  },
  {
   "cell_type": "code",
   "execution_count": 166,
   "metadata": {},
   "outputs": [],
   "source": [
    "for ind in I.columns.tolist():\n",
    "    if ind not in new_cols1:\n",
    "        I.drop(ind, axis = 1, inplace=True)"
   ]
  },
  {
   "cell_type": "code",
   "execution_count": null,
   "metadata": {},
   "outputs": [],
   "source": []
  },
  {
   "cell_type": "code",
   "execution_count": 167,
   "metadata": {},
   "outputs": [
    {
     "name": "stdout",
     "output_type": "stream",
     "text": [
      "0.8376623376623377\n"
     ]
    },
    {
     "name": "stderr",
     "output_type": "stream",
     "text": [
      "C:\\Users\\13154\\Anaconda3\\lib\\site-packages\\sklearn\\linear_model\\logistic.py:433: FutureWarning: Default solver will be changed to 'lbfgs' in 0.22. Specify a solver to silence this warning.\n",
      "  FutureWarning)\n"
     ]
    }
   ],
   "source": [
    "I_train,I_test,j_train,j_test = train_test_split(I,j, test_size = 0.2, random_state = 101)\n",
    "\n",
    "from sklearn.linear_model import LogisticRegression\n",
    "model = LogisticRegression()\n",
    "result = model.fit(I_train, j_train)\n",
    "\n",
    "predict = model.predict(I_test)\n",
    "\n",
    "print(metrics.accuracy_score(j_test,predict))\n",
    "\n"
   ]
  },
  {
   "cell_type": "code",
   "execution_count": 168,
   "metadata": {},
   "outputs": [
    {
     "data": {
      "text/plain": [
       "favorite_ice_cream_flavor_Pistachio            1.619185\n",
       "favorite_pizza_topping_BBQ Sauce               1.386045\n",
       "favorite_pizza_topping_Pesto                   1.328758\n",
       "favorite_pizza_topping_Pepperoni               1.029291\n",
       "favorite_ice_cream_flavor_Black Cherry         0.999671\n",
       "favorite_pizza_topping_Black olives            0.919873\n",
       "favorite_ice_cream_flavor_Cheesecake           0.897496\n",
       "favorite_pizza_topping_Garlic                  0.709854\n",
       "favorite_pizza_topping_Spinach                 0.673829\n",
       "favorite_pizza_topping_Chicken                 0.383630\n",
       "favorite_pizza_topping_Tomato                  0.373354\n",
       "favorite_ice_cream_flavor_Cookies and Cream    0.211892\n",
       "city_B-ville                                   0.159870\n",
       "favorite_pizza_topping_Pineapple               0.154467\n",
       "favorite_ice_cream_flavor_Rocky Road           0.147885\n",
       "favorite_ice_cream_flavor_Chocolate            0.077266\n",
       "income                                         0.074711\n",
       "favorite_pizza_topping_Salami                  0.028419\n",
       "grade_X                                       -0.031278\n",
       "favorite_pizza_topping_Ham                    -0.635387\n",
       "favorite_ice_cream_flavor_Red Velvet          -0.640185\n",
       "favorite_ice_cream_flavor_Orange Sherbert     -0.728329\n",
       "favorite_pizza_topping_Basil                  -0.763166\n",
       "favorite_pizza_topping_Oregano                -0.772956\n",
       "favorite_ice_cream_flavor_Vanilla             -0.830198\n",
       "favorite_pizza_topping_Bacon                  -0.977894\n",
       "favorite_ice_cream_flavor_Peach               -1.012720\n",
       "favorite_ice_cream_flavor_Mint                -1.030092\n",
       "favorite_ice_cream_flavor_Butter Pecan        -1.134450\n",
       "favorite_ice_cream_flavor_Neapolitan          -1.163365\n",
       "favorite_ice_cream_flavor_Strawberry          -1.248366\n",
       "company_Go LLC                                -1.398487\n",
       "grade_Y                                       -1.799338\n",
       "city_A-town                                   -1.852392\n",
       "favorite_pizza_topping_Extra cheese           -1.879812\n",
       "favorite_pizza_topping_Red peppers            -2.155789\n",
       "grade_Z                                       -2.206853\n",
       "city_C-borough                                -2.344947\n",
       "dtype: float64"
      ]
     },
     "execution_count": 168,
     "metadata": {},
     "output_type": "execute_result"
    }
   ],
   "source": [
    "weights = pd.Series(model.coef_[0],index=I.columns.values)\n",
    "weights.sort_values(ascending = False)"
   ]
  },
  {
   "cell_type": "code",
   "execution_count": 169,
   "metadata": {},
   "outputs": [
    {
     "name": "stderr",
     "output_type": "stream",
     "text": [
      "[Parallel(n_jobs=-1)]: Using backend ThreadingBackend with 8 concurrent workers.\n",
      "[Parallel(n_jobs=-1)]: Done  34 tasks      | elapsed:    0.0s\n",
      "[Parallel(n_jobs=-1)]: Done 184 tasks      | elapsed:    0.0s\n",
      "[Parallel(n_jobs=-1)]: Done 434 tasks      | elapsed:    0.3s\n",
      "[Parallel(n_jobs=-1)]: Done 784 tasks      | elapsed:    0.6s\n",
      "[Parallel(n_jobs=-1)]: Done 1000 out of 1000 | elapsed:    0.7s finished\n",
      "[Parallel(n_jobs=8)]: Using backend ThreadingBackend with 8 concurrent workers.\n",
      "[Parallel(n_jobs=8)]: Done  34 tasks      | elapsed:    0.0s\n",
      "[Parallel(n_jobs=8)]: Done 184 tasks      | elapsed:    0.0s\n",
      "[Parallel(n_jobs=8)]: Done 434 tasks      | elapsed:    0.0s\n",
      "[Parallel(n_jobs=8)]: Done 784 tasks      | elapsed:    0.1s\n",
      "[Parallel(n_jobs=8)]: Done 1000 out of 1000 | elapsed:    0.1s finished\n",
      "[Parallel(n_jobs=8)]: Using backend ThreadingBackend with 8 concurrent workers.\n",
      "[Parallel(n_jobs=8)]: Done  34 tasks      | elapsed:    0.0s\n",
      "[Parallel(n_jobs=8)]: Done 184 tasks      | elapsed:    0.0s\n",
      "[Parallel(n_jobs=8)]: Done 434 tasks      | elapsed:    0.1s\n",
      "[Parallel(n_jobs=8)]: Done 784 tasks      | elapsed:    0.2s\n",
      "[Parallel(n_jobs=8)]: Done 1000 out of 1000 | elapsed:    0.2s finished\n"
     ]
    }
   ],
   "source": [
    "from sklearn.ensemble import RandomForestClassifier #use RandomForestRegressor for regression problem\n",
    "#Assumed you have, X (predictor) and Y (target) for training data set and x_test(predictor) of test_dataset\n",
    "# Create Random Forest object\n",
    "modelRandom2= RandomForestClassifier(n_estimators=1000,n_jobs=-1,verbose=1)\n",
    "# Train the model using the training sets and check score\n",
    "modelRandom2.fit(I_train, j_train)\n",
    "modelRandom2.score(I_train, j_train)\n",
    "#Predict Output\n",
    "predicted12= modelRandom2.predict(I_test)"
   ]
  },
  {
   "cell_type": "code",
   "execution_count": 170,
   "metadata": {},
   "outputs": [
    {
     "name": "stdout",
     "output_type": "stream",
     "text": [
      "0.9545454545454546\n"
     ]
    }
   ],
   "source": [
    "print(metrics.accuracy_score(j_test, predicted12))"
   ]
  },
  {
   "cell_type": "code",
   "execution_count": 171,
   "metadata": {},
   "outputs": [
    {
     "name": "stdout",
     "output_type": "stream",
     "text": [
      "      Iter       Train Loss   Remaining Time \n",
      "         1           0.4351            2.74s\n",
      "         2           0.2834            2.39s\n",
      "         3           0.2182            2.57s\n",
      "         4           0.1615            2.17s\n",
      "         5           0.1328            2.33s\n",
      "         6           0.0881            2.44s\n",
      "         7           0.0769            2.37s\n",
      "         8           0.0804            2.44s\n",
      "         9           0.0543            2.39s\n",
      "        10           0.3504            2.44s\n",
      "        20           0.3251            2.09s\n",
      "        30           0.3201            1.96s\n",
      "        40           0.3187            1.92s\n",
      "        50           0.3182            1.86s\n",
      "        60           0.3181            1.69s\n",
      "        70           0.3181            1.54s\n",
      "        80           0.3181            1.43s\n",
      "        90           0.3181            1.31s\n",
      "       100           0.3181            1.24s\n",
      "       200           0.3181            0.81s\n",
      "       300           0.3181            0.61s\n",
      "       400           0.3181            0.50s\n",
      "       500           0.3181            0.40s\n",
      "       600           0.3181            0.31s\n",
      "       700           0.3181            0.24s\n",
      "       800           0.3181            0.17s\n",
      "       900           0.3181            0.08s\n",
      "      1000           0.3181            0.00s\n"
     ]
    },
    {
     "data": {
      "text/plain": [
       "GradientBoostingClassifier(criterion='friedman_mse', init=None,\n",
       "              learning_rate=1.0, loss='deviance', max_depth=5,\n",
       "              max_features=None, max_leaf_nodes=None,\n",
       "              min_impurity_decrease=0.0, min_impurity_split=None,\n",
       "              min_samples_leaf=1, min_samples_split=2,\n",
       "              min_weight_fraction_leaf=0.0, n_estimators=1000,\n",
       "              n_iter_no_change=None, presort='auto', random_state=None,\n",
       "              subsample=1.0, tol=0.0001, validation_fraction=0.1,\n",
       "              verbose=1, warm_start=False)"
      ]
     },
     "execution_count": 171,
     "metadata": {},
     "output_type": "execute_result"
    }
   ],
   "source": [
    "from sklearn.ensemble import GradientBoostingClassifier\n",
    "modelGB2 = GradientBoostingClassifier(n_estimators=1000, learning_rate=1.0, max_depth=5,verbose=1)\n",
    "modelGB2.fit(I_train, j_train)"
   ]
  },
  {
   "cell_type": "code",
   "execution_count": 172,
   "metadata": {},
   "outputs": [
    {
     "name": "stdout",
     "output_type": "stream",
     "text": [
      "0.9415584415584416\n"
     ]
    }
   ],
   "source": [
    "predictedGB = modelGB2.predict(I_test)\n",
    "print(metrics.accuracy_score(j_test, predictedGB))"
   ]
  },
  {
   "cell_type": "markdown",
   "metadata": {},
   "source": [
    "## as we can see ice cream and pizza preference are making a lot of difference, What if its just a formal survey question and nothing do with companies product and service, \n",
    "## Lets drop ice cream and pizza toppings and check what is the churn prediction"
   ]
  },
  {
   "cell_type": "code",
   "execution_count": 173,
   "metadata": {},
   "outputs": [],
   "source": [
    "df_NF = df_user.copy(True)\n",
    "df_NF.drop(['favorite_ice_cream_flavor', 'favorite_pizza_topping', 'height', 'weight', 'kappa_ability'], axis = 1, inplace=True)"
   ]
  },
  {
   "cell_type": "code",
   "execution_count": 174,
   "metadata": {},
   "outputs": [],
   "source": [
    "df_NF = pd.concat([df_NF, pd.get_dummies(df_NF.company,prefix = 'Company')], axis=1)\n",
    "df_NF = pd.concat([df_NF, pd.get_dummies(df_NF.city,prefix = 'City')], axis=1)\n",
    "df_NF = pd.concat([df_NF, pd.get_dummies(df_NF.grade,prefix = 'grade')],axis=1)\n",
    "#df_user2 = pd.concat([df_user2, pd.get_dummies(df_user.favorite_ice_cream_flavor)], axis=1)\n",
    "df_NF.drop(['grade','city','company'],axis = 1, inplace=True)"
   ]
  },
  {
   "cell_type": "code",
   "execution_count": 175,
   "metadata": {},
   "outputs": [
    {
     "data": {
      "text/html": [
       "<div>\n",
       "<style scoped>\n",
       "    .dataframe tbody tr th:only-of-type {\n",
       "        vertical-align: middle;\n",
       "    }\n",
       "\n",
       "    .dataframe tbody tr th {\n",
       "        vertical-align: top;\n",
       "    }\n",
       "\n",
       "    .dataframe thead th {\n",
       "        text-align: right;\n",
       "    }\n",
       "</style>\n",
       "<table border=\"1\" class=\"dataframe\">\n",
       "  <thead>\n",
       "    <tr style=\"text-align: right;\">\n",
       "      <th></th>\n",
       "      <th>apm</th>\n",
       "      <th>income</th>\n",
       "      <th>reaction_time</th>\n",
       "      <th>age</th>\n",
       "      <th>amount</th>\n",
       "      <th>gregariousness</th>\n",
       "      <th>churn</th>\n",
       "      <th>Company_0</th>\n",
       "      <th>Company_1</th>\n",
       "      <th>Company_2</th>\n",
       "      <th>City_0</th>\n",
       "      <th>City_1</th>\n",
       "      <th>City_2</th>\n",
       "      <th>grade_0</th>\n",
       "      <th>grade_1</th>\n",
       "      <th>grade_2</th>\n",
       "    </tr>\n",
       "    <tr>\n",
       "      <th>user_id</th>\n",
       "      <th></th>\n",
       "      <th></th>\n",
       "      <th></th>\n",
       "      <th></th>\n",
       "      <th></th>\n",
       "      <th></th>\n",
       "      <th></th>\n",
       "      <th></th>\n",
       "      <th></th>\n",
       "      <th></th>\n",
       "      <th></th>\n",
       "      <th></th>\n",
       "      <th></th>\n",
       "      <th></th>\n",
       "      <th></th>\n",
       "      <th></th>\n",
       "    </tr>\n",
       "  </thead>\n",
       "  <tbody>\n",
       "    <tr>\n",
       "      <th>78268</th>\n",
       "      <td>171</td>\n",
       "      <td>104</td>\n",
       "      <td>295</td>\n",
       "      <td>52</td>\n",
       "      <td>19</td>\n",
       "      <td>57</td>\n",
       "      <td>0</td>\n",
       "      <td>0</td>\n",
       "      <td>1</td>\n",
       "      <td>0</td>\n",
       "      <td>0</td>\n",
       "      <td>0</td>\n",
       "      <td>1</td>\n",
       "      <td>1</td>\n",
       "      <td>0</td>\n",
       "      <td>0</td>\n",
       "    </tr>\n",
       "    <tr>\n",
       "      <th>78269</th>\n",
       "      <td>218</td>\n",
       "      <td>96</td>\n",
       "      <td>305</td>\n",
       "      <td>33</td>\n",
       "      <td>57</td>\n",
       "      <td>48</td>\n",
       "      <td>0</td>\n",
       "      <td>0</td>\n",
       "      <td>1</td>\n",
       "      <td>0</td>\n",
       "      <td>0</td>\n",
       "      <td>0</td>\n",
       "      <td>1</td>\n",
       "      <td>0</td>\n",
       "      <td>1</td>\n",
       "      <td>0</td>\n",
       "    </tr>\n",
       "    <tr>\n",
       "      <th>78271</th>\n",
       "      <td>184</td>\n",
       "      <td>101</td>\n",
       "      <td>295</td>\n",
       "      <td>44</td>\n",
       "      <td>79</td>\n",
       "      <td>52</td>\n",
       "      <td>0</td>\n",
       "      <td>0</td>\n",
       "      <td>1</td>\n",
       "      <td>0</td>\n",
       "      <td>1</td>\n",
       "      <td>0</td>\n",
       "      <td>0</td>\n",
       "      <td>0</td>\n",
       "      <td>0</td>\n",
       "      <td>1</td>\n",
       "    </tr>\n",
       "    <tr>\n",
       "      <th>78272</th>\n",
       "      <td>210</td>\n",
       "      <td>100</td>\n",
       "      <td>311</td>\n",
       "      <td>34</td>\n",
       "      <td>29</td>\n",
       "      <td>56</td>\n",
       "      <td>0</td>\n",
       "      <td>1</td>\n",
       "      <td>0</td>\n",
       "      <td>0</td>\n",
       "      <td>1</td>\n",
       "      <td>0</td>\n",
       "      <td>0</td>\n",
       "      <td>0</td>\n",
       "      <td>0</td>\n",
       "      <td>1</td>\n",
       "    </tr>\n",
       "    <tr>\n",
       "      <th>78274</th>\n",
       "      <td>223</td>\n",
       "      <td>111</td>\n",
       "      <td>287</td>\n",
       "      <td>41</td>\n",
       "      <td>2</td>\n",
       "      <td>47</td>\n",
       "      <td>1</td>\n",
       "      <td>1</td>\n",
       "      <td>0</td>\n",
       "      <td>0</td>\n",
       "      <td>0</td>\n",
       "      <td>1</td>\n",
       "      <td>0</td>\n",
       "      <td>0</td>\n",
       "      <td>1</td>\n",
       "      <td>0</td>\n",
       "    </tr>\n",
       "  </tbody>\n",
       "</table>\n",
       "</div>"
      ],
      "text/plain": [
       "         apm  income  reaction_time  age  amount  gregariousness  churn  \\\n",
       "user_id                                                                   \n",
       "78268    171     104            295   52      19              57      0   \n",
       "78269    218      96            305   33      57              48      0   \n",
       "78271    184     101            295   44      79              52      0   \n",
       "78272    210     100            311   34      29              56      0   \n",
       "78274    223     111            287   41       2              47      1   \n",
       "\n",
       "         Company_0  Company_1  Company_2  City_0  City_1  City_2  grade_0  \\\n",
       "user_id                                                                     \n",
       "78268            0          1          0       0       0       1        1   \n",
       "78269            0          1          0       0       0       1        0   \n",
       "78271            0          1          0       1       0       0        0   \n",
       "78272            1          0          0       1       0       0        0   \n",
       "78274            1          0          0       0       1       0        0   \n",
       "\n",
       "         grade_1  grade_2  \n",
       "user_id                    \n",
       "78268          0        0  \n",
       "78269          1        0  \n",
       "78271          0        1  \n",
       "78272          0        1  \n",
       "78274          1        0  "
      ]
     },
     "execution_count": 175,
     "metadata": {},
     "output_type": "execute_result"
    }
   ],
   "source": [
    "df_NF.head()"
   ]
  },
  {
   "cell_type": "code",
   "execution_count": 176,
   "metadata": {},
   "outputs": [],
   "source": [
    "L = df_NF.copy(True)\n",
    "L.drop(\"churn\",axis=1,inplace=True)\n",
    "M = j"
   ]
  },
  {
   "cell_type": "code",
   "execution_count": 177,
   "metadata": {},
   "outputs": [
    {
     "name": "stdout",
     "output_type": "stream",
     "text": [
      "0.7857142857142857\n"
     ]
    },
    {
     "name": "stderr",
     "output_type": "stream",
     "text": [
      "C:\\Users\\13154\\Anaconda3\\lib\\site-packages\\sklearn\\linear_model\\logistic.py:433: FutureWarning: Default solver will be changed to 'lbfgs' in 0.22. Specify a solver to silence this warning.\n",
      "  FutureWarning)\n"
     ]
    }
   ],
   "source": [
    "L_train,L_test,M_train,M_test = train_test_split(L,M, test_size = 0.2, random_state = 101)\n",
    "\n",
    "from sklearn.linear_model import LogisticRegression\n",
    "model = LogisticRegression()\n",
    "result = model.fit(L_train, M_train)\n",
    "\n",
    "predict = model.predict(L_test)\n",
    "\n",
    "print(metrics.accuracy_score(M_test,predict))\n",
    "\n"
   ]
  },
  {
   "cell_type": "markdown",
   "metadata": {},
   "source": [
    "## When we do not consider the Ice cream or pizza preference, We get an accuracy of around 78, Which can be improved in future works, which will be discussed "
   ]
  },
  {
   "cell_type": "code",
   "execution_count": 182,
   "metadata": {},
   "outputs": [
    {
     "data": {
      "text/plain": [
       "City_1            0.501497\n",
       "grade_0           0.370454\n",
       "income            0.178345\n",
       "amount            0.008765\n",
       "reaction_time    -0.002433\n",
       "age              -0.018349\n",
       "apm              -0.039466\n",
       "gregariousness   -0.066952\n",
       "Company_1        -0.563574\n",
       "Company_2        -0.707898\n",
       "grade_1          -1.437305\n",
       "City_0           -1.666031\n",
       "Company_0        -1.965262\n",
       "City_2           -2.072200\n",
       "grade_2          -2.169883\n",
       "dtype: float64"
      ]
     },
     "execution_count": 182,
     "metadata": {},
     "output_type": "execute_result"
    }
   ],
   "source": [
    "weights = pd.Series(model.coef_[0],index=L.columns.values)\n",
    "weights.sort_values(ascending = False)"
   ]
  },
  {
   "cell_type": "code",
   "execution_count": 183,
   "metadata": {},
   "outputs": [
    {
     "name": "stderr",
     "output_type": "stream",
     "text": [
      "[Parallel(n_jobs=-1)]: Using backend ThreadingBackend with 8 concurrent workers.\n",
      "[Parallel(n_jobs=-1)]: Done  34 tasks      | elapsed:    0.0s\n",
      "[Parallel(n_jobs=-1)]: Done 184 tasks      | elapsed:    0.1s\n",
      "[Parallel(n_jobs=-1)]: Done 434 tasks      | elapsed:    0.2s\n",
      "[Parallel(n_jobs=-1)]: Done 784 tasks      | elapsed:    0.5s\n",
      "[Parallel(n_jobs=-1)]: Done 1000 out of 1000 | elapsed:    0.7s finished\n",
      "[Parallel(n_jobs=8)]: Using backend ThreadingBackend with 8 concurrent workers.\n",
      "[Parallel(n_jobs=8)]: Done  34 tasks      | elapsed:    0.0s\n",
      "[Parallel(n_jobs=8)]: Done 184 tasks      | elapsed:    0.0s\n",
      "[Parallel(n_jobs=8)]: Done 434 tasks      | elapsed:    0.2s\n",
      "[Parallel(n_jobs=8)]: Done 784 tasks      | elapsed:    0.4s\n",
      "[Parallel(n_jobs=8)]: Done 1000 out of 1000 | elapsed:    0.4s finished\n",
      "[Parallel(n_jobs=8)]: Using backend ThreadingBackend with 8 concurrent workers.\n",
      "[Parallel(n_jobs=8)]: Done  34 tasks      | elapsed:    0.0s\n",
      "[Parallel(n_jobs=8)]: Done 184 tasks      | elapsed:    0.1s\n",
      "[Parallel(n_jobs=8)]: Done 434 tasks      | elapsed:    0.2s\n",
      "[Parallel(n_jobs=8)]: Done 784 tasks      | elapsed:    0.4s\n",
      "[Parallel(n_jobs=8)]: Done 1000 out of 1000 | elapsed:    0.5s finished\n"
     ]
    }
   ],
   "source": [
    "from sklearn.ensemble import RandomForestClassifier #use RandomForestRegressor for regression problem\n",
    "#Assumed you have, X (predictor) and Y (target) for training data set and x_test(predictor) of test_dataset\n",
    "# Create Random Forest object\n",
    "modelRandom2= RandomForestClassifier(n_estimators=1000,n_jobs=-1,verbose=1)\n",
    "# Train the model using the training sets and check score\n",
    "modelRandom2.fit(L_train, M_train)\n",
    "modelRandom2.score(L_train, M_train)\n",
    "#Predict Output\n",
    "predicted12= modelRandom2.predict(L_test)"
   ]
  },
  {
   "cell_type": "code",
   "execution_count": 184,
   "metadata": {},
   "outputs": [
    {
     "name": "stdout",
     "output_type": "stream",
     "text": [
      "0.935064935064935\n"
     ]
    }
   ],
   "source": [
    "print(metrics.accuracy_score(M_test, predicted12))"
   ]
  },
  {
   "cell_type": "markdown",
   "metadata": {},
   "source": [
    "## The prediction considerably decreases, However prediction model can be finetuned by using crossvalidation and scaling of data , giving more data, and also increasing trees and decreasing depth"
   ]
  },
  {
   "cell_type": "code",
   "execution_count": null,
   "metadata": {},
   "outputs": [],
   "source": []
  },
  {
   "cell_type": "code",
   "execution_count": null,
   "metadata": {},
   "outputs": [],
   "source": []
  },
  {
   "cell_type": "code",
   "execution_count": null,
   "metadata": {},
   "outputs": [],
   "source": []
  },
  {
   "cell_type": "code",
   "execution_count": null,
   "metadata": {},
   "outputs": [],
   "source": []
  }
 ],
 "metadata": {
  "kernelspec": {
   "display_name": "Python 3",
   "language": "python",
   "name": "python3"
  },
  "language_info": {
   "codemirror_mode": {
    "name": "ipython",
    "version": 3
   },
   "file_extension": ".py",
   "mimetype": "text/x-python",
   "name": "python",
   "nbconvert_exporter": "python",
   "pygments_lexer": "ipython3",
   "version": "3.6.7"
  }
 },
 "nbformat": 4,
 "nbformat_minor": 2
}
